{
 "cells": [
  {
   "cell_type": "markdown",
   "metadata": {
    "jp-MarkdownHeadingCollapsed": true,
    "tags": []
   },
   "source": [
    "# 스키마 정의 후 Vector Store 생성 \n",
    "\n",
    "이 노트북은 오픈 서치 인덱스를 정의하고, 전체 문서를 청킹하여 인덱스를 생성을 하는 노트북 입니다. 이후에 렉시컬, 시멘틱, 하이브리드 검색을 통하여 인덱스의 동작을 확인 합니다. \n",
    "이후에 전체 문서의 일부를 검증 인덱스로 생성하여, 검증용으로 사용을 합니다.\n",
    "\n",
    "---"
   ]
  },
  {
   "cell_type": "markdown",
   "metadata": {},
   "source": [
    "## [중요] 사전 실행 노트북\n",
    "이 노트북은 아래 두개의 셋업 노트북이 먼저 실행이 되어야 합니다.\n",
    "- (1) Setup 노트북\n",
    "    - 경로는 aws-ai-ml-workshop-kr/genai/aws-gen-ai-kr/00_setup/setup.ipynb 와 같습니다.\n",
    "    -  [Setup Notebook](https://github.com/aws-samples/aws-ai-ml-workshop-kr/blob/master/genai/aws-gen-ai-kr/00_setup/setup.ipynb)\n",
    "- (2) Amazon OpenSearch 설치 노트북    \n",
    "    - 경로는 aws-ai-ml-workshop-kr/genai/aws-gen-ai-kr/00_setup/setup_opensearch.ipynb 와 같습니다.\n",
    "    - [Setup OpenSearch](https://github.com/aws-samples/aws-ai-ml-workshop-kr/blob/master/genai/aws-gen-ai-kr/00_setup/setup_opensearch.ipynb)"
   ]
  },
  {
   "cell_type": "markdown",
   "metadata": {
    "tags": []
   },
   "source": [
    "# 1. Bedrock Client 생성"
   ]
  },
  {
   "cell_type": "code",
   "execution_count": 3,
   "metadata": {
    "tags": []
   },
   "outputs": [
    {
     "name": "stdout",
     "output_type": "stream",
     "text": [
      "The autoreload extension is already loaded. To reload it, use:\n",
      "  %reload_ext autoreload\n",
      "python path: /home/sagemaker-user/aws-ai-ml-workshop-kr/genai/aws-gen-ai-kr/20_applications/02_qa_chatbot already exists\n",
      "sys.path:  ['/home/sagemaker-user/aws-ai-ml-workshop-kr/genai/aws-gen-ai-kr/20_applications/02_qa_chatbot/01_preprocess_docs', '/opt/conda/lib/python310.zip', '/opt/conda/lib/python3.10', '/opt/conda/lib/python3.10/lib-dynload', '', '/opt/conda/lib/python3.10/site-packages', '/home/sagemaker-user/aws-ai-ml-workshop-kr/genai/aws-gen-ai-kr/20_applications/02_qa_chatbot']\n"
     ]
    }
   ],
   "source": [
    "%load_ext autoreload\n",
    "%autoreload 2\n",
    "\n",
    "import sys, os\n",
    "\n",
    "def add_python_path(module_path):\n",
    "    if os.path.abspath(module_path) not in sys.path:\n",
    "        sys.path.append(os.path.abspath(module_path))\n",
    "        print(f\"python path: {os.path.abspath(module_path)} is added\")\n",
    "    else:\n",
    "        print(f\"python path: {os.path.abspath(module_path)} already exists\")\n",
    "    print(\"sys.path: \", sys.path)\n",
    "\n",
    "module_path = \"..\"\n",
    "add_python_path(module_path)\n"
   ]
  },
  {
   "cell_type": "code",
   "execution_count": 4,
   "metadata": {
    "tags": []
   },
   "outputs": [
    {
     "name": "stdout",
     "output_type": "stream",
     "text": [
      "Create new client\n",
      "  Using region: us-east-1\n",
      "  Using profile: None\n",
      "boto3 Bedrock client successfully created!\n",
      "bedrock-runtime(https://bedrock-runtime.us-east-1.amazonaws.com)\n",
      "\u001b[32m\n",
      "== FM lists ==\u001b[0m\n",
      "{'Claude-Instant-V1': 'anthropic.claude-instant-v1',\n",
      " 'Claude-V1': 'anthropic.claude-v1',\n",
      " 'Claude-V2': 'anthropic.claude-v2',\n",
      " 'Claude-V2-1': 'anthropic.claude-v2:1',\n",
      " 'Cohere-Embeddings-En': 'cohere.embed-english-v3',\n",
      " 'Cohere-Embeddings-Multilingual': 'cohere.embed-multilingual-v3',\n",
      " 'Command': 'cohere.command-text-v14',\n",
      " 'Command-Light': 'cohere.command-light-text-v14',\n",
      " 'Jurassic-2-Mid': 'ai21.j2-mid-v1',\n",
      " 'Jurassic-2-Ultra': 'ai21.j2-ultra-v1',\n",
      " 'Llama2-13b-Chat': 'meta.llama2-13b-chat-v1',\n",
      " 'Titan-Embeddings-G1': 'amazon.titan-embed-text-v1',\n",
      " 'Titan-Text-G1': 'amazon.titan-text-express-v1',\n",
      " 'Titan-Text-G1-Light': 'amazon.titan-text-lite-v1'}\n"
     ]
    }
   ],
   "source": [
    "import json\n",
    "import boto3\n",
    "from pprint import pprint\n",
    "from termcolor import colored\n",
    "from local_utils import bedrock, print_ww\n",
    "from local_utils.bedrock import bedrock_info\n",
    "\n",
    "# ---- ⚠️ Un-comment and edit the below lines as needed for your AWS setup ⚠️ ----\n",
    "\n",
    "# os.environ[\"AWS_DEFAULT_REGION\"] = \"<REGION_NAME>\"  # E.g. \"us-east-1\"\n",
    "# os.environ[\"AWS_PROFILE\"] = \"<YOUR_PROFILE>\"\n",
    "# os.environ[\"BEDROCK_ASSUME_ROLE\"] = \"<YOUR_ROLE_ARN>\"  # E.g. \"arn:aws:...\"\n",
    "# os.environ[\"BEDROCK_ENDPOINT_URL\"] = \"<YOUR_ENDPOINT_URL>\"  # E.g. \"https://...\"\n",
    "\n",
    "\n",
    "boto3_bedrock = bedrock.get_bedrock_client(\n",
    "    assumed_role=os.environ.get(\"BEDROCK_ASSUME_ROLE\", None),\n",
    "    endpoint_url=os.environ.get(\"BEDROCK_ENDPOINT_URL\", None),\n",
    "    region=os.environ.get(\"AWS_DEFAULT_REGION\", None),\n",
    ")\n",
    "\n",
    "print(colored(\"\\n== FM lists ==\", \"green\"))\n",
    "pprint(bedrock_info.get_list_fm_models())"
   ]
  },
  {
   "cell_type": "markdown",
   "metadata": {},
   "source": [
    "# 2. Embedding 모델 로딩"
   ]
  },
  {
   "cell_type": "markdown",
   "metadata": {},
   "source": [
    "## Embedding Model 선택"
   ]
  },
  {
   "cell_type": "code",
   "execution_count": 5,
   "metadata": {
    "tags": []
   },
   "outputs": [],
   "source": [
    "Use_Titan_Embedding = True\n",
    "Use_Cohere_English_Embedding = False"
   ]
  },
  {
   "cell_type": "markdown",
   "metadata": {},
   "source": [
    "## Embedding Model 로딩"
   ]
  },
  {
   "cell_type": "code",
   "execution_count": 6,
   "metadata": {
    "tags": []
   },
   "outputs": [
    {
     "data": {
      "text/plain": [
       "BedrockEmbeddings(client=<botocore.client.BedrockRuntime object at 0x7fe1500a6620>, region_name=None, credentials_profile_name=None, model_id='amazon.titan-embed-text-v1', model_kwargs=None, endpoint_url=None, normalize=False)"
      ]
     },
     "execution_count": 6,
     "metadata": {},
     "output_type": "execute_result"
    }
   ],
   "source": [
    "# We will be using the Titan Embeddings Model to generate our Embeddings.\n",
    "from langchain.embeddings import BedrockEmbeddings\n",
    "from langchain.llms.bedrock import Bedrock\n",
    "\n",
    "if Use_Titan_Embedding:\n",
    "    llm_emb = BedrockEmbeddings(client=boto3_bedrock, model_id = \"amazon.titan-embed-text-v1\")\n",
    "    dimension = 1536\n",
    "elif Use_Cohere_English_Embedding:\n",
    "    llm_emb = BedrockEmbeddings(client=boto3_bedrock, model_id = \"cohere.embed-english-v3\")    \n",
    "    dimension = 1024\n",
    "else:\n",
    "    lim_emb = None\n",
    "\n",
    "llm_emb"
   ]
  },
  {
   "cell_type": "markdown",
   "metadata": {
    "tags": []
   },
   "source": [
    "# 3. Load all Json files"
   ]
  },
  {
   "cell_type": "code",
   "execution_count": 7,
   "metadata": {
    "tags": []
   },
   "outputs": [],
   "source": [
    "from local_utils.proc_docs import get_load_json, show_doc_json"
   ]
  },
  {
   "cell_type": "code",
   "execution_count": 8,
   "metadata": {
    "tags": []
   },
   "outputs": [
    {
     "name": "stdout",
     "output_type": "stream",
     "text": [
      ".[]\n",
      "all json files:  1\n",
      "all items:  1732\n"
     ]
    }
   ],
   "source": [
    "import glob\n",
    "\n",
    "# Specify the directory and file pattern for .txt files\n",
    "folder_path = 'data/poc/preprocessed_json/all_processed_data.json'\n",
    "\n",
    "# List all .txt files in the specified folder\n",
    "json_files = glob.glob(folder_path)\n",
    "# json_files = ['data/poc/customer_EFOTA.json']\n",
    "\n",
    "# Load each item per json file and append to a list\n",
    "doc_json_list = []\n",
    "for file_path in json_files:\n",
    "    doc_json = get_load_json(file_path)\n",
    "    doc_json_list.append(doc_json)\n",
    "\n",
    "print(\"all json files: \", len(doc_json_list))    \n",
    "# Flatten the list of lists into a single list\n",
    "all_docs = []\n",
    "for item in doc_json_list:\n",
    "        all_docs.extend(item)\n",
    "        \n",
    "print(\"all items: \", len(all_docs))"
   ]
  },
  {
   "cell_type": "markdown",
   "metadata": {
    "tags": []
   },
   "source": [
    "# 4. Chunking JSON Doc "
   ]
  },
  {
   "cell_type": "markdown",
   "metadata": {},
   "source": [
    "## Chunk Size and Chunk Overlap Size 결정"
   ]
  },
  {
   "cell_type": "code",
   "execution_count": 9,
   "metadata": {
    "tags": []
   },
   "outputs": [],
   "source": [
    "chunk_size = 1024\n",
    "chunk_overlap = 256"
   ]
  },
  {
   "cell_type": "markdown",
   "metadata": {},
   "source": [
    "## Chunking"
   ]
  },
  {
   "cell_type": "code",
   "execution_count": 10,
   "metadata": {
    "tags": []
   },
   "outputs": [
    {
     "name": "stdout",
     "output_type": "stream",
     "text": [
      "Number of chunk_docs after split and chunking= 6825\n"
     ]
    }
   ],
   "source": [
    "from langchain.text_splitter import RecursiveCharacterTextSplitter, SpacyTextSplitter\n",
    "\n",
    "\n",
    "text_splitter = RecursiveCharacterTextSplitter(\n",
    "    # Set a really small chunk size, just to show.\n",
    "    chunk_size = chunk_size,\n",
    "    chunk_overlap  = chunk_overlap,\n",
    "    separators=[\"\\n\\n\", \"\\n\", \".\", \" \", \"\"],\n",
    "    length_function = len,\n",
    ")\n",
    "\n",
    "chunk_docs = text_splitter.split_documents(all_docs)\n",
    "print(f\"Number of chunk_docs after split and chunking= {len(chunk_docs)}\")"
   ]
  },
  {
   "cell_type": "code",
   "execution_count": 11,
   "metadata": {
    "tags": []
   },
   "outputs": [
    {
     "data": {
      "text/plain": [
       "[Document(page_content='How-to videos. Contains videos on how to use Knox E-FOTA. This section contains videos on how to use Knox E-FOTA. Getting started with Knox E-FOTA This video walks you through the Knox E-FOTA console and demonstrates how you can register a reseller, approve a device, create a campaign, assign a campaign, and monitor device status. Creating a campaign on Knox E-FOTA The following video provides in-depth information on how to create and apply a Knox E-FOTA campaign to your Samsung devices. Connecting Knox E-FOTA to VMware Workspace ONE The following video describes the simple steps of connecting Knox E-FOTA with VMware Workspace ONE, while adding device groups from Workspace ONE.', metadata={'source': 'all_processed_data.json', 'seq_num': 1, 'title': 'How-to videos', 'url': 'https://docs.samsungknox.com/admin/efota-one/how-to-videos', 'project': 'EFOTA', 'last_updated': '2023-09-27'})]"
      ]
     },
     "execution_count": 11,
     "metadata": {},
     "output_type": "execute_result"
    }
   ],
   "source": [
    "chunk_docs[0:1]"
   ]
  },
  {
   "cell_type": "markdown",
   "metadata": {},
   "source": [
    "# 5. Index 생성"
   ]
  },
  {
   "cell_type": "markdown",
   "metadata": {
    "tags": []
   },
   "source": [
    "## Index 이름 결정"
   ]
  },
  {
   "cell_type": "code",
   "execution_count": 12,
   "metadata": {
    "tags": []
   },
   "outputs": [],
   "source": [
    "index_name = \"genai-poc-knox-cohere-en-1024c-256o-v20\"\n",
    "\n"
   ]
  },
  {
   "cell_type": "markdown",
   "metadata": {
    "tags": []
   },
   "source": [
    "## Index 스키마 정의"
   ]
  },
  {
   "cell_type": "code",
   "execution_count": 13,
   "metadata": {
    "tags": []
   },
   "outputs": [],
   "source": [
    "index_body = {\n",
    "    'settings': {\n",
    "        'index': {\n",
    "            'knn': True,\n",
    "            'knn.space_type': 'cosinesimil'  # Example space type\n",
    "        }\n",
    "    },\n",
    "    'mappings': {\n",
    "        'properties': {\n",
    "            'metadata': {\n",
    "                'properties': {\n",
    "                               'source' : {'type': 'keyword'},\n",
    "                               'last_updated': {'type': 'date'},\n",
    "                               'project': {'type': 'keyword'},\n",
    "                               'seq_num': {'type': 'long'},\n",
    "                               'title': {'type': 'text'},  # For full-text search\n",
    "                               'url': {'type': 'text'},  # For full-text search\n",
    "                            }\n",
    "            },            \n",
    "            'text': {\n",
    "                'type': 'text'\n",
    "            },\n",
    "            'vector_field': {\n",
    "                'type': 'knn_vector',\n",
    "                'dimension': f\"{dimension}\"  # Replace with your vector dimension\n",
    "            }\n",
    "        }\n",
    "    }\n",
    "}\n"
   ]
  },
  {
   "cell_type": "markdown",
   "metadata": {
    "tags": []
   },
   "source": [
    "# 5. LangChain OpenSearch VectorStore 생성 \n",
    "## 선수 조건\n"
   ]
  },
  {
   "cell_type": "markdown",
   "metadata": {
    "tags": []
   },
   "source": [
    "## 오픈 서치 도메인 및 인증 정보 세팅\n",
    "\n",
    "- [langchain.vectorstores.opensearch_vector_search.OpenSearchVectorSearch](https://api.python.langchain.com/en/latest/vectorstores/langchain.vectorstores.opensearch_vector_search.OpenSearchVectorSearch.html)"
   ]
  },
  {
   "cell_type": "markdown",
   "metadata": {},
   "source": [
    "#### [중요] 아래에 aws parameter store 에 아래 인증정보가 먼저 입력되어 있어야 합니다."
   ]
  },
  {
   "cell_type": "code",
   "execution_count": 15,
   "metadata": {
    "tags": []
   },
   "outputs": [],
   "source": [
    "from local_utils.proc_docs import get_parameter"
   ]
  },
  {
   "cell_type": "code",
   "execution_count": 16,
   "metadata": {
    "tags": []
   },
   "outputs": [],
   "source": [
    "import boto3\n",
    "ssm = boto3.client('ssm', 'us-east-1')\n",
    "\n",
    "opensearch_domain_endpoint = get_parameter(\n",
    "    boto3_clinet = ssm,\n",
    "    parameter_name = 'knox_opensearch_domain_endpoint',\n",
    ")\n",
    "\n",
    "opensearch_user_id = get_parameter(\n",
    "    boto3_clinet = ssm,\n",
    "    parameter_name = 'knox_opensearch_userid',\n",
    ")\n",
    "\n",
    "opensearch_user_password = get_parameter(\n",
    "    boto3_clinet = ssm,\n",
    "    parameter_name = 'knox_opensearch_password',\n",
    ")\n"
   ]
  },
  {
   "cell_type": "code",
   "execution_count": 17,
   "metadata": {
    "tags": []
   },
   "outputs": [],
   "source": [
    "opensearch_domain_endpoint = opensearch_domain_endpoint\n",
    "rag_user_name = opensearch_user_id\n",
    "rag_user_password = opensearch_user_password\n",
    "\n",
    "http_auth = (rag_user_name, rag_user_password) # Master username, Master password"
   ]
  },
  {
   "cell_type": "markdown",
   "metadata": {},
   "source": [
    "## OpenSearch Client 생성"
   ]
  },
  {
   "cell_type": "code",
   "execution_count": 19,
   "metadata": {
    "tags": []
   },
   "outputs": [],
   "source": [
    "from local_utils.opensearch import opensearch_utils"
   ]
  },
  {
   "cell_type": "code",
   "execution_count": 20,
   "metadata": {
    "tags": []
   },
   "outputs": [],
   "source": [
    "aws_region = os.environ.get(\"AWS_DEFAULT_REGION\", None)\n",
    "\n",
    "os_client = opensearch_utils.create_aws_opensearch_client(\n",
    "    aws_region,\n",
    "    opensearch_domain_endpoint,\n",
    "    http_auth\n",
    ")"
   ]
  },
  {
   "cell_type": "markdown",
   "metadata": {},
   "source": [
    "## 오픈 서치 인덱스 생성 \n",
    "- 오픈 서치에 해당 인덱스가 존재하면, 삭제 합니다. "
   ]
  },
  {
   "cell_type": "code",
   "execution_count": 22,
   "metadata": {
    "tags": []
   },
   "outputs": [],
   "source": [
    "from local_utils.opensearch import opensearch_utils"
   ]
  },
  {
   "cell_type": "code",
   "execution_count": 23,
   "metadata": {
    "tags": []
   },
   "outputs": [
    {
     "name": "stdout",
     "output_type": "stream",
     "text": [
      "index_name=genai-poc-knox-cohere-en-1024c-256o-v20, exists=False\n",
      "\n",
      "Creating index:\n",
      "{'acknowledged': True, 'shards_acknowledged': True, 'index': 'genai-poc-knox-cohere-en-1024c-256o-v20'}\n",
      "Index is created\n",
      "{'genai-poc-knox-cohere-en-1024c-256o-v20': {'aliases': {},\n",
      "                                             'mappings': {'properties': {'metadata': {'properties': {'last_updated': {'type': 'date'},\n",
      "                                                                                                     'project': {'type': 'keyword'},\n",
      "                                                                                                     'seq_num': {'type': 'long'},\n",
      "                                                                                                     'source': {'type': 'keyword'},\n",
      "                                                                                                     'title': {'type': 'text'},\n",
      "                                                                                                     'url': {'type': 'text'}}},\n",
      "                                                                         'text': {'type': 'text'},\n",
      "                                                                         'vector_field': {'dimension': 1536,\n",
      "                                                                                          'type': 'knn_vector'}}},\n",
      "                                             'settings': {'index': {'creation_date': '1708847907778',\n",
      "                                                                    'knn': 'true',\n",
      "                                                                    'knn.space_type': 'cosinesimil',\n",
      "                                                                    'number_of_replicas': '1',\n",
      "                                                                    'number_of_shards': '5',\n",
      "                                                                    'provided_name': 'genai-poc-knox-cohere-en-1024c-256o-v20',\n",
      "                                                                    'replication': {'type': 'DOCUMENT'},\n",
      "                                                                    'uuid': 'N7Mu6YEqSZGy3ThegFEB4g',\n",
      "                                                                    'version': {'created': '136327827'}}}}}\n"
     ]
    }
   ],
   "source": [
    "\n",
    "index_exists = opensearch_utils.check_if_index_exists(\n",
    "    os_client,\n",
    "    index_name\n",
    ")\n",
    "\n",
    "if index_exists:\n",
    "    opensearch_utils.delete_index(\n",
    "        os_client,\n",
    "        index_name\n",
    "    )\n",
    "\n",
    "opensearch_utils.create_index(os_client, index_name, index_body)\n",
    "index_info = os_client.indices.get(index=index_name)\n",
    "print(\"Index is created\")\n",
    "pprint(index_info)"
   ]
  },
  {
   "cell_type": "markdown",
   "metadata": {
    "tags": []
   },
   "source": [
    "## 랭체인 인덱스 연결 오브젝트 생성\n",
    "\n",
    "- [langchain.vectorstores.opensearch_vector_search.OpenSearchVectorSearch](https://api.python.langchain.com/en/latest/vectorstores/langchain.vectorstores.opensearch_vector_search.OpenSearchVectorSearch.html)"
   ]
  },
  {
   "cell_type": "code",
   "execution_count": 24,
   "metadata": {
    "tags": []
   },
   "outputs": [],
   "source": [
    "from langchain.vectorstores import OpenSearchVectorSearch"
   ]
  },
  {
   "cell_type": "code",
   "execution_count": 25,
   "metadata": {
    "tags": []
   },
   "outputs": [
    {
     "data": {
      "text/plain": [
       "<langchain_community.vectorstores.opensearch_vector_search.OpenSearchVectorSearch at 0x7fe11daff220>"
      ]
     },
     "execution_count": 25,
     "metadata": {},
     "output_type": "execute_result"
    }
   ],
   "source": [
    "vector_db = OpenSearchVectorSearch(\n",
    "    index_name=index_name,\n",
    "    opensearch_url=opensearch_domain_endpoint,\n",
    "    embedding_function=llm_emb,\n",
    "    http_auth=http_auth, # http_auth\n",
    "    is_aoss =False,\n",
    "    engine=\"faiss\",\n",
    "    space_type=\"l2\",\n",
    "    bulk_size=100000,\n",
    "    timeout=60    \n",
    ")\n",
    "vector_db"
   ]
  },
  {
   "cell_type": "markdown",
   "metadata": {},
   "source": [
    "## OpenSearch 에 문서 삽입"
   ]
  },
  {
   "cell_type": "code",
   "execution_count": 26,
   "metadata": {
    "collapsed": true,
    "jupyter": {
     "outputs_hidden": true
    },
    "tags": []
   },
   "outputs": [
    {
     "name": "stdout",
     "output_type": "stream",
     "text": [
      "CPU times: user 15 s, sys: 771 ms, total: 15.8 s\n",
      "Wall time: 11min 43s\n"
     ]
    },
    {
     "data": {
      "text/plain": [
       "['fb62d2a5-26b0-41b2-af48-cf2c58b55b66',\n",
       " '6754a94f-fd39-46ad-8b54-73459be2787e',\n",
       " '0bcd6e74-1d35-48d1-9eb2-33304925c81a',\n",
       " '0e9f3dfa-8d0a-4b57-bb58-25c888806a25',\n",
       " '118ddf98-a1de-4a5c-b5d9-d5f62120f13d',\n",
       " 'a7fa9c90-3532-467a-9a34-ab71a4a69cdb',\n",
       " 'b3095ba2-118d-4f8e-a99a-f2e1e17ee015',\n",
       " '3f713262-2f67-4d68-a08b-45d6fa9f0f3a',\n",
       " 'd3376d9e-a450-4403-80ff-7f6ab21fb5ea',\n",
       " '631072f0-e289-4947-a3ad-da9eb5730506',\n",
       " 'a27e8d53-30c1-4e0e-bba9-411c620bd675',\n",
       " '73743e78-8dc7-4546-84c2-fc42e8d4228e',\n",
       " '5421c198-3a41-4660-b547-10101b14d129',\n",
       " 'bc92053c-a985-4016-bedf-a0f434d8773e',\n",
       " 'e48194e8-d06a-4a34-93d3-34870c97268b',\n",
       " 'cc16561a-f9ca-4f03-a243-693548a46abb',\n",
       " 'd2d46f9d-fafa-45f0-a87d-977306a992ff',\n",
       " '62167737-603f-4f94-bf93-cff8e31676a4',\n",
       " '658f66e3-52df-4e80-9145-bfbf8c887df6',\n",
       " 'b8aaa89a-62fd-49a4-bb7f-ab1cdc9b2eba',\n",
       " '73e231b3-b4ad-4d1b-ae89-40c9a5f40b23',\n",
       " '1a16305a-6245-43ef-a415-a0f8a551947b',\n",
       " '62c3582d-0865-4005-a087-752e58036536',\n",
       " 'f1e520f9-bb74-40c1-8d44-05407d1d1237',\n",
       " '2cbb0fba-b630-4338-b422-dabd8af9af1b',\n",
       " 'f75440ad-2ff1-493e-91c5-74cbfaf179fe',\n",
       " '86b777a6-5b7e-44b4-b779-ed58d03b95a3',\n",
       " 'e747e367-dea4-405a-b47c-b26ee54a74cc',\n",
       " '95ecee82-2864-4fea-ba16-4adfe57b81a1',\n",
       " 'b0f66c4c-52d9-465e-b228-297f964622e4',\n",
       " '53e4502f-feed-4d4d-aa58-cfab6422b7fa',\n",
       " '4630dd22-7c5f-4351-bd66-53b0c6286ccf',\n",
       " 'f55cc3e2-aad0-4074-bef5-ad1a102b9b4c',\n",
       " '03d286fc-409f-4eb8-a835-f585a60c1024',\n",
       " '16f698e9-b89a-406f-952f-86f467203b00',\n",
       " 'c69acb09-aa89-4f0b-b959-b2a507a9ffc7',\n",
       " 'bb9d7745-2702-4705-9286-193702845eaf',\n",
       " 'eefa2836-7f1a-484e-bfef-375cee7b6723',\n",
       " 'a2eb4475-4a8b-4368-acc6-54a38cbd6d38',\n",
       " '9a8d97b7-b4a2-4b82-951f-81ee8545a9f5',\n",
       " 'cbb9acfe-be86-464f-b0e4-3502faf2ba6e',\n",
       " 'e839a8de-a788-4694-90ee-9aee25bdf50e',\n",
       " 'fd54d206-be3a-4e30-bb4b-5b6b45d36e8a',\n",
       " '1dd3f43b-6564-4b7c-ab5d-d50714757eb9',\n",
       " 'a6cf8144-c3ef-45e5-ae38-5d679ecec197',\n",
       " '957c17bb-3c53-4eea-9ddf-9a18237c56bd',\n",
       " '6b89ef64-a923-447f-a593-96e864a872ad',\n",
       " '3a92053a-5589-47ed-a15e-df3870129896',\n",
       " '37975e6f-23ab-4f33-9e8c-6f2cc4fa26fe',\n",
       " 'e17019d9-dfbe-4845-98da-575272fc034d',\n",
       " '3511955d-1346-45b3-a911-c4a419d29a37',\n",
       " 'c39ff301-8066-4ddf-90be-b9f1fd26ed45',\n",
       " '63628621-25c2-43bc-8fa1-4387774252b6',\n",
       " '8ec424ab-60a7-433b-8650-336920c39dca',\n",
       " 'f5095297-eb44-4dfb-beb3-18bdd7d8583d',\n",
       " '18ae8529-e944-4e67-a348-09aa12c0b116',\n",
       " 'c0f730f3-31eb-4771-8fda-e531d782088a',\n",
       " '6284a5d0-3094-4835-a7cc-cbfdf6473dd4',\n",
       " 'ea9382e7-095b-44df-9191-f15edf66282b',\n",
       " '325a4f55-18e6-48d3-b76e-67ffa198aca2',\n",
       " 'a32b6d5c-1874-452a-b1da-cb2708b0747a',\n",
       " '61fb65b1-8009-45f9-9d38-8ca164dd6493',\n",
       " '531a65e9-7c4a-4fc5-b553-8de5f66e54bc',\n",
       " '61654c6d-b51d-4ffa-a7b5-97d840740193',\n",
       " '7988dbdf-89c1-4173-b958-0d18412e9f5a',\n",
       " '1d428ab3-4260-43ec-bf22-a20c364b5927',\n",
       " '05df7a8b-f076-4e71-844e-1096c351fdda',\n",
       " 'e971f842-6f8c-41cf-b3be-6d4c7a2fdd49',\n",
       " '4c4e7af2-325d-4bff-9db7-0fc083767dde',\n",
       " '2933b31a-04ce-41a7-843c-5e163565e848',\n",
       " '9aa790f6-0d92-4bc5-841d-619b60ad9ec9',\n",
       " '6fd6365f-1fa6-4bdd-9f80-b31c262a4d30',\n",
       " 'c7aa782f-f283-48ae-b1dc-294954910b2d',\n",
       " '7898275f-0623-4ce3-82b7-ffe41c73833b',\n",
       " 'ae3f64f4-5111-4a89-bdc8-282dca29dee2',\n",
       " '772b1884-6b1b-403c-bcc0-1316f9fcaa33',\n",
       " 'ff932a06-d2e4-4e5e-a80d-a88a8326e1b1',\n",
       " '550b367e-13a3-426c-b613-9817d0090f54',\n",
       " '00b14f90-65dc-4eeb-8f5c-acf82327687f',\n",
       " '3a6c2f41-1693-47f8-9f85-e5fbc219c169',\n",
       " '40d84cff-7451-4984-9df3-ee1ac1d3778a',\n",
       " '9e20a1d0-3ccb-4b4c-b22f-5429b326643e',\n",
       " '80709603-e36e-4e63-a8df-bfea98db5031',\n",
       " '925d8ff8-0c9b-4149-bb23-19924571b33e',\n",
       " '3ac9ebb9-a202-4108-ab1b-f5915f3b69e3',\n",
       " '13991312-525d-49b9-8577-1cec07167b60',\n",
       " '86365d91-790f-4526-ba3c-0fa85a09bdbf',\n",
       " '215d83c7-c93b-4720-8a39-384309901d54',\n",
       " '665a591a-0e2c-462e-8ed9-a0994c5d84a9',\n",
       " '6ee8c27c-8d3b-4118-b45c-0cb6dce360d4',\n",
       " '2ca495de-d32c-4145-b3c2-61f8508def14',\n",
       " 'dff6fc21-e5c0-4157-970d-9d90ce623d20',\n",
       " 'cafea748-94a4-4da8-ba17-db45b1de0f3c',\n",
       " 'ae323cfe-f7ef-4520-a9d9-ff83658ddbbd',\n",
       " 'df01e82f-e39e-4435-98b3-63f33a707b73',\n",
       " 'b1ffa3dc-eec6-4de7-8bb1-b31e0846a388',\n",
       " 'd47c41d3-bcbc-4263-ba64-59dc6e63b045',\n",
       " '694f442e-e2a2-4cee-a986-eb0eb5608d26',\n",
       " '56d51113-3413-4cb8-aeeb-3a6ff610dc20',\n",
       " '23bd2f7a-d291-46e9-9f9b-4eca8a6806bb',\n",
       " 'e0ebebaa-dfde-47cc-9615-974662c7cfab',\n",
       " '1fe74699-bc76-4b86-91a8-1df26fb6b051',\n",
       " '965880f5-c6c7-4bb6-9b0e-e73a0987a455',\n",
       " 'd274db3f-fe53-49ec-a005-fd40cf4ce399',\n",
       " 'e9e7e1dc-1f01-43c4-b9c5-12d45e7b38ed',\n",
       " '32ed5804-eb63-44d0-9078-f545bb2613e9',\n",
       " '8df31834-8fea-47ad-b5a5-74b1b32b345f',\n",
       " 'da0b4830-6ce8-43d2-82cf-f5de5297956a',\n",
       " '8819ac8f-0f52-41ec-8e4a-6341e2b181ac',\n",
       " 'a2fc55e9-9c1b-4a25-8b02-92bc525ed4e3',\n",
       " '61274a4c-3847-400d-b21f-21493dec10c1',\n",
       " '3ad40818-47a6-468e-bc6f-39fd79b248dd',\n",
       " 'dd2043b9-ca55-479f-a7c4-9dbdcb2b72c5',\n",
       " 'dc56ba67-e27f-4b4c-a4b7-0d337c743fa2',\n",
       " 'aaa1dd00-945f-491c-85db-c2584dfc439f',\n",
       " 'eda82cec-63cf-4594-b78d-c2206a33672b',\n",
       " '3c0f72b7-e230-4595-b782-1633b3a3cec3',\n",
       " '30618a13-41ef-4020-a05d-8aaecdc96f27',\n",
       " '9ffcc62a-5324-472e-bcfe-09733d9d676a',\n",
       " '38b6678c-7145-49b9-a9cd-5b2cb0841ef9',\n",
       " '0157ad4a-2e02-45a9-be67-c61ea390cab7',\n",
       " 'c78439d4-6d86-4238-9afa-2043cea4c6dd',\n",
       " 'f0436020-ea82-4b91-be08-33d3e1577538',\n",
       " '30920247-c543-4475-8d43-3b1177c63053',\n",
       " '9e0c4cd6-837a-4c79-bb2f-e54736b53322',\n",
       " 'c87b9b60-9d69-4db2-97d4-423fdb03a8dd',\n",
       " 'fdf9d048-b830-4a14-b2c8-6a8382eb2a9b',\n",
       " '8e5ded92-abe6-415e-a241-f032c03be083',\n",
       " '63c97a4e-43df-4d3c-ba3e-d585cec76ee9',\n",
       " '60bc71bf-e98b-44e9-9bd0-e68f10732d13',\n",
       " '10508772-a9b4-4d76-8a38-66d9bfc0e36c',\n",
       " '9003e12e-d845-4e41-a499-09ad2b2df004',\n",
       " 'dd9a8443-c799-488b-8a87-89cc6fed1a19',\n",
       " 'c5eef16d-340b-4b16-907b-f92a4edad3d6',\n",
       " 'e93c02b7-cd97-441a-bfff-451bdb2a52d6',\n",
       " '771dcea7-896c-44e1-852b-a68eae9ac1e9',\n",
       " 'd1080935-432f-47f3-8997-8e6cfdf0d95e',\n",
       " 'f26ee53c-f182-43e1-a551-c7c4f24bdbb6',\n",
       " 'f36834cd-8257-47e4-b99b-69bd1a55e4c5',\n",
       " 'f29542b9-e110-4946-ac01-2ef33c81f60b',\n",
       " '12c3e724-8ac0-4b7e-a9c9-3be5078eb27f',\n",
       " 'fce5b8b8-391a-4a57-a114-18855bbad07b',\n",
       " '5e36886a-aa12-4049-b0dc-befb95a27c16',\n",
       " '77f97bb7-ddfa-42a6-86c1-0e630a67c2ef',\n",
       " 'dd68c361-416c-46e1-bbb8-00fbab739feb',\n",
       " 'bf9b9ebf-b941-4f6a-bf83-e9a424ef829b',\n",
       " 'eb917dd5-f547-4bd9-b75c-4a3b7c799041',\n",
       " 'e2e8d3dc-f5d3-43c7-a229-107f6d50c11a',\n",
       " '202248f3-cc32-43f8-96e7-9ae5e81817df',\n",
       " 'c748d969-ccd2-412e-8ef8-fa87f0170a75',\n",
       " 'c264cb56-66d8-4d39-9a95-e92962b2eac9',\n",
       " '7fcf69fb-e465-41d0-88f3-d5ff4fd90095',\n",
       " 'f37208c6-05d0-40ec-8c54-58a88596bdd2',\n",
       " 'c88ebc25-cf41-4d84-b86d-adbf06407753',\n",
       " 'b875b92b-7247-44d4-b30d-7ce6d2a56a01',\n",
       " '115310c6-6a4e-49fc-88ac-35f282f75461',\n",
       " '354fa002-4983-495f-b9aa-340b92af23e5',\n",
       " 'c0903149-9604-4c1e-9276-a972de4d5d08',\n",
       " '75c9c79b-2f1c-4efb-bf56-3cae838bda42',\n",
       " '4a5bbe6b-ebe6-46ee-980f-0e67e9a90344',\n",
       " 'f3223207-8532-4fde-9677-2cacbb4179d0',\n",
       " '9e9296d6-6237-4139-8d4e-aea1870db00f',\n",
       " 'ea83abd3-6685-4810-89b8-897869a6bbce',\n",
       " 'ad4f7984-82fd-4a5c-b128-aaa8eec7b81d',\n",
       " 'dda8eed0-535b-43ad-abf5-b695bb6a7a57',\n",
       " '4b9b5730-5d07-4ff1-bc21-2f364de16cec',\n",
       " '3efaf9eb-7126-4253-b629-01c242772a64',\n",
       " '305966db-b87c-4e0b-a0fb-4cbfcdf3bb56',\n",
       " 'ecf683fb-1936-4715-8fa5-99fde8528178',\n",
       " 'fca591f3-62ae-473a-9f1c-9369ded505d8',\n",
       " 'b9090c22-4f8d-410b-9821-1dec4fbb29cb',\n",
       " '7b9a6a28-c5b9-40f7-a33b-69818ecdfc44',\n",
       " '7f11dd78-0f3c-4f9e-a658-b4795e6564fe',\n",
       " 'cc14a3b9-d568-4c1c-9020-53a6e2cb8f57',\n",
       " 'fdfb24e4-0d60-478d-99bf-37cd86ae6179',\n",
       " '28b8ee51-e35e-49d3-beb1-0fba8e438187',\n",
       " '10d48039-dd9f-467c-b94a-b11334f9a92a',\n",
       " '1509de9d-5fc1-4a9a-992e-1bfa83c307f8',\n",
       " '7ec8f512-a0ad-4fde-88e6-5d587f89f862',\n",
       " 'fac02619-8d99-4b3a-9ba9-724788d155d2',\n",
       " 'a8f49e37-bb30-4dd3-b9ef-84f7834e9e97',\n",
       " 'e9f08fe2-e2ae-4674-aee9-8e354b200ae4',\n",
       " 'f8b19999-76fd-445a-88cb-095bca4057e9',\n",
       " '756caa26-58b5-4c7d-a035-be795d39a5ca',\n",
       " '67044145-fad3-498e-bcc3-d51c5ced1419',\n",
       " '0c4e3216-b8ad-4573-9537-fa826683fc84',\n",
       " 'ed19b08a-a5f3-4165-af29-48116eec2dcd',\n",
       " '96b0bb12-a5dd-4530-a260-04049c73aaf2',\n",
       " '67cc5c06-3492-41a0-bec0-86f2602c58be',\n",
       " '881b3f43-4594-4a67-87ba-00560addf408',\n",
       " '6634a98d-85bb-494e-95b2-1b0603323748',\n",
       " '8a2d0581-0c29-4e7d-85ea-afafbefe86fd',\n",
       " '7cd86a26-4ee4-4ebe-b2cb-e587efa2eb34',\n",
       " 'c2747701-aaaf-48fa-a607-f67020f29e8c',\n",
       " '78c731d4-4c63-4366-89ce-a11a83fdd90f',\n",
       " 'e6415201-ced4-4b42-a789-be021f32304c',\n",
       " 'e64e4395-a293-4cec-8f51-40fa599cb283',\n",
       " '7630bb11-b4b2-4ca5-9fa0-bd3a43a3aa6b',\n",
       " 'ae232ae2-dfed-4b4f-b165-fc8eb8e373e1',\n",
       " '5b96d839-f6e7-4772-900e-218505a066ca',\n",
       " 'a9e4f927-efb3-40bb-8c91-dd078ab27132',\n",
       " '3d3eb248-9f82-41f4-a09b-e69ec0df9246',\n",
       " '29986387-a67a-4d79-b3d1-323166ff7337',\n",
       " '1ff09a9e-a6f5-478d-b508-c2df17475f35',\n",
       " 'fef04446-c462-4fb1-a4b6-6b3104a3934c',\n",
       " 'ce06267c-e828-40e5-94c3-274911280bc5',\n",
       " '15d202ca-eea6-4a3a-953a-db0290e1555d',\n",
       " '7175f713-4281-4ea6-803e-27c906353c3d',\n",
       " '96b43daf-2d23-4066-99b4-da2b6186389a',\n",
       " 'e6d44a47-0f51-43d6-b27c-569f27e804dc',\n",
       " 'e58d2e13-6838-4b2c-b2b3-7a4e9f9236e8',\n",
       " 'cb7a9138-7bce-4a5d-abc9-ebc6f9f1aa9b',\n",
       " 'e7613a3d-c3af-4e6f-8772-8673d06f1539',\n",
       " '02dbb8c0-7352-48ac-ac12-1cf98ad9d219',\n",
       " 'f5c4896e-dd5b-40e0-8e10-3202724d4804',\n",
       " '87abcefd-8ca2-4983-a9b1-bc751e172d99',\n",
       " '63edf27a-1c30-40d3-9dc9-1f08cd7a7250',\n",
       " 'e5c5bd99-9a7a-4a22-8873-9b28ace46c5e',\n",
       " '48281ebb-08a6-4462-a3ed-1475a0c8c96d',\n",
       " '981f024b-edbb-4f38-a9f2-5c7509d320e4',\n",
       " 'c4faf2ac-54a3-4446-b9cf-49b062705d02',\n",
       " '1df37110-32f9-47a2-ab6b-a86eeae0356e',\n",
       " '5db7ffba-518b-4a63-a41a-08be414bf06c',\n",
       " '7de06401-3902-47fb-91f8-ebb3920a4ad0',\n",
       " 'd8dab080-f108-4a29-b226-1246184daccc',\n",
       " 'fa0c5c0c-904a-4924-8fd8-4c0f790df6c0',\n",
       " '357e7ace-b2f2-48c5-a277-a8d70ec8b7df',\n",
       " '8f6dfaff-61db-4b73-ba32-a06fa6ce2592',\n",
       " '758dfa34-9d0e-4674-b97d-151e72e5a54e',\n",
       " '56913f98-ff6e-413a-84b8-c35e09610be1',\n",
       " '77769414-0565-4944-ae10-209a5740b874',\n",
       " 'c4e1d4bd-e0fd-4914-a507-dd8f90ee7964',\n",
       " '212a681e-4f23-43a5-b23e-2b95ab14fa79',\n",
       " '1c3bc81a-2a2e-4ec7-aafb-f19c88798fad',\n",
       " '4761dbc3-5ac6-4322-b10f-67c3987f5023',\n",
       " '1a164671-443b-4d7d-9148-9c99eb1c64e4',\n",
       " '73a3b097-cd59-4e47-bd33-07a81f104efe',\n",
       " 'f7826c63-47f3-4bc8-9e1f-2cc184490842',\n",
       " '9edbcbdc-36fc-442f-9f23-8dc33f26295a',\n",
       " '14a45148-19b5-49bf-90ab-82fa8d51c323',\n",
       " '40e1dc77-b739-4a2f-93be-1237ac8a8e39',\n",
       " 'dedc213a-e170-4d9a-91a1-27b1cb917737',\n",
       " '910a3567-fba5-4567-ba2e-bca828db7299',\n",
       " '0d5e4cbe-02b0-4852-8ce0-2ff7b6e82e64',\n",
       " 'f1fe16ca-348a-406c-9608-757f8fb5b111',\n",
       " '7b07ca17-470c-4093-810b-1c9d41794e45',\n",
       " 'e6173521-2052-4310-a44b-9aa971ab5411',\n",
       " '45b017cb-81ae-4fad-ad89-aa7f1e0a1c6a',\n",
       " '0c08493b-f3d5-4ac5-a6dd-de6c5a9718bd',\n",
       " 'bf7e8606-e162-4920-8218-573111a21110',\n",
       " 'f9728f2a-a8bc-4892-8c41-ed4b19c90782',\n",
       " '92dc87c1-c7a4-4543-8dbd-8dd3b079bab1',\n",
       " 'fd87fdfc-9ee9-4e43-99df-77f81031cf8e',\n",
       " '59902bf6-9faf-4d12-ad14-2254708e5688',\n",
       " 'b1f6e115-ae91-4280-9786-bf17916ae8ba',\n",
       " 'cdb2620d-3041-4e39-986f-fb0788bf22ab',\n",
       " '2bf9d1ed-9134-4963-97a5-621d9988e09d',\n",
       " '4aa6d4d9-48e2-458f-968e-7cb433dfcc76',\n",
       " '2acd508b-8b9e-4913-a7a2-45224cb83495',\n",
       " 'ca0472ac-b5e3-49c3-b506-c86a89c811f2',\n",
       " 'c7e43bce-2e94-415e-ab75-9b0f8a5bfd9f',\n",
       " 'a0892d8e-af65-4427-86df-ca4b4fc96f85',\n",
       " '866495c9-b740-45e5-8f7c-dc290486aa9d',\n",
       " 'e6805a63-2ae3-4462-b538-00eba2a01b45',\n",
       " 'aa2d130f-2e5c-4df6-8242-3af194686e50',\n",
       " 'ce8ed18c-e851-45ab-b2a5-b048de174eb8',\n",
       " '0be399e8-f3fb-4819-b59f-4d4d5c9fb208',\n",
       " 'd510cb28-68f7-4cfe-bf98-99e50c5bedcc',\n",
       " '499f4f2e-d44d-4fcd-900a-30cb70044dcf',\n",
       " 'c1ec8a1f-7c33-455a-8057-a4dc43615837',\n",
       " '923b42c3-b4ed-4fc8-9b9b-768dee486077',\n",
       " 'd1852130-a95a-494e-aa3b-e1076677ee7f',\n",
       " '3c3cc4cb-df12-4617-b4ec-137df195bb94',\n",
       " '0afcdab8-5d95-49d8-8d93-8d5ebaf233a7',\n",
       " '7e1a0576-8b4e-4774-af8e-6b935257a8b2',\n",
       " '7ad53e98-32aa-43b9-b1a8-e16615f23516',\n",
       " '0ed66458-9d8f-4fc1-99a3-ea7b6a75c936',\n",
       " '6c06fac6-0edc-4e24-8f14-c13355738765',\n",
       " 'b9fd2afb-a28d-4de7-8b6c-bf07986c87aa',\n",
       " '7c8a5530-9d30-4e38-a49e-d5414150ea82',\n",
       " 'f3c18b08-eaab-4884-98d8-d7a7d1241542',\n",
       " 'e77561a7-03ab-43ec-9b64-062d1afb15e2',\n",
       " '897ff7d8-5495-4b99-a8a2-00182163b7c4',\n",
       " 'a55f1892-5f77-41a4-9f1e-c3cee8682009',\n",
       " '25203b26-e178-41f6-8a41-1e5d8ac0827e',\n",
       " 'afb2b03d-6d45-41b6-b106-e52510456585',\n",
       " '94a0da00-e625-4dae-96f1-b68d98f7fbca',\n",
       " '1e962f0e-2295-4024-a6bd-b75be3c2de02',\n",
       " 'e5af2eaa-b80e-43f3-a1c2-480120b7756e',\n",
       " '409b599c-5288-4f0d-bda5-1b2158e42c9c',\n",
       " '37f96fd6-2b68-4a7e-bc87-66d5e39590af',\n",
       " '9fbe0389-ee24-41b2-a497-bec13c87a4dd',\n",
       " '0895264a-e91b-4e25-a1ed-02e533f87c42',\n",
       " 'acf2eb5b-9fd9-4e92-9800-07025f81d1b8',\n",
       " '7fc68d4c-0dd5-4035-b180-1973cea5de6d',\n",
       " 'b7c58a7b-8965-4659-a07e-586c694c9955',\n",
       " '8537b3c7-4244-4245-b17d-05c75b861beb',\n",
       " '9f3ebf91-b12f-49f4-8093-039df7f1c2f1',\n",
       " '659a1c53-4704-4aa7-8c9f-d2610f9a3771',\n",
       " '0071386a-ccc0-4524-9733-7ab42bf0aabf',\n",
       " 'dd5cd325-e1e4-48b0-90c2-1df0d08c43c7',\n",
       " '8429d6c7-5c0f-4727-b5ab-c26abd4c4311',\n",
       " '94ac6685-0ae5-4be4-951b-75b4b7a767e1',\n",
       " 'e03f187d-99fb-4bd9-85d7-794d3996ae01',\n",
       " '06a87b09-b698-41a2-89e2-851bce43e959',\n",
       " '07f8ed9e-68b2-406b-bafb-5d56de3d612b',\n",
       " 'c1c7d39e-fdcb-4d43-9071-58b18fbf41bc',\n",
       " '5ab56056-ff3a-4d18-9d33-225f384ee664',\n",
       " '197a3a57-e176-4f20-b7a5-9573a862533b',\n",
       " '4980bb6a-f8ca-4c41-9fcd-481e67db3867',\n",
       " 'b35292cc-1ccf-4afc-86a1-88314a5c3e53',\n",
       " '5fe9aaf4-6de5-4c00-915d-4648a14d6bdd',\n",
       " '32be314d-8cee-4492-abfa-f9becb2f4183',\n",
       " 'a08aaf86-3973-4ffa-8b29-4b7aebc8305e',\n",
       " '9e420172-1864-4e8b-84bc-ed1a3a1a3bc7',\n",
       " '1d10ab24-11b0-40af-b5e1-909f2af96dec',\n",
       " '824b7ee7-7e7e-4973-bf19-658b8ab36426',\n",
       " 'b0acfa59-da94-4eb2-83d9-e437d8ead680',\n",
       " '0f586698-f6e8-484a-a5ac-9272d9484898',\n",
       " '778ab291-32e1-4f18-a8c4-31e440cbc861',\n",
       " '3e3beec8-1494-4986-a8c2-119ce39643a6',\n",
       " 'ab8a12d4-0702-47e7-bc7b-b28c44a27971',\n",
       " '53582602-b08e-4989-beb9-e42ed1b02206',\n",
       " '56bc7459-03a2-4bf5-8b6d-fd59fca2a7be',\n",
       " '93adaa46-ec42-4a64-8e0c-5afdb8f5bb0a',\n",
       " '27482f2f-3352-405c-a0dd-0e1441f0e073',\n",
       " 'c5695fc9-276b-4a14-a4a9-7c20727ca69e',\n",
       " '44bc3471-fa65-464d-b261-53afa8f43a88',\n",
       " '7ff2f1a2-dec2-456a-b776-f790ff42e003',\n",
       " '5a786a83-06bc-4379-ad31-9583f2759425',\n",
       " 'e7b28cc7-fdfb-4c10-bb14-1500d9eef26f',\n",
       " '0f01bdd5-10e7-4e80-a433-723f37aa9a5b',\n",
       " 'e8ae1a2e-afce-45f5-92df-ccc8ea12bd07',\n",
       " 'a3ecea0c-92c9-41e1-a0ca-b2b3fff20a8e',\n",
       " '4d66bcc2-c9e4-44cf-898a-145047b5eb18',\n",
       " 'ef146b37-dab0-4073-a549-c058ea8eecd2',\n",
       " '975cfc03-7fae-4aa4-8b7f-d077a8fab199',\n",
       " 'b0b240c3-c0d3-4a95-b36f-a4622c4babce',\n",
       " 'e3093853-34ba-4af9-8b78-e3513f851692',\n",
       " '03447298-33c5-4271-aafc-df2e6bf361d3',\n",
       " '5430f311-4245-4741-a725-8d7002d17875',\n",
       " 'c404de4e-16ef-4330-a3cd-789be84abd45',\n",
       " 'ebb7d863-5810-441d-a76e-20a42a8a2d14',\n",
       " '0b2b8cc7-3224-48bd-bd88-5925c8d8b619',\n",
       " '19e6bff4-b2f2-415c-8181-434f2911cfe1',\n",
       " '1dd290f3-9eef-40b0-8048-666be36c32c4',\n",
       " 'a648f9c5-cc0c-401e-80d8-25aa0960a26c',\n",
       " '723e4229-c62f-45b5-a344-8366651c5908',\n",
       " '21b70700-c912-4239-bac7-4cb129a0fd68',\n",
       " '5497f979-9e46-4ae1-8130-4279d52de8fb',\n",
       " 'd1ab0589-ef76-417f-821d-48a00d87677e',\n",
       " '7e002557-026d-4d94-bfe2-d275d5833f38',\n",
       " 'ab140cd0-ea3d-4ddd-80ad-14179288d979',\n",
       " '5e5c8fb8-da8e-4b3e-8bc7-186357c69f9f',\n",
       " 'c9e4b6b6-50ad-412f-b337-2e5a145691cd',\n",
       " 'be5372e3-6a92-4e15-a955-a7501e86ec48',\n",
       " '23c33c6b-ad52-49dd-b8b0-77acb3f2bf8b',\n",
       " '9b0788b4-fed2-4bf9-9f2e-6878f3903c28',\n",
       " 'ed8be389-09ac-49b3-9af5-73dfab4d15d4',\n",
       " 'a2a69116-c744-4cd9-8294-6a604970a3d3',\n",
       " 'ceb540ad-a1e0-4698-862e-a2945db7c604',\n",
       " '69c14bcd-ae1a-435d-8aa1-9b3a35a69933',\n",
       " '0abd4154-ce94-4800-a367-2783d49f8063',\n",
       " 'f440f86c-9ea4-4aaa-a81b-72a9459698a5',\n",
       " '622cb28f-5282-47e5-b320-4b2daa4da4b3',\n",
       " '084f89a9-f5a4-4622-9e9b-44a53e16b032',\n",
       " 'bde319a5-3fb6-4eaf-a772-23cf904865b4',\n",
       " '80d02a42-21ab-4481-a2b1-a4624621226f',\n",
       " 'a3307e78-6184-48fc-b4b1-abddc12016e4',\n",
       " '459dfe16-0364-415d-b50e-292de07781b1',\n",
       " 'd10cfdae-9228-4049-94da-adaabf270be9',\n",
       " '9b59c718-af56-4629-b559-cc51b573d9a5',\n",
       " 'dddd86aa-c67f-461f-8e2f-bcb0eb03b62b',\n",
       " '11dc08d5-75da-4acf-af2b-d581761dd028',\n",
       " '14356142-138a-4a6e-a0b0-e761d98b9162',\n",
       " '30f8d7ff-90fc-4815-9bdd-1fe16db0e1b3',\n",
       " '8e25b816-e8f4-4edf-92ea-d71803324bd1',\n",
       " '5b27f3eb-a285-4821-aca7-0f6a306d7ef5',\n",
       " '47b7c25e-9383-4150-b6df-e521b779b8c4',\n",
       " 'f993f66d-6811-4cc7-885f-4e4e947f7eae',\n",
       " '837eeb4e-93d6-4a72-b589-435f515fbb67',\n",
       " '9fb78bd1-1d35-4ad1-87b5-b9bc817c1abc',\n",
       " '59a2d862-5a2d-4a65-bb80-eb7f43daf67e',\n",
       " 'e3c87b3e-ed82-4e83-a8cd-2b7a79fc01b5',\n",
       " '70dce120-8f7c-4acf-820b-a5d72f398101',\n",
       " '61958dab-bc74-4cfa-8c9b-c2410e816eeb',\n",
       " 'd96e29d7-5496-42ef-a992-0ee5d4a6c23a',\n",
       " 'ca43ebca-3470-465f-bdb7-695c262fec2e',\n",
       " '3c57aa54-7fa8-46d7-bc73-c75befa55683',\n",
       " '864504e2-9624-4c22-a87e-b69dc2c02b0a',\n",
       " '6c89b7f1-9c32-44cd-b5ea-c47e8d9fb058',\n",
       " 'f5f745c7-f6f6-40f3-9b73-e69ae3566e04',\n",
       " '25167573-b14d-488a-afa9-15b471eb8577',\n",
       " '6b3c4ecc-5376-4947-bbde-78ad1c285539',\n",
       " '2e2b1358-9cc5-4f55-8b29-579ebd59fe6e',\n",
       " 'fc06bea9-4400-4afb-ac36-0dd80dd8ee42',\n",
       " '364386ce-eb5e-4365-ba51-698e4eb1fce6',\n",
       " 'f49bc8ee-8a89-472d-a892-6ca1c1aa604c',\n",
       " '1e5a9ed9-25a8-41ec-ba9d-aa5550c2287e',\n",
       " 'b3ea6965-3a1e-4b2d-a2a4-51d4b42dc376',\n",
       " '73a211f1-f0c2-4dcc-8b05-bc95b8727965',\n",
       " 'c3a2344b-16a8-4d88-aea6-c130a0de8e06',\n",
       " '86241873-de91-4c9e-af66-6e984b9ca030',\n",
       " '240516c4-65de-466e-8b2b-4a707522dc0a',\n",
       " 'b3057956-63a6-4809-a6f2-89b1355d2f57',\n",
       " '2e182335-ed2a-47ad-8ea3-74c50f2376af',\n",
       " 'd90d94c1-5dce-4f8d-80b8-52c16bef448e',\n",
       " '7fadcd1b-ec37-4a29-8632-6bc4e95cd3cc',\n",
       " '2e2edb10-7cec-435d-be21-9242b6607397',\n",
       " '7a6a3c23-b45e-4be2-ba68-af2f0a5a7742',\n",
       " '61c66c74-3c07-402f-8124-c3c6e09a89c8',\n",
       " '52838db8-0877-4cf3-90c0-e2a90b89276e',\n",
       " '6118d500-e078-495d-bec6-3f2a85bb8e4d',\n",
       " '76ef1db5-755c-4e2f-a960-c41215faafb4',\n",
       " '4b437013-19bb-4585-9c73-f230b325704c',\n",
       " '96b94f6c-579d-4c09-b883-bb96919dd00d',\n",
       " '999004e4-ba78-4d2f-89d7-9bd9d74679ad',\n",
       " '4695f9e9-9436-4b5c-8bf0-a25471207ba7',\n",
       " '2c6455bd-045b-4c9b-bfe3-4ca26604d051',\n",
       " 'ce7c2da6-2cff-4eba-b62f-5a783f54e7c3',\n",
       " '95daf28b-da31-4d8a-805c-4cf0297b9fd0',\n",
       " 'e2fa87ed-e0a6-4675-bcec-1b0e4a4aae4b',\n",
       " 'df8a33fd-2b77-4a96-9c1e-12f3a8c59045',\n",
       " '3cdbe1f2-adaf-429e-aaab-2fa4f09f53ac',\n",
       " 'd4d6024a-911a-4ff6-bc7a-ef304c2f8fee',\n",
       " '6b7cd756-4589-42a2-b964-d763c7a34b01',\n",
       " '92ecfa83-3268-4ddd-97ac-893eb68b5494',\n",
       " 'e702ac59-039c-43dc-8c88-64793b85770c',\n",
       " '7c10deac-7968-4cee-b65a-1968abadc5ef',\n",
       " '1cd78083-a045-451c-b556-cf2e1e8eaac7',\n",
       " 'ee87a5ed-26f0-4d59-93d2-b802e97e748b',\n",
       " '2c51573f-cce0-448e-ba64-7f2f16d9b280',\n",
       " '7ff07220-cd21-432e-901e-ee744d1e9394',\n",
       " '61e5e202-0795-4107-a139-daad1490a604',\n",
       " 'd070eeb4-fa64-4cbb-a015-71894fb94a22',\n",
       " 'c5018dae-07a3-4e52-9271-743fd3081353',\n",
       " '0b2e8287-0d90-47f4-b3ea-81535bdd258f',\n",
       " '22778e17-3f58-458a-b321-214d98e01788',\n",
       " 'd9b4213f-fb01-484b-9c29-4042bdfea64d',\n",
       " '818beb8b-91ea-4908-86c0-dfd8e1fc9927',\n",
       " 'e4deecc4-a93b-4eec-a636-16bbd0fdf9ab',\n",
       " '77d48b8e-ba1a-4bfe-b1a8-bd153f13bbad',\n",
       " 'ae3f83a4-7314-4188-bc4d-459da78cefd0',\n",
       " 'ca698ec8-950a-49f3-96f9-d73e7e8b55a2',\n",
       " 'e6bded69-ecac-4bd2-9e9a-03583080a612',\n",
       " '25e1cc69-cef4-4f72-8157-0dce6cffc370',\n",
       " 'aaf22882-0c36-4021-b8b9-a3bcf1dd0079',\n",
       " 'fa5eedf2-c4d4-4245-bee9-e1d0ce63c7a3',\n",
       " '185582b0-37bc-440e-9ff2-7337d179fcab',\n",
       " 'fb147e9a-14f0-430e-8075-29b46703c1c2',\n",
       " '8abc036e-0e53-4a53-9029-57176a63cefb',\n",
       " 'fc4deeed-68b0-43a2-b3ba-9c819b0cfd64',\n",
       " '35a239b3-0534-4b2f-8c66-70968ba2fb8a',\n",
       " '1d09b131-60aa-476e-85e2-427a55b9fcd5',\n",
       " '32986da0-01c5-4dd4-afa5-0d30da08af5b',\n",
       " '8f8903e6-7c2c-4892-978b-0447f1a1a541',\n",
       " 'b02942e4-51a4-48a2-9046-d4b3d00fcbf6',\n",
       " '7b94dbd6-a6a2-4825-b1ca-fe03f970684f',\n",
       " 'e312152f-b974-4140-a3f2-e5fb4fb054b8',\n",
       " '0cf133f6-cf13-4cca-b275-0ae6a14f80b1',\n",
       " '902edfca-cd22-4b37-b9a0-f53404e05c83',\n",
       " 'b95a22da-5245-4bb2-a724-c7213ef77e04',\n",
       " '4c86e5c2-d89b-486d-b65c-5d17f119baa3',\n",
       " '5b888b93-c9af-4961-b6f6-eb76284ad648',\n",
       " '68f5691b-bd2e-4ceb-97a8-6094aa9ad8a3',\n",
       " '39ea8712-6dc5-4135-96aa-fbdf5ca4e77b',\n",
       " '206fc465-4415-48de-be31-cba0604c4bf4',\n",
       " 'e6f17d35-4a8e-4eab-9577-6da87fbac218',\n",
       " 'facd5d96-c476-484b-9a17-38e0651502b8',\n",
       " '67691e97-6bd1-4ae1-9058-fe939be457fb',\n",
       " '13e8fe30-0774-468c-8436-ea9f222591ea',\n",
       " '468249e4-455e-4678-b029-b1ed3ebe4940',\n",
       " '3405862c-7c9d-4bf9-8714-9ad812abc62e',\n",
       " 'e87c5105-238a-4437-af02-7908b0d642c4',\n",
       " 'e047a287-d16a-4c4c-a90a-f1783673778e',\n",
       " '53788793-ada5-4868-9cff-5e7144eae742',\n",
       " '4c4cccaf-53cc-448c-adbf-ea76d9986cd0',\n",
       " 'aed18a5c-a5e1-48a2-8257-1cae8f0e891c',\n",
       " '707a22be-b958-4de6-aaad-8d2993ddc4bb',\n",
       " 'f3290a69-d9aa-4e36-8875-5921e9fac738',\n",
       " 'c1fbfa20-c48b-4b37-9531-3f8e38f564bb',\n",
       " '0d7a113d-f8bc-4996-8801-37079e37b9d4',\n",
       " '98141f71-05dd-4b46-88ff-2d8e62088603',\n",
       " '38923d72-3079-42c1-9cf4-2b9dc307d478',\n",
       " '5d8f2b5d-643e-4347-8e72-5c37a3b94726',\n",
       " '67aa2bc7-4ae4-455e-8ff5-40377fe90cfb',\n",
       " '104ff080-201b-40bf-8ece-e83c25c5fe48',\n",
       " '6014d854-2923-47cd-8319-8ea677531fc4',\n",
       " '23395ea6-8489-4249-a537-fb6845cfbe7b',\n",
       " '3c3747a6-97b1-442c-8a59-42b0f061f4c1',\n",
       " '50189ffc-794f-4727-b184-58997350b557',\n",
       " 'f636c5c2-b527-4e91-b5cd-676e57b30f3a',\n",
       " '7350a529-05ce-443f-a718-41e6d5bc263f',\n",
       " 'f8266ac3-0211-4ab5-a754-efba291b111c',\n",
       " '3ab9b8e6-26bf-4c50-90dd-4c6b3bdc63e3',\n",
       " 'bf3142c6-4d30-436a-946f-6af780e92ec9',\n",
       " '614aecdd-48e0-46e4-877c-a6319b591811',\n",
       " '762171cd-d894-413d-9a99-7d93f13191fa',\n",
       " 'df9594c8-c24f-49e1-ade0-3613de6c7aba',\n",
       " '83b70d51-2ac4-44ce-b9f5-093ecc832f48',\n",
       " '863864c1-3b81-4742-9abf-02faa15418c1',\n",
       " 'c26e0a61-a112-4498-9655-131af45840ad',\n",
       " '16ccb097-0427-4965-b508-ac9ddf84517a',\n",
       " '523902a4-65b4-4e57-ac17-9005a018f4f3',\n",
       " '9884255b-1f53-4d57-b3a6-c5a06d3d93c4',\n",
       " '7bee2f65-dea6-4b24-916b-38c175c6d3c6',\n",
       " '2d15c5d1-cf3d-4769-aa28-a11553cbca0a',\n",
       " 'ebb660ed-914e-45cd-880e-38b2adcc8181',\n",
       " 'd9ce530c-31f2-437c-8cc7-82428d3638d9',\n",
       " '06317318-1bdd-4d0e-8649-2e5d906a47b4',\n",
       " '78d40664-5bd4-44b5-92fc-5de6e09beffc',\n",
       " 'dee6ca07-4cbf-4f2f-930e-09178e08aa72',\n",
       " 'fe11a4f7-f0c2-4de9-b5a1-8033db054cf0',\n",
       " '310cde45-2333-4826-9a1f-ed18558462be',\n",
       " '57d73bd0-dcb1-4b70-a897-cb1f2f2feffb',\n",
       " 'fe2a5612-f1c1-446c-b77e-4b5124e69730',\n",
       " 'd9c9814a-1e2c-4f14-bbe4-babd1057ad5e',\n",
       " '886a274a-bf39-4580-93a3-903d9fd74106',\n",
       " '32657fe1-88ff-4983-b408-bf64ee137f2d',\n",
       " '880590d6-c8e3-49e3-812f-d274199d075c',\n",
       " 'b2ad632d-b511-442c-b1a5-0060fd4f73e4',\n",
       " '1228278e-56f4-4e21-b68c-b834e07ff60c',\n",
       " '1559c550-1bbf-4bf5-a12d-45496e33219a',\n",
       " 'b87c2606-5e18-4d3b-baec-5c1c6e2d1642',\n",
       " '3ecc48e7-3322-4496-92cb-62c4c1007048',\n",
       " 'af6a5042-93b0-4e30-983a-a401f319352b',\n",
       " '18e5ccf3-41b6-4914-8e72-cdeebb685066',\n",
       " '95bfd347-801c-4bf3-a5a4-5a11a883cc02',\n",
       " 'b5d9de78-6d4f-45c1-9150-4e65dfab708c',\n",
       " 'd71a4cbd-2161-4838-9672-e5881434562d',\n",
       " '26e1cfd9-8dfb-4ffe-8e31-e435a62375e1',\n",
       " '23db712f-b4b3-417d-a36d-cf6061e568f7',\n",
       " 'a50ae672-dfed-4ba5-9fbd-9f98e24a2fa9',\n",
       " 'a5112708-a806-4538-a3d4-dbee79375bd2',\n",
       " 'f9c76163-6e05-4935-8f18-ad179048f2c7',\n",
       " '67ccd459-5639-4443-a2b7-29e8afe154b9',\n",
       " '26ddc5f5-1fca-4251-9323-ee879cae27bf',\n",
       " '589a3d6d-d8fa-44f2-9051-e3be61e82e09',\n",
       " 'd49ec77b-2707-4e11-993d-ccc8562a23ef',\n",
       " 'e5171717-5210-4ccd-8e7c-e481cc5ddc48',\n",
       " 'bb5bb030-17cd-4a06-ba71-9f954d5fec88',\n",
       " 'c15da59e-a150-46aa-9039-dd3985eb8828',\n",
       " '83c69653-de20-4cb2-af45-376ab9fb1896',\n",
       " 'b2c187ef-0f99-4c09-8976-8ce4e9d69722',\n",
       " '773df782-f4d8-462e-9306-e41053317cbb',\n",
       " '377eaa03-4f2e-4d31-9d8c-a3375002b5b8',\n",
       " '0c69185d-a377-4daf-b08f-8080c52cfe7b',\n",
       " '09116b86-0c02-4bbe-9c3a-e0428ea2d3a2',\n",
       " '216a8752-34a3-4f1f-8fc2-8d4667cc1731',\n",
       " 'f60e5726-3008-4ebd-8cfa-4128c42056ca',\n",
       " 'f130cab6-dc6c-4797-8229-e17ea11885e1',\n",
       " 'd23620fc-ef7e-430f-b572-a69ecfeec458',\n",
       " 'c69cc5b0-76a7-41d5-bf7a-78342c40e3e1',\n",
       " 'cc3a5595-d2d4-42f4-8ae0-110ed08c0690',\n",
       " '63d8cea0-84a8-40e9-8668-097dfe3099d7',\n",
       " '76b9c5f3-a95d-4551-8522-73081f278e4a',\n",
       " '1e43341e-b008-4965-aaba-a979c2653e65',\n",
       " '1d539794-3fc7-400b-990c-4c948231ac99',\n",
       " 'f08394a2-5443-410e-a872-6efc2a148447',\n",
       " '740c76c7-6e28-4963-9be4-2b5ff1b1fccf',\n",
       " 'bfd971b5-ea90-4461-b9b0-3d4dad59411b',\n",
       " '37a15c37-ff90-48c2-bb3f-06575a254a01',\n",
       " '33df16ae-8657-4626-8071-26460e3e127b',\n",
       " '9c0d9bf2-79c6-470a-a6c4-931fbbb1e7a4',\n",
       " 'ac72477d-9dfc-4f4f-88dd-eeb226381639',\n",
       " 'c5b79e87-f378-4bfb-b80e-26dc47102df4',\n",
       " 'c96a8340-b778-4543-aac7-12f2bfc88166',\n",
       " '84a2a727-7f64-4e2a-9693-4159641efad4',\n",
       " '9018cac8-4674-4014-b5c1-9369afe2a578',\n",
       " '2186d42a-2430-4994-ae01-ad77efdf8a60',\n",
       " '4c7b8f81-1259-4661-b766-6dbdea7c169a',\n",
       " 'dff94818-6f06-4d87-97d7-98fb8af64dfc',\n",
       " '5be85be1-fcda-4cd6-b484-47bd50a88a1b',\n",
       " 'eb79c04c-9e3a-44b9-9cc8-c844863b9e64',\n",
       " '04c350e2-1168-4c71-9cb0-3e66acb860f1',\n",
       " '69b601ce-4393-49e6-8533-550cff19cdef',\n",
       " '2f7b290c-4ab0-4be4-9eed-e50f2fadd8b9',\n",
       " '97abaf08-19bc-4136-ab63-2a2127f2a01a',\n",
       " 'fcc7fa3d-78de-4919-a059-40eac9827f81',\n",
       " 'f5ee8e91-f12a-475c-a03d-dd8637bdd1f0',\n",
       " '54ddd250-e26f-4a00-b351-74e090c9e709',\n",
       " 'ce938693-504a-4f34-95af-8640c3475803',\n",
       " '5f10ae31-cb22-411e-98e2-fd411afb757f',\n",
       " '1818550a-6afc-4b00-8eee-3bd856f6f47d',\n",
       " '21b1907f-0ae1-4ea5-8c13-4fd967193890',\n",
       " '23f419dc-36ed-4c75-b584-4ffc1f8cf37a',\n",
       " '1618145e-3ce1-4faf-9333-087328fa6c89',\n",
       " '86e0a2b4-2a46-4a89-9336-8fe41890d4dd',\n",
       " '95d5c93d-ab59-402f-9f91-22d87d31c286',\n",
       " '8ea7bc4c-7f3e-40ab-96bc-7df0c683a849',\n",
       " '5ea0c4cd-ee19-46f7-827b-badde20e9353',\n",
       " 'e6d32599-cd9d-4087-97ba-5c21149d9fba',\n",
       " '3c5bc536-c5c3-4e00-8774-2b3448a28a15',\n",
       " 'addd5dd8-19b7-4391-bc76-3a9bba42b312',\n",
       " '43e18e9d-dc04-4468-b0c5-87c6759e951a',\n",
       " 'e6cc11cb-00a9-45d0-9921-6aa2bc477910',\n",
       " 'e16a9f67-fe5b-4a54-bf34-140125e85ac5',\n",
       " 'f8bebe38-12e7-425a-8945-4293cf1f86ae',\n",
       " '6fd33871-fa34-4cf7-9f3c-62396789a81b',\n",
       " 'a9091b22-a9f3-42af-9e07-b8cf101ca164',\n",
       " 'dd27d67f-7de8-4ac8-8478-c1c72409ae4e',\n",
       " 'e89f5d97-ecbe-42dd-8918-d31a1e865b93',\n",
       " '69469373-99cc-41f3-b89d-ffd6b6a146cd',\n",
       " '642685fb-1f6e-4f30-a6f9-618635aba8a7',\n",
       " 'b723033d-15fb-4d56-9311-307f6e52c190',\n",
       " '667ef08c-b7e9-486b-bdd3-3254f86a00f2',\n",
       " '8e5db335-0d80-4155-94b7-bd44a686e032',\n",
       " 'd194854f-0f83-4afd-b4c6-7f1a533fcea3',\n",
       " 'a71f2ff6-f68c-4044-b80f-cfdac95abc5b',\n",
       " 'd2d4e4c9-110a-4b99-ace7-16fa5d9b80a7',\n",
       " '622a582d-7bdb-4a1d-aafe-0d5415cc31dc',\n",
       " 'ced1ffb7-3638-4c57-8474-f167dfcaffcb',\n",
       " '2d0166ef-79f4-42dd-80bb-40a5712a28e0',\n",
       " 'cc201c1a-6095-4e77-877d-98dc60c676e7',\n",
       " 'd47a1454-0e0d-4e89-b997-fcf44cbf3794',\n",
       " '121bda78-8976-4c60-84e8-5bc2a052f831',\n",
       " '143071df-0925-413d-9a7e-a10763898db9',\n",
       " 'ed8d561c-3c8d-4eab-921a-de0f553dfeb5',\n",
       " '22f8dc66-4989-4653-92e8-2c0093fe2c91',\n",
       " '2792c03d-1428-4ed0-a06f-42961724a6e1',\n",
       " 'e22ceabe-908b-425f-89fc-f8aa0e7569c3',\n",
       " '19a4b771-5e08-4788-9cef-e8f92845eceb',\n",
       " '09b7cc24-bd8f-4fd4-90f5-cb69e0a56629',\n",
       " 'fe84c5fb-a631-4141-b955-ad0ec8484ad0',\n",
       " 'f90c7ced-c10b-4a1f-a172-787cb3eafc1e',\n",
       " '1be9756e-2d12-4f20-b539-70b9d82e563f',\n",
       " 'b44ceedf-2981-4e8d-a485-13aab9596d84',\n",
       " 'dec6121c-4943-49b5-af15-f4758006b34c',\n",
       " '77c3e2cc-e7f4-46f9-ace7-e0e892979d58',\n",
       " 'bc763d2a-bfd8-4c1a-b450-bbf9d5401242',\n",
       " '99c3b193-aefd-444d-be10-879436210d8d',\n",
       " 'c5959a25-9aa4-4cc7-86ca-4de35258534a',\n",
       " 'f03188ac-c91f-4a1f-b86e-1248f2997b39',\n",
       " '4bc159d2-ffef-4820-a4f2-44e30f024345',\n",
       " '38ce75f4-7793-41bb-8049-997f40b580f1',\n",
       " 'b8afab61-fa7a-4711-9555-e396903aaf00',\n",
       " 'b5a5b15c-4b74-4c1e-a10f-75b85d70f79b',\n",
       " 'd522c2ca-62b8-47e5-b15b-35a41274f8f7',\n",
       " '3ba10b0e-32ef-4b35-85ef-bbab345f0a1c',\n",
       " 'f0945d47-9880-486f-ac68-3e45d64cc99f',\n",
       " '101e8f74-66a2-465a-9ea5-29f8353b199c',\n",
       " 'c1f3df3f-5d7f-4192-a12e-ea9ad583070d',\n",
       " '9632b694-ab47-4f6e-a9a7-3fee4224d6fa',\n",
       " '485647ea-de1a-4f32-a390-bb5f8dd1cb7e',\n",
       " 'd87a89d7-60dc-4fb5-a891-0c31753af244',\n",
       " '1efea3a3-695f-4563-80eb-e51db4d9d551',\n",
       " '10882207-9299-4178-bd6c-ccfb4a71705d',\n",
       " '6dae0cf7-93fc-42f4-8167-2b7beb915926',\n",
       " '93bd0c5c-4f25-48b1-b2c8-931df7c75a28',\n",
       " '48b1864c-2715-4b70-9049-efe7928f09e1',\n",
       " '16463e44-40e2-4486-b412-5860789102af',\n",
       " 'fbfd682e-c2cf-4191-a2b4-11813bf82676',\n",
       " '5c83f328-bdd8-47fc-ad90-271691c4aae1',\n",
       " '4fd67ab5-fbb4-40a4-b32b-fc6834decd66',\n",
       " 'de433800-1253-4704-8452-ec34e5515987',\n",
       " '181c754e-045f-4f3d-8ee0-06ed7ac568ec',\n",
       " 'c69b6f9b-5b7f-4c98-b7ad-765621c24aeb',\n",
       " 'ae124f49-1a3b-45f5-b32e-ed6d506acf8a',\n",
       " '233df839-1939-4152-a082-f39562850608',\n",
       " 'bd35305f-b77b-4ad6-a2e5-e19b6d4a43b1',\n",
       " '127901a7-6c54-4454-b00f-a830141fd24d',\n",
       " 'ba95edc9-a5ac-4bf3-af9f-5c325e0451aa',\n",
       " '762b4f6f-10d1-464b-b881-b2392bb2eb57',\n",
       " '36240af1-39af-4084-8dce-3c7570707b5d',\n",
       " 'a1e3263d-eb7d-4ba4-a354-9025057ad7f7',\n",
       " '089c35ba-b18c-45d4-b77c-fee3ef79a5fb',\n",
       " '9ee0a5d1-feb0-4e64-9157-a5b4589bb276',\n",
       " '2999cf74-c532-490b-bd54-51a31bbb7dbc',\n",
       " '921546a9-6114-47aa-9890-f230a1c40e5b',\n",
       " 'b125d497-b20b-4440-98c4-a7bfc2c775ec',\n",
       " '2bdd9728-4c63-4378-99c9-b09349c28dd1',\n",
       " '73aa0bed-51aa-49b8-bbf0-22aa4d5e3801',\n",
       " 'af5206eb-5bc8-4a2a-9c7c-d9ddeb401e5a',\n",
       " '57a47f5c-f554-4ec8-aa50-5b8471f3d86f',\n",
       " '6d54a1c3-539b-4bf5-a275-a9b92538be42',\n",
       " '6423f0e2-6abb-4452-896a-e39b50985f89',\n",
       " 'a609b326-20ed-47db-bd5a-d710a251ab11',\n",
       " 'bfffc9ed-867f-45e4-bff1-d4ac61a152aa',\n",
       " '1b23fcbe-6b0c-434a-9d3e-b36dbed98834',\n",
       " 'eb1d2612-bae8-43d7-b79f-d2d0e45dc6f2',\n",
       " 'fdab2849-491c-4e33-93b1-56bcbe4e1332',\n",
       " 'bda2afdf-0937-4802-bd50-52c1c3fcb17b',\n",
       " '7e66b037-49bf-4994-909a-6b5a7592532c',\n",
       " '039ec5de-d45a-4765-991f-11154a8405f5',\n",
       " 'b6e154b4-0113-4266-977a-65db59c8b91e',\n",
       " '10d24f08-4b9c-4604-a90c-09daf45ff06f',\n",
       " 'b28cd768-f27f-4ecc-a264-82ffecb253e6',\n",
       " '8700e4ab-7e2f-4a59-92e5-089804ff3003',\n",
       " '425d9541-620e-4134-a76e-297c405f6cc9',\n",
       " '768073f1-2702-469e-858d-6306a601b232',\n",
       " '4bc847a3-6a7c-4e06-b20f-78873f2ab422',\n",
       " 'd7fdea7e-f9cc-4fc2-91a5-5e44838b0599',\n",
       " 'f6f6922e-4a0a-40b6-9f36-23b5e86e93bb',\n",
       " '88ee101d-e881-42fd-b73b-a8982cb8d4d7',\n",
       " 'a04767e1-cfd8-4e9e-a3da-2b46a9725287',\n",
       " '67ada348-6c83-4073-bc4c-47803a8a54ae',\n",
       " '7cf14a58-e114-4e05-918b-e34f635785e8',\n",
       " '9c47c316-f9df-48cd-84a7-84818ca0c0ee',\n",
       " '5697ed6e-e351-420a-a251-643ccbcb24cb',\n",
       " '58bcec58-6743-4a9b-8a8d-ee0d221c0203',\n",
       " '9914541a-8288-4295-95df-4c421a311fda',\n",
       " 'bd960020-29d9-435d-8ccd-56394bcee6dc',\n",
       " '4cf8e7a7-31c2-4e5f-9f6b-4a09d5e90b3e',\n",
       " '374ad39c-46dc-4de4-b66a-47913d11e5c5',\n",
       " '68ab0c79-9a46-4d6a-8746-b7008861d7f6',\n",
       " '5673c7b6-e2dd-4a88-803e-f57482f5aca0',\n",
       " '7e6a6974-e228-41c7-bfc3-d312d8f51aac',\n",
       " 'dc3d39bd-9059-40fe-a2f6-c2637bd20a4a',\n",
       " '474c631c-1060-49b9-9d97-f60371495680',\n",
       " '9c29f0e2-290e-4aa0-9888-adbc031b844f',\n",
       " '99b57e09-8820-4fec-8f81-59f3f3fecfb5',\n",
       " 'ebb659f8-5ca9-4c0d-a9d0-72d8c824ef58',\n",
       " '9a521dbc-071d-43c0-a12f-5ce489727d55',\n",
       " '92f2b3b4-4cbe-49c5-9834-cb876db79392',\n",
       " '3bcd9c67-15d6-4a39-b1df-881c54aa7c6f',\n",
       " '305049bd-15ff-46a3-a459-db9e3d906bf8',\n",
       " 'c1ace948-1b9f-4d61-a09e-135d0badbf72',\n",
       " 'e77dc079-60cc-4c00-944d-6e9a634a2728',\n",
       " 'b11770a4-ec5e-4023-a8cb-2cbd44b3b2f3',\n",
       " 'f03f7669-c86e-4d6f-a94c-0092e3623c36',\n",
       " '66620d2f-2e18-4719-9418-6c5deb80e70e',\n",
       " '4b6b509c-48c2-40f9-8062-8a008991b5a2',\n",
       " 'dbce6fee-6fec-4f1e-9f5d-228c3d41a645',\n",
       " '4a8f1670-4131-45b3-8ec6-817d094440d0',\n",
       " '9925d2a0-5ce2-4f37-b652-0b525f7556cb',\n",
       " 'f7d779ea-6196-4460-9b0a-508a92c13083',\n",
       " '4fe8c1c6-1038-490f-9caa-ed1512b2c416',\n",
       " 'fce81db0-a34b-42e3-9a46-7c77b519aba2',\n",
       " 'e4ac5564-4590-443e-a84e-13540c034de3',\n",
       " '27177cad-812d-460f-973d-1c69a3782064',\n",
       " 'a6dc7520-9316-4b65-98c5-0abe9916ca32',\n",
       " 'a0361f4f-2ac2-4db4-92f9-f8f47cdefa70',\n",
       " 'fb74db44-617c-4984-82c1-fec6372779cc',\n",
       " 'dc471523-66fd-4956-9802-809fa79c0cd5',\n",
       " '82bece08-c80f-42e0-b763-31000db3acc5',\n",
       " 'bd6355d8-671d-44a0-88da-a46dca78fde7',\n",
       " '89460051-3373-45fd-b553-d1d8cc9485e8',\n",
       " 'd0a4db08-f95e-49d2-9103-f725a663f600',\n",
       " '42488176-d463-46eb-b9fb-12d3462d5449',\n",
       " 'a0fc7684-6ab2-4e59-905e-7145bbf01fd7',\n",
       " 'ab30fa63-addb-4fa9-a027-c6eea2f17cf6',\n",
       " '9983c2f5-7fb6-43d1-a4fe-494b577a412e',\n",
       " '1888ca7a-d47d-4ddc-b09f-28220b1a5587',\n",
       " 'fb7dda16-8ba2-49cf-94a4-12fc43eeadd9',\n",
       " 'f970575c-e309-470a-ab1f-77c6bacc91d5',\n",
       " '95d1abd0-4029-4f2f-8d48-5282a51a0d3b',\n",
       " 'a75a9402-bb8f-4964-be83-3159a8597c48',\n",
       " '344c3197-6677-414c-95d5-9f74dd17608b',\n",
       " '9ff031eb-3eb7-4fed-921a-1d832c91aa45',\n",
       " 'd403731c-d3d4-41bc-bebf-35e78f51cdfd',\n",
       " '80d7e992-c467-4b08-9264-16bd7b2a56d1',\n",
       " '6f4af344-3dde-471d-a983-939d0aa5ccda',\n",
       " '8b76f911-ba88-41b4-b3de-64a07f417a6c',\n",
       " 'cea2b1c2-74f5-4d32-a752-7a60df8306f9',\n",
       " '921c66b3-d9f2-4ef6-b51d-eef89b59b0f8',\n",
       " 'a22ddd64-b52c-4eb5-bfdc-6174e9617ebe',\n",
       " 'baa3786c-2f83-440c-848f-e65f639a1692',\n",
       " '9c455990-63d7-4d83-82e6-cab52ee1eca5',\n",
       " '0a94bccd-c338-4995-97df-386e1b32b83d',\n",
       " '34c9913f-e28b-4c67-8678-ef1cc2f2ba9f',\n",
       " 'a01a935c-3edf-4fd8-b2eb-2d49e0a4402e',\n",
       " 'c40d2957-e073-4c57-af53-a0fe04792625',\n",
       " '1ebb3495-5286-425a-b775-419a4a9cb888',\n",
       " '53ea8da4-9355-4ee7-90ca-c6ac33e28650',\n",
       " 'b477d51e-2d01-44d0-8a86-90c40b00eba2',\n",
       " '7ca91975-f1b0-49cf-b043-d25d70ea17e5',\n",
       " 'ac97ac63-2f87-40f7-91d8-702ddaefe5d3',\n",
       " 'e63a08b9-9ac6-41b0-9bfb-f8d9ffa00691',\n",
       " '3726e4a4-6977-4448-8496-c11eaa13c77a',\n",
       " '2c006a83-b01b-43ba-adde-467d46f9cb4c',\n",
       " '7bc5e60a-96c9-4810-8396-c9e93824f55d',\n",
       " '0b4d66a5-2783-44df-a488-0c79f3ef5e26',\n",
       " 'e05b102c-d7d4-4c62-bf24-19798992dc72',\n",
       " 'd2c4e95e-4f0c-4738-ab7b-030b3807d88b',\n",
       " '3f319521-8599-4338-873c-a6b415760920',\n",
       " '50c04c22-d985-481f-8d86-8d07b668ad8c',\n",
       " '0c97f2a3-6ae7-4eef-815a-d02384a4a87a',\n",
       " 'cfcdcb1a-ce29-4ad5-9a24-84ae27916f2b',\n",
       " 'caaa56eb-1337-43cf-a1b8-0166fc5b5440',\n",
       " '003cb5f5-b99e-449e-964e-704a5c165d58',\n",
       " '952deba6-0e8a-4d4b-a57e-f909ab140b41',\n",
       " '82f59185-90bf-4eec-90c5-0e1754c1f85b',\n",
       " '1527b13f-a898-4640-af8f-120a7ce46828',\n",
       " 'fbd6b2b4-e787-45c2-b2c3-002516c689b4',\n",
       " '0f1338f9-8db5-4ee6-9bd6-17a91725653b',\n",
       " 'aa067c0b-2319-489d-9a2a-acd11f04a122',\n",
       " '345aadd8-5ad1-4bc2-a078-a4343da5ae15',\n",
       " 'e647018a-9ab1-4aa8-92fd-449c7213aed8',\n",
       " '944fee1a-1a11-4bdd-844a-328aac5d95ae',\n",
       " '97b52d98-0a69-45b5-bc26-78a38a6433be',\n",
       " '0dc98b82-9acf-48dd-a18c-9a3acfd2458b',\n",
       " '2ec9fc66-faa5-477e-93c9-2e57a2281245',\n",
       " '9ad25082-61f8-4a27-8c5c-1d1e43bb1d8a',\n",
       " '5e24f3e0-42a7-4299-911d-48cf95c637b2',\n",
       " '10dfcc1b-b367-4cf8-978e-f4e7586eff1f',\n",
       " 'c5aa328d-6345-4265-8839-bae4b8fef268',\n",
       " '084cdd58-0c0e-4367-b96c-b3fa7ad119dc',\n",
       " '01660902-c543-4c37-9426-e708afb08040',\n",
       " 'd96833f0-44d0-4445-8a3b-41d008083b8e',\n",
       " '54645123-104c-45d6-9339-fab2538bd9fb',\n",
       " 'd479614e-1dfa-4b94-bd10-c2f2b2ababef',\n",
       " '24b1396a-ffe5-433a-be6b-9a23f1604912',\n",
       " '86dc966b-09f6-4fba-83fc-14752ed78f49',\n",
       " 'd591b801-32ca-439f-83ef-4b6cd576b85f',\n",
       " '8c7ce927-6833-44cd-abf5-cadeab0ef92d',\n",
       " '6a08df2b-ac09-4896-924b-f7a6b296f46c',\n",
       " 'b10f05c0-9780-41a1-b6aa-57f5d30a1411',\n",
       " '39405757-9928-4159-90ba-11d3d86bb977',\n",
       " 'e1715441-b040-44a6-825b-b946d0e64399',\n",
       " '73df9e68-bb59-49b9-acb8-6423410f8452',\n",
       " '6c82235e-044b-4e61-8199-307f71eef647',\n",
       " 'e205ad1d-472c-4520-9f08-a93773f8a8cf',\n",
       " '900a8fb1-c42f-437d-92c2-62fae43f134a',\n",
       " 'c087020f-aab9-4988-92b7-2427b4c3f417',\n",
       " '9f6b61b3-be24-435f-8861-9c88fa075dba',\n",
       " '2926afe0-c45e-400c-a122-d9df26aa8e15',\n",
       " '0d6c55f4-c156-46ed-96f8-8ff52e186853',\n",
       " 'caf7c358-d667-4d95-86a0-5cdad2a78a21',\n",
       " 'a44701fa-95fe-477e-8be0-de03f616a71a',\n",
       " '3fdae258-72ef-45cf-8e6e-5652d12b97ae',\n",
       " 'bfc4e7cc-0178-479d-a0ae-1793cd612f01',\n",
       " '0b7475a9-6546-4bc5-8fa7-6be31f3fdeea',\n",
       " '1a06374c-756a-4c0a-995d-86dee8e0b03b',\n",
       " '30e8bdae-4a15-4edf-b2ea-6b5857923476',\n",
       " '3553808b-39ae-4ce3-a699-56fc8df6e102',\n",
       " 'bac7f6b2-d5dd-457e-9e8e-cc0ad8656079',\n",
       " '99a6c352-67be-4a42-8706-56464d246d2e',\n",
       " 'fb6e56b8-b6d0-4782-9963-90041a38ff37',\n",
       " '47f1a5a9-ed3c-45bc-929b-7b6346aee89b',\n",
       " '238a8e51-e9e1-4fed-8900-5af65bd00de7',\n",
       " '20ebd10f-f510-4bdf-a3b9-80191f4968e9',\n",
       " '9a420b57-3dac-463d-9aee-591410eebaed',\n",
       " 'afe883fd-0c94-4830-8643-3f9e80064f3d',\n",
       " 'f8ed0aa8-457c-4966-b155-58aa67470753',\n",
       " 'b9d2b0ca-c1d9-4317-8ef1-9fd115d1a670',\n",
       " '829b6118-7f2a-4ec5-aceb-e1e142be18da',\n",
       " 'e859121f-0417-4ecb-9624-989e496e84ba',\n",
       " '7cde72f8-d688-488b-9ccf-4ebeb403661a',\n",
       " 'a32d0b03-632f-4aae-b0cb-35e9f7574d5a',\n",
       " '9a5f4b7f-e328-4039-a232-47c8ca91cb36',\n",
       " 'b01213d6-faf1-4f03-9b45-88b45bd46c80',\n",
       " '7f1f8aa1-f315-40ea-9eba-c25991c643bd',\n",
       " '3fbad90b-dcab-486b-b0bc-ffcfd61199a9',\n",
       " 'e5e14b8e-eff1-48f6-8cb6-6468d966e4fe',\n",
       " 'db1f698a-2020-4b98-8ffc-2849c1a816ed',\n",
       " 'a1b8f91e-6221-470b-9d4d-9a029eff8804',\n",
       " 'b193a788-d7a7-4a87-a1aa-c80931de724c',\n",
       " '178a8f29-cc73-449b-94cc-946cb123b48a',\n",
       " '7998ce24-ade5-4407-9c00-90afb6529420',\n",
       " '47bcf01c-c8b8-4d50-b79e-6121b9c55341',\n",
       " '9f0b7ca1-4262-47cf-ae2d-18348bbf3363',\n",
       " '6ad4e3f3-ea78-4e2b-b288-159bff98bb4b',\n",
       " '57d3f1c7-228a-455f-9cd0-a670cc869e90',\n",
       " '0e02ce53-5c3f-4611-a7a1-eb11ea0de82b',\n",
       " 'f23962e9-d7dc-4ad4-b3b7-b8370063468f',\n",
       " 'd1b3e532-e56f-4d0a-a1c7-de6472720b0a',\n",
       " '46600a14-7357-4825-96c6-27f47cda6738',\n",
       " '0ff5e766-d020-4a93-8d33-5814b7f22183',\n",
       " '6a5948b8-b5a8-4de9-b7b7-13ddca9641d5',\n",
       " '26ff8c90-b053-42e6-9329-0708d670f739',\n",
       " '8efb066d-bc0e-466e-a6fb-4e48ad17ddea',\n",
       " '6c7ed93c-fe67-469a-963a-3cb02a4c55e8',\n",
       " '1cac4507-edd8-41f4-b660-4841bcfa9553',\n",
       " '2126a90a-3202-4f9e-86ad-216ece95ae75',\n",
       " '176e316b-7a19-4303-a2d8-c52869460af4',\n",
       " '90f32319-3bed-4906-a74b-837212096852',\n",
       " '917e1bf4-bfa5-400d-89ec-61f3ac3115c7',\n",
       " '68268291-07f4-4ab3-97aa-e4ff48fb2389',\n",
       " '0caa9844-1d4c-403d-b888-1c7db548a9a3',\n",
       " 'e9a5d04d-a817-497c-9c86-575c3238d84d',\n",
       " '36e6919c-3350-4402-9cc1-3222078f1d15',\n",
       " '3bf3ce33-1d05-40ae-baf9-e090957eca32',\n",
       " '4f9aa1d2-af56-4133-8203-96487c48a805',\n",
       " '776e7171-7efb-43cd-9619-da9716976b96',\n",
       " 'cf11c46a-83fb-434a-98e3-f11c06face48',\n",
       " '00d66128-ada2-4bcd-adea-9c213e45e166',\n",
       " 'bf948039-4045-4751-a90e-343e52b2391b',\n",
       " '710ec7ff-fe5e-45e8-aa29-054d02c4e6f9',\n",
       " '727de515-2ae4-428a-b936-5fba646923df',\n",
       " '5345df27-697c-4e9b-a95d-b92bcf6a3ec4',\n",
       " '45cfff07-a73c-4f98-bd67-93b0e40b9db5',\n",
       " '601f4967-682e-4582-be12-8d7acc21063e',\n",
       " 'edbe2d3b-c5c0-425c-9ffd-8dc22d52dc17',\n",
       " 'd4ed42d8-00e1-4c18-ac65-7f74cfb7d8d7',\n",
       " '98ba861e-3a0f-46b4-9d14-b3b022499e84',\n",
       " '8d12f2e2-3df0-4a3b-98e0-181d8a0877de',\n",
       " 'fbcd6496-2b85-4a40-b440-a7800c94be14',\n",
       " 'dba00da8-2746-4563-86d6-d7fd9640e0b6',\n",
       " '66dc62f4-5718-464c-8ac1-8444f60dcd76',\n",
       " '078f0d51-a1d9-4bc7-b540-d930c0f6f6cd',\n",
       " '1bff7ce2-b41d-4826-8df1-5f6e10a91f60',\n",
       " '26fe0e3c-a77b-443e-99d0-e9b22f947cc4',\n",
       " 'ba4d958c-5e87-4e57-8dbd-2457a2f72e72',\n",
       " '844f0eb6-34e7-42f3-be06-86b0ac1e4e77',\n",
       " '986b1c6d-8017-47d3-a408-eeb2aa4bc9d9',\n",
       " '119414e4-b530-4189-9783-b9783cc25331',\n",
       " '2e5d1090-de01-480a-aada-6ee4f96806d4',\n",
       " '3aeb8780-bf3f-49b1-ac99-0ea0343ce22e',\n",
       " '158c0e81-8c7d-49d5-9eb8-33dcc11afca3',\n",
       " '65ba0072-74ae-4b60-8a61-1f17259375a4',\n",
       " '3c70a9cc-657d-46a9-b80a-fa42fe7763d8',\n",
       " 'e6191e47-0c4d-4259-947e-d634e47ed225',\n",
       " 'db914a72-a26a-4572-94e9-9aa4f7302f3e',\n",
       " '432048d0-fb1e-4df5-81ea-b6df8b3e2e6d',\n",
       " '7d54c866-538b-4997-91c0-fb543a88d3f4',\n",
       " '100bbacc-1356-4a70-a08c-3c72487941a0',\n",
       " '39608535-8841-47ec-a6c0-bd8681077eb2',\n",
       " '6a76f61a-61ed-43d4-aa51-6086b57715a1',\n",
       " '4a636a8e-749b-44ed-bae3-3065b83087d5',\n",
       " '9830a7bf-4ee6-45d0-b75e-f1283ee2ae25',\n",
       " 'fcf9c3ff-b9b7-49ca-897e-ebd1e763445d',\n",
       " '46220fdd-c996-41ae-a562-5c865dabcaa0',\n",
       " 'ca8fa73d-f977-432e-8fcd-d471e0345b40',\n",
       " 'dd4c5d85-2e6c-4dbc-a6e3-1c9f3f15b4a5',\n",
       " '41c5c596-2a18-4565-a147-e9d0068cd7b6',\n",
       " '60348504-1d98-4a51-b6b8-4b7406297fbe',\n",
       " '1f903560-8de2-4ee1-9fd4-934d9bfa0e62',\n",
       " 'a1b8dc56-4354-4988-9490-06575b791c2a',\n",
       " 'ca6db016-9791-4b4f-a554-e3829e2aa588',\n",
       " 'a797af09-3d5f-4ed9-a042-f4e6633d48ee',\n",
       " 'd5117c93-c826-452a-82c1-3e2e87d79560',\n",
       " '28db2cb1-dfe9-4d64-88ac-bb4c60e79582',\n",
       " '934591f2-bd69-44da-bd83-f437c0efd6f8',\n",
       " '95f3f58b-ad59-4ca3-ba88-4b9ddef21768',\n",
       " 'f5afbbbe-20b8-439c-8112-8ceb8d1d5268',\n",
       " '441af22a-2950-4576-9586-4aad45dc8f4e',\n",
       " 'd0618a64-8cdc-485c-93db-566ef8ff1cf3',\n",
       " '45733457-c518-4b86-b92d-79ce8194c2d2',\n",
       " 'ec4bd7dd-7216-476b-bb1c-d3c8f570b735',\n",
       " '13dbb0ec-e551-4d4a-a426-e67c831bbe26',\n",
       " '1fdd441e-fdb3-435e-974a-c4b0bfc845fc',\n",
       " 'e7058c40-b7ba-4c66-a4b7-75fe32b11fa9',\n",
       " 'eb654841-8074-472c-a971-51f544ced688',\n",
       " '705915f6-9d83-43bf-9a71-07d41845e7b6',\n",
       " '73c187b3-ff38-4b4c-bae2-c02ad37153a9',\n",
       " 'ef56463d-2807-4b57-b613-31165a63b248',\n",
       " 'd1196bcb-6b8d-4cf0-8ff7-b1599fbacb58',\n",
       " 'ed4def8e-2c12-45e3-a60b-99999b77d0cb',\n",
       " '59c54376-ae96-489b-a604-e2bcc3fcad6d',\n",
       " '3f62023e-f04e-422c-b37d-ac11fd7e8c7e',\n",
       " '03a9687e-3fc5-40ed-9fa1-8e60d64a2043',\n",
       " 'e77c53da-3a73-48bd-8b47-52feba1bf76b',\n",
       " '2fd04e3b-b7b6-40d6-815c-b5423381f9c4',\n",
       " '3c0b5ccf-1458-4021-97e8-31d60dce6429',\n",
       " '91ac16aa-f773-46db-85ff-5839a4f39d6b',\n",
       " 'f25d1703-0f6d-41c9-957b-b468779bf777',\n",
       " '8eac707a-337b-432d-8ff4-5f2db06585a7',\n",
       " 'ea56c2e4-e40f-4b20-aa60-bccf0dc080cf',\n",
       " '71edc500-0881-455f-b347-d87e19333754',\n",
       " '6788dcdf-51a4-41a9-aea7-b4c15dd33f7b',\n",
       " '49df6243-d8a3-4a86-b1c3-78c35143cce6',\n",
       " '028ec0d9-f73f-4547-acc4-82e6cbe8bc41',\n",
       " '0bbbcef2-accc-48b6-ae2f-c3c5ad4dd6c1',\n",
       " '9e8e7097-2df4-4ba8-9c1b-92812a86595e',\n",
       " '9d5b016e-363a-4c08-99b1-9720ad8e617a',\n",
       " '0aaeb385-bf56-4d83-9572-2b02a46b6658',\n",
       " '7459ba56-a89c-4922-bc3b-961c78418db7',\n",
       " '53a12deb-eef2-4f21-a414-6a9f24002962',\n",
       " 'b31a4846-336f-4999-949c-26e632dd6a45',\n",
       " 'b5fe3a2a-4d82-495e-af3d-613a77933cb3',\n",
       " '10261311-82e8-45d1-b445-21fec1150987',\n",
       " '7c74d39c-2582-448f-b1e6-91f6e0625749',\n",
       " '39188be4-f3e0-4dc8-8d51-7b9bce010fe4',\n",
       " 'bf2b68fa-6fee-4556-9a4e-30767626b078',\n",
       " '68e5dc5f-7505-4232-9ee4-4f80152d28a5',\n",
       " 'f45e9bca-f459-4789-a584-5426e12c02c6',\n",
       " '0bc46141-19a6-4a0d-8449-2e69b77905e0',\n",
       " '8e3175ef-0e70-4078-bc3f-f09ab2b84c02',\n",
       " '03ae0284-e6da-4c52-a618-11c901656ee2',\n",
       " 'eb27b4f8-bf05-4ad8-a12a-ea5645b04ab5',\n",
       " '666cd436-2f7e-4253-a83c-565834351c8e',\n",
       " '038066ef-9242-4f8d-8915-811a00746a98',\n",
       " 'dca1d4f9-c34e-4801-8c1a-a9d15a137dc8',\n",
       " 'e7c7c8f7-e469-48c0-adf1-9c2ae441f8f1',\n",
       " 'a69fe38c-4f97-4aa1-9b30-2c17fea1b662',\n",
       " 'e910ca02-a948-4cbb-b6dc-3b7911129f5a',\n",
       " '1a48eba5-35bf-45c6-b432-1c0649f6cda8',\n",
       " '770283eb-5ddd-4481-8166-229069fdf2fb',\n",
       " 'ed821979-48e5-4ba0-9247-3eb8bceaa3df',\n",
       " '706df68c-8174-403f-ab82-f8d504b9e0a4',\n",
       " 'a5e4653b-4788-4b6b-92a8-d1165d4c159f',\n",
       " '334bdd03-895d-4e74-8e4b-790378a3ef41',\n",
       " '8e9e23bf-fe14-471c-b63b-17c15043f2c5',\n",
       " 'f1ae80be-2d4a-42f5-8bd8-1d20928b3d17',\n",
       " 'b70f2a27-0267-400d-a442-203da1bf9e55',\n",
       " '9c695756-fa6a-4151-ba16-c727ea8e486d',\n",
       " '433dd486-2ff0-4a4c-8051-406ecaaa8ed2',\n",
       " '0e8d9cfc-3978-4086-8c17-b8312ffb5970',\n",
       " '323affd0-9b6a-4971-95f5-00d8b470acf1',\n",
       " 'c0a8c9f7-5a11-4d1f-af19-f862c6b55627',\n",
       " '7d51ad64-e093-4528-8574-d8e03a7f691c',\n",
       " 'c70d0347-7ca0-47dc-8ed1-075e043349aa',\n",
       " '4c9bba1d-cd6e-4f54-9e09-49fcc7e01bb7',\n",
       " '38e195f0-c2e9-4b8f-8bfb-cae75d877869',\n",
       " '164f0417-f78e-4066-83aa-b6a34399595b',\n",
       " '40e963d0-3174-4228-8cc7-d4235ccdd51f',\n",
       " 'ea97b959-04bd-400d-8688-45e0158e65cd',\n",
       " '40b455fb-86bd-40ab-93f3-68949e73fe8e',\n",
       " 'e9111f44-bb62-4c22-94ae-0b929a753300',\n",
       " 'f44cd9cf-efdd-4f1d-9a60-89ec142d6aab',\n",
       " ...]"
      ]
     },
     "execution_count": 26,
     "metadata": {},
     "output_type": "execute_result"
    }
   ],
   "source": [
    "%%time\n",
    "\n",
    "vector_db.add_documents(documents = chunk_docs, \n",
    "                        vector_field = \"vector_field\",\n",
    "                        bulk_size = 1000000)\n"
   ]
  },
  {
   "cell_type": "markdown",
   "metadata": {},
   "source": [
    "# 6. 검색 테스트"
   ]
  },
  {
   "cell_type": "markdown",
   "metadata": {},
   "source": [
    "## Lexical 검색"
   ]
  },
  {
   "cell_type": "code",
   "execution_count": 30,
   "metadata": {
    "tags": []
   },
   "outputs": [
    {
     "name": "stdout",
     "output_type": "stream",
     "text": [
      "query:  {'query': {'bool': {'must': [{'match': {'text': {'query': 'how to add image', 'minimum_should_match': '0%', 'operator': 'or'}}}], 'filter': []}}}\n",
      "# of searched docs:  10\n",
      "# of display: 3\n",
      "---------------------\n",
      "_id in index:  16d8da0d-a568-4c1e-a8ff-e52942140379\n",
      "10.45657\n",
      ". Values Allow users to use Parallels desktop &mdash; Enables Parallels Desktop. When set, you must accept the end-user license agreement. Do not allow users to use Parallels desktop &mdash; Disables Parallels Desktop. Chrome OS 99 and higher Parallels Desktop Windows image The policy set for configuring the Windows OS image that the device user downloads on their Chromebooks in order to use Parallels Desktop. Chrome OS 99 and higher &gt; URL Specifies the address for the Windows image. Values Enter the URL. Chrome OS 99 and higher &gt; SHA-256 hash Specifies the SHA-256 hash of the Windows image. Values Enter the hash. Chrome OS 99 and higher Required disk space Specifies the free disk space required for Parallels Desktop. When deciding on a value, you should take the size of your uncompressed Windows image and add how much space is needed for the additional data or apps you expect to install\n",
      "{'source': 'all_processed_data.json', 'seq_num': 896, 'title': 'Chrome OS policies', 'url': 'https://docs.samsungknox.com/admin/knox-manage/configure/profile/configure-profile-policies/chrome-os-policies', 'project': 'KM', 'last_updated': '2023-07-26'}\n",
      "---------------------\n",
      "_id in index:  a2c995be-49a6-4ba9-8b3e-4c17bd35d7bc\n",
      "10.396848\n",
      ". Note The Screen Saver only runs while the device is charging. The Screen Saver for the Kiosk Browser only runs while the device is connected to a power source. &gt;&gt; Screen Saver Type Select either an image or video type screensaver. &gt;&gt;&gt; Image Select image files for the screen saver. You can add up to 10 image files in PNG, JPG, JPEG, or GIF formats (animated files are not supported). Each image file must be less than 5 MB. To upload an image file, click Add and select a file. To delete an image file, click next to the name of the uploaded image file. Note The device control command must be transferred to the device to apply an image file to it. &gt;&gt;&gt; Video Select a video file for the screen saver. You can add only one video file in the MP4 or MKV format. The video file must be less than 50 MB. To upload a video file, click Add and select a file. To delete a video file, click next to the name of the uploaded video file\n",
      "{'source': 'all_processed_data.json', 'seq_num': 894, 'title': 'Android Legacy policies', 'url': 'https://docs.samsungknox.com/admin/knox-manage/configure/profile/configure-profile-policies/android-legacy-policies', 'project': 'KM', 'last_updated': '2023-07-26'}\n",
      "---------------------\n",
      "_id in index:  4be4bbe0-f68d-4f87-80a5-e37a073d61da\n",
      "9.876945\n",
      ". For details, see Use the Configuration service. Under SUPPORT CONTACT DETAILS, provide a Phone number and Email for device users to reach out for support when encountering issues with their configured device. You can also add a link to your enterprise's Website. ##Product information screen Under PRODUCT INFORMATION SCREEN, you can customize the Configuration service. Product Name - Enter the product name displayed in the product information screen. If left blank, the name of the profile is used by default. Image - Upload a custom image to display in the product information screen. If you don't add an image, the default generic image is shown. The image size can be PNG or JPG format and can't exceed 2MB in size. Optionally, select Add a non-dismissible notification to add a persistent notification that the device user can tap to quickly access the Configuration service. You can customize the notification with your own Application name and Notification message\n",
      "{'source': 'all_processed_data.json', 'seq_num': 365, 'title': 'Create a profile', 'url': 'https://docs.samsungknox.com/admin/knox-configure/get-started/create-a-profile', 'project': 'KC', 'last_updated': '2023-09-27'}\n",
      "---------------------\n"
     ]
    }
   ],
   "source": [
    "query = \"how to add image\"\n",
    " #query = \"how to add image\"\n",
    "query = opensearch_utils.get_query(\n",
    "    query=query\n",
    ")\n",
    "\n",
    "print(\"query: \", query)\n",
    "response = opensearch_utils.search_document(os_client, query, index_name)\n",
    "opensearch_utils.parse_keyword_response(response, show_size=3)"
   ]
  },
  {
   "cell_type": "markdown",
   "metadata": {},
   "source": [
    "## 시멘틱 검색"
   ]
  },
  {
   "cell_type": "code",
   "execution_count": 31,
   "metadata": {},
   "outputs": [
    {
     "data": {
      "text/plain": [
       "[Document(page_content='. You can add up to 10 image files in the PNG, JPG, JPEG, or GIF format (animated files are not supported). Each image file must be less than 5 MB. To upload an image file, click Add and select a file. To delete an image file, click next to the name of the uploaded image file. Note The device control command must be transferred to the device to apply an image file to it. &gt;&gt;&gt; Video Select a video file for the screen saver. You can add only one video file in the MP4 or MKV format. The video file must be less than 50 MB. To upload a video file, click Add and select a file. To delete a video file, click next to the name of the uploaded video file. Note The device control command must be transferred to the device to apply a video to it. &gt; Session timeout Allows the use of the session timeout feature for the Kiosk Browser', metadata={'source': 'all_processed_data.json', 'seq_num': 893, 'title': 'Android Enterprise policies', 'url': 'https://docs.samsungknox.com/admin/knox-manage/configure/profile/configure-profile-policies/android-enterprise-policies', 'project': 'KM', 'last_updated': '2023-09-06'}),\n",
       " Document(page_content='. Screenshot (optional) - Add up to four preview images of the app for device users. Click a frame to open a file dialog, then select an image from your file system. Each screenshot can be in JPG or PNG file formats and must not exceed 5MB in size. 4. Save the app, and choose whether to assign it right away: Click Save & Assign to save the app and assign it. The console takes you to the Assign Application page. For more details, see Assign Windows applications. Click Save to save the app and return to the app list.', metadata={'source': 'all_processed_data.json', 'seq_num': 802, 'title': 'Add public apps using the Microsoft Store', 'url': 'https://docs.samsungknox.com/admin/knox-manage/configure/applications/add-applications/add-public-apps-using-the-microsoft-store', 'project': 'KM', 'last_updated': '2023-07-26'}),\n",
       " Document(page_content=\"Create a custom animation file. You can create a custom device boot animation by uploading images to play in sequence and setting the desired image orientation, dithering and size. Once created and uploaded, you can preview and verify the animation before adding it to a profile and assigning it to devices. Create an animation To create a custom animation: 1. Click Library in the left-hand navigation menu and click the MEDIA tab. 2. Click ADD MEDIA in the upper right-hand corner. 3. Click CREATE ANIMATION to create a new animation sequence. 4. On the Upload a PNG sequence screen, upload a minimum of two and a maximum of 99 PNG images to use as the animation frames. Ensure the PNG files you upload are the same dimension and resolution as the target device's screen dimensions and display resolution to ensure an optimal display. 5. Give your animation a name and configure the following settings: Rotation - Select the animation's degree of rotation. Sizing - Select how the animation will display on the device\", metadata={'source': 'all_processed_data.json', 'seq_num': 382, 'title': 'Create a custom animation file', 'url': 'https://docs.samsungknox.com/admin/knox-configure/how-to-guides/library/create-a-custom-animation-file', 'project': 'KC', 'last_updated': '2023-07-26'}),\n",
       " Document(page_content=\". #Logo For more information about setting the logo, see Setting the logo. Option Description Logo Image Click Select Image and upload the image file of your company logo. The image must be a GIF, JPG, PNG, or BMP file. The file cannot be larger than 190 x 33 and must be 1 MB or lower. Click Default to use the default image as your company logo. Header Colo Click the color box and set a color for the header. Header Font Colo Click the color box and set a color for the header text. Preview Preview the company logo. #Authentication/Login Configure the settings about the login environment and the administrator account. Option Description Two-Factor Authentication Enable the use of OTP authentication as well as an account ID and password when administrators sign in to the Admin Portal. For OTP authentication, the administrator's mobile phone number or email address is required. Allow Multi-point Logins Allow concurrent logins to the Admin Portal\", metadata={'source': 'all_processed_data.json', 'seq_num': 779, 'title': 'List of environment settings', 'url': 'https://docs.samsungknox.com/admin/knox-manage/configure/advanced-settings/list-of-environment-settings', 'project': 'KM', 'last_updated': '2023-07-26'})]"
      ]
     },
     "execution_count": 31,
     "metadata": {},
     "output_type": "execute_result"
    }
   ],
   "source": [
    "vector_db.similarity_search(\"How to add image\")"
   ]
  },
  {
   "cell_type": "markdown",
   "metadata": {
    "tags": []
   },
   "source": [
    "## 하이브리드 검색"
   ]
  },
  {
   "cell_type": "code",
   "execution_count": 32,
   "metadata": {
    "tags": []
   },
   "outputs": [],
   "source": [
    "from langchain.chains.question_answering import load_qa_chain\n",
    "from local_utils.rag import get_semantic_similar_docs, get_lexical_similar_docs, get_ensemble_results"
   ]
  },
  {
   "cell_type": "code",
   "execution_count": 33,
   "metadata": {
    "tags": []
   },
   "outputs": [],
   "source": [
    "import copy\n",
    "from langchain.schema import Document\n",
    "from langchain import PromptTemplate\n",
    "from operator import itemgetter"
   ]
  },
  {
   "cell_type": "code",
   "execution_count": 34,
   "metadata": {
    "tags": []
   },
   "outputs": [],
   "source": [
    "from local_utils.proc_docs import search_hybrid"
   ]
  },
  {
   "cell_type": "code",
   "execution_count": 35,
   "metadata": {
    "tags": []
   },
   "outputs": [
    {
     "name": "stdout",
     "output_type": "stream",
     "text": [
      "Query: \n",
      " How to add image\n",
      "##############################\n",
      "similar_docs_semantic\n",
      "##############################\n",
      "\n",
      "Score: 1.0\n",
      "['. You can add up to 10 image files in the PNG, JPG, JPEG, or GIF format (animated files are not supported). Each image file must be less than 5 MB. To upload an image file, click Add and select a file. To delete an image file, click next to the name of the uploaded image file. Note The device control command must be transferred to the device to apply an image file to it. &gt;&gt;&gt; Video Select a video file for the screen saver. You can add only one video file in the MP4 or MKV format. The video file must be less than 50 MB. To upload a video file, click Add and select a file. To delete a video file, click next to the name of the uploaded video file. Note The device control command must be transferred to the device to apply a video to it. &gt; Session timeout Allows the use of the session timeout feature for the Kiosk Browser']\n",
      "{'source': 'all_processed_data.json', 'seq_num': 893, 'title': 'Android Enterprise policies', 'url': 'https://docs.samsungknox.com/admin/knox-manage/configure/profile/configure-profile-policies/android-enterprise-policies', 'project': 'KM', 'last_updated': '2023-09-06'}\n",
      "--------------------------------------------------\n",
      "\n",
      "Score: 0.9549920026005402\n",
      "['. Screenshot (optional) - Add up to four preview images of the app for device users. Click a frame to open a file dialog, then select an image from your file system. Each screenshot can be in JPG or PNG file formats and must not exceed 5MB in size. 4. Save the app, and choose whether to assign it right away: Click Save & Assign to save the app and assign it. The console takes you to the Assign Application page. For more details, see Assign Windows applications. Click Save to save the app and return to the app list.']\n",
      "{'source': 'all_processed_data.json', 'seq_num': 802, 'title': 'Add public apps using the Microsoft Store', 'url': 'https://docs.samsungknox.com/admin/knox-manage/configure/applications/add-applications/add-public-apps-using-the-microsoft-store', 'project': 'KM', 'last_updated': '2023-07-26'}\n",
      "--------------------------------------------------\n",
      "\n",
      "Score: 0.9474666471929256\n",
      "[\"Create a custom animation file. You can create a custom device boot animation by uploading images to play in sequence and setting the desired image orientation, dithering and size. Once created and uploaded, you can preview and verify the animation before adding it to a profile and assigning it to devices. Create an animation To create a custom animation: 1. Click Library in the left-hand navigation menu and click the MEDIA tab. 2. Click ADD MEDIA in the upper right-hand corner. 3. Click CREATE ANIMATION to create a new animation sequence. 4. On the Upload a PNG sequence screen, upload a minimum of two and a maximum of 99 PNG images to use as the animation frames. Ensure the PNG files you upload are the same dimension and resolution as the target device's screen dimensions and display resolution to ensure an optimal display. 5. Give your animation a name and configure the following settings: Rotation - Select the animation's degree of rotation. Sizing - Select how the animation will display on the device\"]\n",
      "{'source': 'all_processed_data.json', 'seq_num': 382, 'title': 'Create a custom animation file', 'url': 'https://docs.samsungknox.com/admin/knox-configure/how-to-guides/library/create-a-custom-animation-file', 'project': 'KC', 'last_updated': '2023-07-26'}\n",
      "--------------------------------------------------\n",
      "lexical search query: \n",
      "{'query': {'bool': {'filter': [],\n",
      "                    'must': [{'match': {'text': {'minimum_should_match': '75%',\n",
      "                                                 'operator': 'or',\n",
      "                                                 'query': 'How to add '\n",
      "                                                          'image'}}}]}},\n",
      " 'size': 3}\n",
      "##############################\n",
      "similar_docs_keyword\n",
      "##############################\n",
      "\n",
      "Score: 1.0\n",
      "['. Values Allow users to use Parallels desktop &mdash; Enables Parallels Desktop. When set, you must accept the end-user license agreement. Do not allow users to use Parallels desktop &mdash; Disables Parallels Desktop. Chrome OS 99 and higher Parallels Desktop Windows image The policy set for configuring the Windows OS image that the device user downloads on their Chromebooks in order to use Parallels Desktop. Chrome OS 99 and higher &gt; URL Specifies the address for the Windows image. Values Enter the URL. Chrome OS 99 and higher &gt; SHA-256 hash Specifies the SHA-256 hash of the Windows image. Values Enter the hash. Chrome OS 99 and higher Required disk space Specifies the free disk space required for Parallels Desktop. When deciding on a value, you should take the size of your uncompressed Windows image and add how much space is needed for the additional data or apps you expect to install']\n",
      "{'source': 'all_processed_data.json', 'seq_num': 896, 'title': 'Chrome OS policies', 'url': 'https://docs.samsungknox.com/admin/knox-manage/configure/profile/configure-profile-policies/chrome-os-policies', 'project': 'KM', 'last_updated': '2023-07-26', 'id': '16d8da0d-a568-4c1e-a8ff-e52942140379'}\n",
      "--------------------------------------------------\n",
      "\n",
      "Score: 0.9942885669010011\n",
      "['. Note The Screen Saver only runs while the device is charging. The Screen Saver for the Kiosk Browser only runs while the device is connected to a power source. &gt;&gt; Screen Saver Type Select either an image or video type screensaver. &gt;&gt;&gt; Image Select image files for the screen saver. You can add up to 10 image files in PNG, JPG, JPEG, or GIF formats (animated files are not supported). Each image file must be less than 5 MB. To upload an image file, click Add and select a file. To delete an image file, click next to the name of the uploaded image file. Note The device control command must be transferred to the device to apply an image file to it. &gt;&gt;&gt; Video Select a video file for the screen saver. You can add only one video file in the MP4 or MKV format. The video file must be less than 50 MB. To upload a video file, click Add and select a file. To delete a video file, click next to the name of the uploaded video file']\n",
      "{'source': 'all_processed_data.json', 'seq_num': 894, 'title': 'Android Legacy policies', 'url': 'https://docs.samsungknox.com/admin/knox-manage/configure/profile/configure-profile-policies/android-legacy-policies', 'project': 'KM', 'last_updated': '2023-07-26', 'id': 'a2c995be-49a6-4ba9-8b3e-4c17bd35d7bc'}\n",
      "--------------------------------------------------\n",
      "\n",
      "Score: 0.9445683431565035\n",
      "[\". For details, see Use the Configuration service. Under SUPPORT CONTACT DETAILS, provide a Phone number and Email for device users to reach out for support when encountering issues with their configured device. You can also add a link to your enterprise's Website. ##Product information screen Under PRODUCT INFORMATION SCREEN, you can customize the Configuration service. Product Name - Enter the product name displayed in the product information screen. If left blank, the name of the profile is used by default. Image - Upload a custom image to display in the product information screen. If you don't add an image, the default generic image is shown. The image size can be PNG or JPG format and can't exceed 2MB in size. Optionally, select Add a non-dismissible notification to add a persistent notification that the device user can tap to quickly access the Configuration service. You can customize the notification with your own Application name and Notification message\"]\n",
      "{'source': 'all_processed_data.json', 'seq_num': 365, 'title': 'Create a profile', 'url': 'https://docs.samsungknox.com/admin/knox-configure/get-started/create-a-profile', 'project': 'KC', 'last_updated': '2023-09-27', 'id': '4be4bbe0-f68d-4f87-80a5-e37a073d61da'}\n",
      "--------------------------------------------------\n",
      "##############################\n",
      "similar_docs_ensemble\n",
      "##############################\n",
      "\n",
      "Score: 0.00819672131147541\n",
      "['. Values Allow users to use Parallels desktop &mdash; Enables Parallels Desktop. When set, you must accept the end-user license agreement. Do not allow users to use Parallels desktop &mdash; Disables Parallels Desktop. Chrome OS 99 and higher Parallels Desktop Windows image The policy set for configuring the Windows OS image that the device user downloads on their Chromebooks in order to use Parallels Desktop. Chrome OS 99 and higher &gt; URL Specifies the address for the Windows image. Values Enter the URL. Chrome OS 99 and higher &gt; SHA-256 hash Specifies the SHA-256 hash of the Windows image. Values Enter the hash. Chrome OS 99 and higher Required disk space Specifies the free disk space required for Parallels Desktop. When deciding on a value, you should take the size of your uncompressed Windows image and add how much space is needed for the additional data or apps you expect to install']\n",
      "{'source': 'all_processed_data.json', 'seq_num': 896, 'title': 'Chrome OS policies', 'url': 'https://docs.samsungknox.com/admin/knox-manage/configure/profile/configure-profile-policies/chrome-os-policies', 'project': 'KM', 'last_updated': '2023-07-26', 'id': '16d8da0d-a568-4c1e-a8ff-e52942140379'}\n",
      "--------------------------------------------------\n",
      "\n",
      "Score: 0.00819672131147541\n",
      "['. You can add up to 10 image files in the PNG, JPG, JPEG, or GIF format (animated files are not supported). Each image file must be less than 5 MB. To upload an image file, click Add and select a file. To delete an image file, click next to the name of the uploaded image file. Note The device control command must be transferred to the device to apply an image file to it. &gt;&gt;&gt; Video Select a video file for the screen saver. You can add only one video file in the MP4 or MKV format. The video file must be less than 50 MB. To upload a video file, click Add and select a file. To delete a video file, click next to the name of the uploaded video file. Note The device control command must be transferred to the device to apply a video to it. &gt; Session timeout Allows the use of the session timeout feature for the Kiosk Browser']\n",
      "{'source': 'all_processed_data.json', 'seq_num': 893, 'title': 'Android Enterprise policies', 'url': 'https://docs.samsungknox.com/admin/knox-manage/configure/profile/configure-profile-policies/android-enterprise-policies', 'project': 'KM', 'last_updated': '2023-09-06'}\n",
      "--------------------------------------------------\n",
      "\n",
      "Score: 0.008064516129032258\n",
      "['. Note The Screen Saver only runs while the device is charging. The Screen Saver for the Kiosk Browser only runs while the device is connected to a power source. &gt;&gt; Screen Saver Type Select either an image or video type screensaver. &gt;&gt;&gt; Image Select image files for the screen saver. You can add up to 10 image files in PNG, JPG, JPEG, or GIF formats (animated files are not supported). Each image file must be less than 5 MB. To upload an image file, click Add and select a file. To delete an image file, click next to the name of the uploaded image file. Note The device control command must be transferred to the device to apply an image file to it. &gt;&gt;&gt; Video Select a video file for the screen saver. You can add only one video file in the MP4 or MKV format. The video file must be less than 50 MB. To upload a video file, click Add and select a file. To delete a video file, click next to the name of the uploaded video file']\n",
      "{'source': 'all_processed_data.json', 'seq_num': 894, 'title': 'Android Legacy policies', 'url': 'https://docs.samsungknox.com/admin/knox-manage/configure/profile/configure-profile-policies/android-legacy-policies', 'project': 'KM', 'last_updated': '2023-07-26', 'id': 'a2c995be-49a6-4ba9-8b3e-4c17bd35d7bc'}\n",
      "--------------------------------------------------\n",
      "CPU times: user 6.2 ms, sys: 3.65 ms, total: 9.85 ms\n",
      "Wall time: 121 ms\n"
     ]
    }
   ],
   "source": [
    "%%time\n",
    "\n",
    "\n",
    "filter01 = \"[]\"\n",
    "filter02 = \"[]\"\n",
    "\n",
    "# query = \"how to add image\"\n",
    "query = \"How to add image\"\n",
    "\n",
    "search_hybrid_result = search_hybrid(\n",
    "    query=query,\n",
    "    vector_db=vector_db,\n",
    "    k=3,\n",
    "    index_name= index_name,\n",
    "    os_client=os_client,\n",
    "    filter=[\n",
    "        {\"term\": {\"metadata.type\": filter01}},\n",
    "        {\"term\": {\"metadata.source\": filter02}},\n",
    "    ],\n",
    "    Semantic_Search = False,    \n",
    "    Lexical_Search = False,    \n",
    "    Hybrid_Search = True,     \n",
    "    minimum_should_match = 75,   \n",
    "    fusion_algorithm=\"RRF\", # [\"RRF\", \"simple_weighted\"]\n",
    "    ensemble_weights=[.5, .5], # 시멘트 서치에 가중치 0.5 , 키워드 서치 가중치 0.5 부여.\n",
    "    verbose=True\n",
    ")\n",
    "\n"
   ]
  },
  {
   "cell_type": "markdown",
   "metadata": {},
   "source": [
    "# 7. 검증 인덱스 생성"
   ]
  },
  {
   "cell_type": "markdown",
   "metadata": {},
   "source": [
    "## Index 이름 결정"
   ]
  },
  {
   "cell_type": "code",
   "execution_count": 36,
   "metadata": {
    "tags": []
   },
   "outputs": [],
   "source": [
    "eval_index_name = \"genai-poc-knox-cohere-en-eval-1024c-256o-v21\""
   ]
  },
  {
   "cell_type": "markdown",
   "metadata": {},
   "source": [
    "## Sampling"
   ]
  },
  {
   "cell_type": "code",
   "execution_count": 37,
   "metadata": {
    "tags": []
   },
   "outputs": [
    {
     "name": "stdout",
     "output_type": "stream",
     "text": [
      "eval docs:  34\n"
     ]
    },
    {
     "data": {
      "text/plain": [
       "[Document(page_content='How-to videos. Contains videos on how to use Knox E-FOTA. This section contains videos on how to use Knox E-FOTA. Getting started with Knox E-FOTA This video walks you through the Knox E-FOTA console and demonstrates how you can register a reseller, approve a device, create a campaign, assign a campaign, and monitor device status. Creating a campaign on Knox E-FOTA The following video provides in-depth information on how to create and apply a Knox E-FOTA campaign to your Samsung devices. Connecting Knox E-FOTA to VMware Workspace ONE The following video describes the simple steps of connecting Knox E-FOTA with VMware Workspace ONE, while adding device groups from Workspace ONE.', metadata={'source': 'all_processed_data.json', 'seq_num': 1, 'title': 'How-to videos', 'url': 'https://docs.samsungknox.com/admin/efota-one/how-to-videos', 'project': 'EFOTA', 'last_updated': '2023-09-27'}),\n",
       " Document(page_content='Knox E-FOTA. Knox E-FOTA enables enterprise IT admins to remotely deploy OS versions and security updates to corporate devices without requiring user interaction. Test updates before deployment to verify compatibility between in-house apps and new OS versions, all while increasing the security of enterprise devices by ensuring the latest security patches are deployed on a schedule. Try for free Audience This document is intended for: System Security Architects - Understand how Knox E-FOTA works, and how you can use it to update fleets of enterprise devices. IT Admins - Learn to manage over-the-air updates for enterprise devices. Try the solution Streamline your mobile update workflow using Knox E-FOTA. Enable version control management, and deploy OS updates by setting updates to occur outside business hours to avoid disruptions to productivity. Start tutorial About Knox E-FOTA Knox E-FOTA\"is an enterprise solution that controls OS versions on Samsung mobile devices to maximize cost efficiency. It helps IT admins do the following: Ensure that the latest security patches are deployed to devices on schedule. Test updates before deployment, ensuring compatibility between in-house apps and new OS versions. Key Features , Forced updates - Simplify your device management experience by deploying forced updates so that all devices have the same OS version on every device. You can push updates without requiring user interaction. Selective OS\"version - The latest OS version isn\\'t always compatible with your in-house apps. Ensure operational continuity by controlling which OS version to deploy to your devices. You can lock them to that version until you\\'re ready to deploy the latest OS version. Scheduled updates - Minimize business interruptions by scheduling firmware updates to occur outside business hours. For a full list of all features, visit the product page for Knox E-FOTA. Benefits 1. Software compatibility testing - Only enforce updates once the software is tested to ensure compatibility between internal apps and new OS versions. This helps minimize the need for IT support for compatibility issues. 2. Device security - Deploy the latest verified firmware along with the latest security patches - also called Security Maintenance Releases (SMR) - to all corporate-liable devices immediately without requiring user interaction. 3. Efficient rollout - Maintain productivity by specifying a time when devices download and install updates to minimize business interruptions. IT admins can stagger the deployment of updates (for example, by region) to ensure operational continuity. 4. Efficient device management - Remotely deploying forced updates ensures that all enterprise devices are always running the latest validated OS version. Having a uniform view of all devices allows IT admins to manage them more efficiently. Silent updates do not require user interaction so they can\\'t be postponed or rejected. How does Knox E-FOTA work? Firmware-over-the-air (FOTA) is a service that allows IT admins to efficiently and securely push firmware updates to a fleet of enterprise mobile devices. Typically, the latest firmware updates are pushed to devices by their service provider through a Samsung Business-To-Consumer (B2C) FOTA server. The problem with this is that the latest firmware isn\\'t always compatible with a company\\'s in-house apps. Without Knox E-FOTA, companies can only address this problem by doing the following: Always update to the latest OS version, Block all OS updates using their EMM Knox E-FOTA\"allows admins to select a firmware version to deploy, even if it\\'s not the latest version. Devices are then locked to that version. When admins have performed compatibility testing on a later firmware version, they can then update devices to the tested version. With Knox E-FOTA, businesses push firmware updates from a Samsung Business-To-Business (B2B) FOTA\"server There are exceptions, such as AT&T and Verizon, which provide firmware updates from their own servers and not through Samsung\\'s Knox E-FOTA service. The B2B FOTA server then syncs the device information with the B2C FOTA server. #Downloading firmware versions Knox E-FOTA gives you access to a list of official firmware released via the general Samsung FOTA service within the last 12 months. An additional firmware list could be provided following an extra consultation. When pushing a firmware update, Samsung generates a delta file or a change file for updating from the current firmware version to a target version. This is then released via the general Samsung FOTA server and delivered to enterprise devices over-the-air. Firmware files are available from the Knox E-FOTA server for an average of 12 months. In some cases, especially when upgrading devices to a major Android OS version, you may be required to download several delta files to reach the target firmware version. On Knox E-FOTA\"Advanced, this means you may need to run several campaigns incrementally to reach a target version. On Knox E-FOTA and\"Knox E-FOTA\"on MDM, only one campaign is needed; the required delta files are sequentially installed automatically. Regardless of which Knox E-FOTA edition you\\'re using, this will result in devices rebooting multiple times. Compare the Knox E-FOTA editions There are three editions available for the Knox E-FOTA service: Knox E-FOTA, Knox E-FOTA\"Advanced, Knox E-FOTA on MDM This section describes their key differentiating features. Feature Knox E-FOTA on MDM Knox E-FOTA Advanced Knox E-FOTA Description Selective OS version ✔ ✔ ✔ Select an OS version to be deployed to the devices, and prevent updates to OS versions that have not been verified with internal apps. Forced update (silent) ✔ ✔ ✔ Deploy OS updates to devices without requiring user interaction. Scheduled update ✔ ✔ ✔ Set a specific date and time range (for example, non-business hours) to download and install an OS update. Forced update (critical) ✔ ✔ Allow the user to postpone an update (with a maximum delay duration) during an ongoing critical job. The user can\\'t decline the update. Additional campaign options ✔ ✔ Set the following options: Allow firmware download while roaming. Allow installation only when connected to a charging dock. Ability to view the campaign status ✔ ✔ View the status of campaign operations. Monitoring dashboard Widgets for device and campaign statuses are available on Knox E-FOTA Advanced. ✔ Monitor various areas of Knox E-FOTA through a dashboard. Independent web console ✔ ✔ Perform administrative tasks through a web portal. Network bandwidth control ✔ ✔ Deploy firmware updates within a set maximum bandwidth. Wi-Fi only mode ✔ ✔ Save on cellular usage costs by setting downloads and updates to occur only through Wi-Fi. Ability to update multiple models per campaign ✔ In a single campaign, you can assign multiple device models to different firmware releases. Sequential updates per campaign ✔ ✔ Update from any version to a target version with just one campaign. That is, you don\\'t need to create multiple campaigns to incrementally update a device from its current version to a target version. Ability to sync device group and organization information with EMM ✔ ✔ Streamline your device management tasks by importing device groups from your EMM. Connecting Knox E-FOTA to your EMM helps ensure that your device groups are never out of sync. Device information is managed in the EMM so that the Knox E-FOTA admin doesn\\'t have to do it manually. Automatic client app installation through EMM ✔ For certain EMMs (for example, Knox Manage and VMware), you can simplify the onboarding process by pushing the Knox E-FOTA client app to devices through the Knox E-FOTA admin portal. Push and poll Pushing is supported on Knox E-FOTA on MDM. Polling is supported on Knox E-FOTA Advanced. ✔ Push campaign updates immediately from the Knox E-FOTA server to assigned devices. There\\'s no need to wait for devices to poll the Knox E-FOTA server. Poll the server for campaign updates. The client app (that is, the agent on the device) periodically checks the policy and applies any campaign updates that may not have been successfully applied to it. Device registration through Knox Deployment Program (KDP) ✔ Resellers can automatically upload your devices to Knox E-FOTA so that you don\\'t have to add them yourself. You can auto-approve their uploads and auto-assign the devices to a default campaign. This feature is only available through KDP. Out-of-box installation of Knox E-FOTA client app ✔ For devices purchased through a reseller that have Android P or later, the client app is automatically installed during the out-of-box experience. Support for multiple licenses ✔ Add licenses as needed to support more devices, while keeping existing licenses active. Consolidated admin access ✔ Sign in to SamsungKnox.com once and gain access to all Knox Cloud Services (KCS) products you\\'re subscribed to. Consistent user experience ✔ The Knox E-FOTA admin portal has a user interface that\\'s consistent with other KCS products on SamsungKnox.com.', metadata={'source': 'all_processed_data.json', 'seq_num': 2, 'title': 'Knox E-FOTA', 'url': 'https://docs.samsungknox.com/admin/efota-one', 'project': 'EFOTA', 'last_updated': '2023-07-26'})]"
      ]
     },
     "execution_count": 37,
     "metadata": {},
     "output_type": "execute_result"
    }
   ],
   "source": [
    "import random\n",
    "def get_sampling_doc(seed, ratio, docs):\n",
    "\n",
    "    random.seed(seed)\n",
    "    \n",
    "    eval_docs = docs[:int(len(docs)*ratio)]\n",
    "    \n",
    "    return eval_docs\n",
    "    \n",
    "eval_docs = get_sampling_doc(seed=200, ratio=0.02, docs= all_docs)\n",
    "print(\"eval docs: \", len(eval_docs))\n",
    "eval_docs[0:2]\n",
    "    \n",
    "    "
   ]
  },
  {
   "cell_type": "code",
   "execution_count": 38,
   "metadata": {
    "tags": []
   },
   "outputs": [
    {
     "name": "stdout",
     "output_type": "stream",
     "text": [
      "Number of chunk_docs after split and chunking= 129\n"
     ]
    }
   ],
   "source": [
    "chunk_docs = text_splitter.split_documents(eval_docs)\n",
    "print(f\"Number of chunk_docs after split and chunking= {len(chunk_docs)}\")"
   ]
  },
  {
   "cell_type": "markdown",
   "metadata": {},
   "source": [
    "## 오픈 서치 인덱스 유무에 따라 삭제\n",
    "오픈 서치에 해당 인덱스가 존재하면, 삭제 합니다. "
   ]
  },
  {
   "cell_type": "code",
   "execution_count": 39,
   "metadata": {
    "tags": []
   },
   "outputs": [
    {
     "name": "stdout",
     "output_type": "stream",
     "text": [
      "index_name=genai-poc-knox-cohere-en-eval-1024c-256o-v21, exists=False\n",
      "\n",
      "Creating index:\n",
      "{'acknowledged': True, 'shards_acknowledged': True, 'index': 'genai-poc-knox-cohere-en-eval-1024c-256o-v21'}\n",
      "Index is created\n",
      "{'genai-poc-knox-cohere-en-eval-1024c-256o-v21': {'aliases': {},\n",
      "                                                  'mappings': {'properties': {'metadata': {'properties': {'last_updated': {'type': 'date'},\n",
      "                                                                                                          'project': {'type': 'keyword'},\n",
      "                                                                                                          'seq_num': {'type': 'long'},\n",
      "                                                                                                          'source': {'type': 'keyword'},\n",
      "                                                                                                          'title': {'type': 'text'},\n",
      "                                                                                                          'url': {'type': 'text'}}},\n",
      "                                                                              'text': {'type': 'text'},\n",
      "                                                                              'vector_field': {'dimension': 1536,\n",
      "                                                                                               'type': 'knn_vector'}}},\n",
      "                                                  'settings': {'index': {'creation_date': '1708848760922',\n",
      "                                                                         'knn': 'true',\n",
      "                                                                         'knn.space_type': 'cosinesimil',\n",
      "                                                                         'number_of_replicas': '1',\n",
      "                                                                         'number_of_shards': '5',\n",
      "                                                                         'provided_name': 'genai-poc-knox-cohere-en-eval-1024c-256o-v21',\n",
      "                                                                         'replication': {'type': 'DOCUMENT'},\n",
      "                                                                         'uuid': '7GvChuV5SS-o7JJC_MW_Yg',\n",
      "                                                                         'version': {'created': '136327827'}}}}}\n"
     ]
    }
   ],
   "source": [
    "index_exists = opensearch_utils.check_if_index_exists(\n",
    "    os_client,\n",
    "    eval_index_name\n",
    ")\n",
    "\n",
    "if index_exists:\n",
    "    opensearch_utils.delete_index(\n",
    "        os_client,\n",
    "        eval_index_name\n",
    "    )\n",
    "    \n",
    "opensearch_utils.create_index(os_client, eval_index_name, index_body)\n",
    "index_info = os_client.indices.get(index=eval_index_name)\n",
    "print(\"Index is created\")\n",
    "pprint(index_info)    "
   ]
  },
  {
   "cell_type": "markdown",
   "metadata": {},
   "source": [
    "## 검증 인덱스 생성"
   ]
  },
  {
   "cell_type": "code",
   "execution_count": 40,
   "metadata": {
    "tags": []
   },
   "outputs": [
    {
     "data": {
      "text/plain": [
       "<langchain_community.vectorstores.opensearch_vector_search.OpenSearchVectorSearch at 0x7fe11daff220>"
      ]
     },
     "execution_count": 40,
     "metadata": {},
     "output_type": "execute_result"
    }
   ],
   "source": [
    "eval_vector_db = OpenSearchVectorSearch(\n",
    "    index_name= eval_index_name,\n",
    "    opensearch_url=opensearch_domain_endpoint,\n",
    "    embedding_function=llm_emb,\n",
    "    http_auth=http_auth, # http_auth\n",
    "    is_aoss =False,\n",
    "    engine=\"faiss\",\n",
    "    space_type=\"l2\",\n",
    "    bulk_size=100000,\n",
    "    timeout=60    \n",
    ")\n",
    "vector_db"
   ]
  },
  {
   "cell_type": "code",
   "execution_count": 41,
   "metadata": {
    "collapsed": true,
    "jupyter": {
     "outputs_hidden": true
    },
    "tags": []
   },
   "outputs": [
    {
     "name": "stdout",
     "output_type": "stream",
     "text": [
      "CPU times: user 292 ms, sys: 21.3 ms, total: 313 ms\n",
      "Wall time: 13.1 s\n"
     ]
    },
    {
     "data": {
      "text/plain": [
       "['4ba4a4cd-d962-4bb8-a11f-31d9a8b393f4',\n",
       " '3c362f52-4dd9-4fdf-a1f0-0c63263ec692',\n",
       " '8827fdc1-a315-4631-8a98-d2cf49557f18',\n",
       " '79e199d0-0bd2-4e5d-a623-c0d9e19ce2db',\n",
       " '9e806319-a908-4986-a20a-78120d7d7323',\n",
       " '11990f92-8a01-45ea-b96f-e5f797ef30a5',\n",
       " 'eca6c5af-06d0-4036-87b4-025ccda2d9c5',\n",
       " '712e26ec-e6c2-4c02-a3b9-63b819dbf4c1',\n",
       " 'cff7c6a4-51fe-47b0-ba1d-6c3fabe899c1',\n",
       " '00aef10d-2174-406f-a2f2-4b16123b0307',\n",
       " 'edf904b1-e5c8-4cd5-a46d-930fda497b66',\n",
       " 'c6b1358c-5f02-49c3-ae2d-d3592b8be1fe',\n",
       " '1587c68a-fb84-446f-ad04-906480b8bcf1',\n",
       " 'aeb08985-23bf-436b-9117-88b58e76104a',\n",
       " '0f7e763a-09a2-4ccf-b0ed-8316b5f9032a',\n",
       " 'bea07acc-8735-4035-b536-05037f139559',\n",
       " 'a8cc66ee-f37d-44da-b105-b1269953ad55',\n",
       " '51c5406b-23c5-4ea0-a1b4-2fcc754ecfbd',\n",
       " '05d7158f-40dc-4734-a14c-6429a4be2cc8',\n",
       " '442ba596-e479-48e4-990e-ff66937c55c7',\n",
       " '6ec9e01c-389c-4602-b629-d24496cab6e1',\n",
       " '7cdf688e-f107-4c4c-b01d-143618ca980e',\n",
       " 'ab242803-6c6b-4820-9190-5260244f71c4',\n",
       " '1481b419-0f54-4e42-8d4c-46ad5dbba2de',\n",
       " 'c74b046f-942d-47a7-8fa0-934883a4a4fb',\n",
       " 'b8d27830-07cb-426a-9d51-8f117885bf8d',\n",
       " 'f939c921-5912-4e23-af8b-266a6fb129b9',\n",
       " 'e611d164-eda4-41f1-8b7d-d302d394e419',\n",
       " 'cc1842f1-cfd7-4797-819b-14dcaed44bfc',\n",
       " '2b551bf5-ea17-4930-8c88-daa0ae64b798',\n",
       " '95fd61dd-11ed-4989-9835-45b32ce5b8cc',\n",
       " '20d52e69-622b-4557-89a3-144a24a39306',\n",
       " 'cfd52b95-bfc9-4309-86bc-21b4034099a2',\n",
       " 'ca324e50-5506-4aa8-bf34-3780410ee231',\n",
       " 'b6a61b62-a299-4917-b099-69667f4278dd',\n",
       " 'f0b9090c-788b-41b6-8b94-7b6992b35c65',\n",
       " '04c825c7-28b7-4864-b18e-809d3a647355',\n",
       " 'c71def66-87f9-4f4d-b621-895942a82e34',\n",
       " '4181fa8f-45f4-49bc-8ea2-f25b3bc5d96b',\n",
       " '6c80ae3c-7e12-4e1d-95f8-59417d2f38e3',\n",
       " '53865a08-040a-462e-8589-a826ad870697',\n",
       " '50bc27b6-192c-469d-bfc5-1724b7871692',\n",
       " 'e5eb5105-f3fc-46d1-8ed5-5e64c19ccd14',\n",
       " '7297ecb5-75d6-4c1e-be33-1dd26f8bc09b',\n",
       " 'f60bd79e-d288-4d09-88c7-c70ff5de343e',\n",
       " 'b369e375-34ae-46e4-8844-0b27a0f08fa3',\n",
       " '35b2346f-2df6-4d73-b1cb-56ca13730adc',\n",
       " 'e2fb9ed5-62a4-4158-95e7-9a6dfd36eb5c',\n",
       " '38c0c005-eec7-4958-b8f3-a40cad047c9c',\n",
       " 'cc6fcff6-fb6f-46ff-8d51-0809d51af8da',\n",
       " '7559e965-6f71-444b-bfed-4e548c68b488',\n",
       " '55350fc2-04f9-4df2-9336-2358b95a7cbf',\n",
       " '97744c73-dc31-4453-a000-10b97a07326c',\n",
       " '9c2dad16-ab50-4b90-9020-e4b1ba70117e',\n",
       " '7f96f261-4266-45a1-b3df-4d80351ce200',\n",
       " '09c7a7c9-0645-41a1-ba5d-d87f61ee645a',\n",
       " 'a5a72820-f7a4-4926-a44f-6c4006ad31db',\n",
       " '8e4e3b10-51d7-4e64-aec7-9bf6ec82d370',\n",
       " 'f9655e59-efef-4684-bc7b-e20fedfb60db',\n",
       " 'f57fd137-051a-4185-a32f-f3c0e8074390',\n",
       " '3fdafae2-1402-488b-a041-bfccbe13725d',\n",
       " '54f67c61-4c80-4958-aae8-4e66de48a3e1',\n",
       " 'dc22684d-aa3a-4442-9d5b-26e0fedcdbd5',\n",
       " 'a494f95e-3bda-4cc9-ad79-d98834917ae0',\n",
       " '76902a9b-3ad0-47fb-8c65-6ca140396b4b',\n",
       " '7a5d9658-5d13-4e98-83da-e5f0cf8c2da5',\n",
       " '051dbfad-7261-49c1-af11-04e5446b2c81',\n",
       " '9a4c8140-84a8-4238-992a-ec132c617fce',\n",
       " '94c46fd1-ce36-497d-afe8-33680ab6f548',\n",
       " 'c1c72be6-6c1c-4a66-9cfc-4d7145f84671',\n",
       " 'a1fd27d0-67ab-4a14-8dc4-639155407fab',\n",
       " '7c74044c-a636-4ec6-82a9-c82a69fabcd8',\n",
       " 'a2d8f26b-5f6a-4b58-a4b3-09a2f297664f',\n",
       " '74f6398b-73e5-4cf3-957b-2b70367a96bb',\n",
       " 'd04a5717-8a88-4c58-b19a-c6f6e93c68e6',\n",
       " 'c48c696d-fc68-45aa-b7ec-69612d1b68b1',\n",
       " '8ed9c5ed-a971-4767-b585-4a4c56ca3d68',\n",
       " '7aac5756-9106-4e86-bbfd-318faac1e9be',\n",
       " '0fd3d040-fc0e-4847-afcd-9e2ce6c96a45',\n",
       " 'd42232ba-1c91-48fa-98be-3b1ddf29dbc1',\n",
       " 'bfffc543-9d7b-4309-a895-e97d5357bfbc',\n",
       " '3cdf9ae8-4e33-4ce5-b86f-4cf07e9d95eb',\n",
       " '0d619107-99ce-43f7-ab5c-35fa8edc0462',\n",
       " 'f8317b72-1ed0-448f-bbd7-3212eaf11105',\n",
       " '80bab71d-7b36-4481-abb8-c8bc2cd1b74d',\n",
       " 'a07677bf-b622-46d8-b8b6-8276ddf49380',\n",
       " 'b9b3441b-e989-4cbc-8669-d82f2a088df9',\n",
       " '2aa268f6-4843-4ffe-8f9a-843176b7508c',\n",
       " '9ca284c7-cd41-43e0-96b7-a0283aa47394',\n",
       " 'bc4f8388-93b3-4278-82fd-12ad3adfee86',\n",
       " '7f008599-a0d5-4261-8e2c-6b862246af76',\n",
       " '8bae3114-d08d-4a7a-a759-bf2605460864',\n",
       " '64604201-f618-42da-81e8-15427afd2d7d',\n",
       " 'fdbd66b5-d731-4d32-afc4-4fd2bd890c5f',\n",
       " '0d572817-6792-40ee-a5fb-f2c65bbd670a',\n",
       " '000c8a31-e780-44a7-b4db-9d0d9a5a7963',\n",
       " 'ab7561f3-958e-4cda-aba9-a30df6919d31',\n",
       " 'cda83858-7e0d-4b1b-bfde-4eb54aeb7282',\n",
       " '601aa17e-f987-4dfc-bdfa-2993cebabea8',\n",
       " 'ffc15d6a-1a5e-40f5-93d1-5af91323fbde',\n",
       " '3415502c-176c-48e5-8123-f6880f87f203',\n",
       " 'ca9e3716-ddb5-426c-824e-ca06559e3f0c',\n",
       " '3b375288-5c34-4846-a1cb-f9ca7a514016',\n",
       " 'b0e8bfd9-ec59-4309-8213-7c565af78e50',\n",
       " '2aac17e1-749f-48ca-bfb2-58a5ba708f9c',\n",
       " '0f2c08df-b72c-4e62-87f4-df68c250ac74',\n",
       " '08bc4ffe-d458-4841-be67-88301777639f',\n",
       " '7c723f8f-a3ef-424d-b415-031196c33243',\n",
       " '3a05908e-c925-468a-b09a-6be5ca08ec99',\n",
       " '3d4ef3dd-f548-48f7-ad07-a8821ade79c9',\n",
       " '90a5d11d-d4f6-4ba4-a1b1-c96f980521aa',\n",
       " '2bf02492-f8b3-4a0e-9c58-633cac69a18c',\n",
       " '0d42113b-778a-4ceb-93b8-2c66ab4161e4',\n",
       " '892c77e7-8562-469c-bd89-1c0e42618d41',\n",
       " '8ebcd7ec-e2cd-4395-9a2c-953bbcc4463f',\n",
       " 'cb1d76c5-39df-4c79-a082-62af31219767',\n",
       " '256b3da7-f346-4797-9b93-c0da7d363031',\n",
       " '5fcea8bd-cb78-4e3d-bd70-2f697222dbe5',\n",
       " 'cd1e802a-1a33-4446-9ad3-d4e6a6f244ae',\n",
       " '6ffc809a-cb76-4f6f-a27c-d402b9b42174',\n",
       " '0e93d936-0ba9-49d2-bd69-fc4f31a47391',\n",
       " '85620ae3-3fbd-4272-9a77-5e7cf7afd41d',\n",
       " '09100650-d489-4bf4-8038-d35c294172fb',\n",
       " '4aeb3561-4bb9-4db6-b5e6-39450b06d014',\n",
       " '39de771c-0953-498f-8411-ab6bc4948a6c',\n",
       " '70abb405-0b56-4a88-a92b-8166f78a6216',\n",
       " '2939ff5e-fbe6-4bdc-bd0e-c7c47391fc24',\n",
       " '0eca6d6b-4ea7-4794-9580-b1f2377168fa',\n",
       " 'b1a40ae7-570c-4752-a1d0-86ce1f50b70d']"
      ]
     },
     "execution_count": 41,
     "metadata": {},
     "output_type": "execute_result"
    }
   ],
   "source": [
    "%%time\n",
    "\n",
    "eval_vector_db.add_documents(documents = chunk_docs, \n",
    "                        vector_field = \"vector_field\",\n",
    "                        bulk_size = 1000000)\n"
   ]
  },
  {
   "cell_type": "code",
   "execution_count": 42,
   "metadata": {
    "tags": []
   },
   "outputs": [
    {
     "name": "stdout",
     "output_type": "stream",
     "text": [
      "Query: \n",
      " how to add image\n",
      "##############################\n",
      "similar_docs_semantic\n",
      "##############################\n",
      "\n",
      "Score: 1.0\n",
      "['. Create a custom role You can create custom roles and choose their permissions. To create a custom role: 1. Go to Administrators & Roles > Roles. 2. Click Create Role. 3. Select a service for this role to manage. 4. Enter a name and description for the new role. 5. Choose which permissions to grant to the role: Campaigns , Devices and Uploads , Licenses , Resellers , EMM , Activity Log , Administration and Roles , Support , Privacy policy , Knox Cloud API 6. Click Save. The new role is added to the Roles list.']\n",
      "{'source': 'all_processed_data.json', 'seq_num': 26, 'title': 'Manage roles', 'url': 'https://docs.samsungknox.com/admin/efota-one/features/manage-roles', 'project': 'EFOTA', 'last_updated': '2023-07-26'}\n",
      "--------------------------------------------------\n",
      "\n",
      "Score: 0.9946105780310577\n",
      "['. Follow this procedure to approve uploads from resellers you have not registered. 1. Sign in to the Knox Admin Portal. In the left sidebar, click Knox E-FOTA. 2. Go to Devices > Uploads. 3. In the list of uploads, search for the reseller upload you want to approve. Sort and filter by fields as needed. Uploads that need to be approved have the Pending status. 4. Click View. 5. Click Approve All Devices. Approving an upload causes the reseller to be added to your registered resellers list. 6. (Optional) Select Automatically approve all uploads from this reseller. 7. (Optional) Select a default campaign to assign devices to. Devices uploaded by this reseller will be automatically assigned to the default campaign once they are approved. If you skip this step, you can still assign a campaign at any time. 8. Click Approve. #Manage reseller preferences You can manage reseller preferences on Knox E-FOTA. 1. Go to Resellers. 2. Click the name of the reseller you want to change preferences for. 3']\n",
      "{'source': 'all_processed_data.json', 'seq_num': 34, 'title': 'Add devices', 'url': 'https://docs.samsungknox.com/admin/efota-one/get-started/add-devices', 'project': 'EFOTA', 'last_updated': '2023-07-26'}\n",
      "--------------------------------------------------\n",
      "\n",
      "Score: 0.9929584793147678\n",
      "['. 2. Go to Resellers and then click Register Reseller. 3. Enter the Reseller ID and click LOOK UP. 4. If the reseller is found, click Register. The reseller is registered. The next screen allows you to manage your preferences for this reseller. You can always go back to this screen to change your preferences. 5. (Optional) Select Automatically approve all uploads from this reseller. 6. (Optional) Select a default campaign to assign devices to. Devices uploaded by this reseller will be automatically assigned to the default campaign once they are approved. If you skip this step, you can still assign a campaign at any time. 7. Click Save. Your preferences are saved. When the reseller uploads the devices, they show in Devices > Uploads. #Approve an upload from an unregistered reseller When the reseller has uploaded devices to your account, you can find them in Devices > Uploads. Follow this procedure to approve uploads from resellers you have not registered. 1. Sign in to the Knox Admin Portal']\n",
      "{'source': 'all_processed_data.json', 'seq_num': 34, 'title': 'Add devices', 'url': 'https://docs.samsungknox.com/admin/efota-one/get-started/add-devices', 'project': 'EFOTA', 'last_updated': '2023-07-26'}\n",
      "--------------------------------------------------\n",
      "lexical search query: \n",
      "{'query': {'bool': {'filter': [],\n",
      "                    'must': [{'match': {'text': {'minimum_should_match': '75%',\n",
      "                                                 'operator': 'or',\n",
      "                                                 'query': 'how to add '\n",
      "                                                          'image'}}}]}},\n",
      " 'size': 3}\n",
      "##############################\n",
      "similar_docs_keyword\n",
      "##############################\n",
      "\n",
      "Score: 1.0\n",
      "['Add device groups from VMware. Describes how to connect to your VMware account and sync device groups with Knox E-FOTA. This procedure describes how to connect to your VMware account and select the device groups you want to sync with Knox E-FOTA. This procedure assumes that you have the prerequisites needed to connect to VMware. You can only sync Smart Groups from VMware. To add device groups from VMware: 1. Sign in to the Knox Admin Portal. In the left sidebar, click Knox E-FOTA. 2. Go to EMM groups and then click Connect EMM. 3. Select VMware Workspace ONE. 4. Enter your login credentials: you can authenticate in one of the following ways: Username - Username of your VMware account. Password - Password of your VMware account. URL - Your VMware Workspace One URL followed by /API/MDM. API Key - REST API key created using the VMware console. For information on how to create this key, see Create a REST API key on VMware. Client ID - The client ID generated in your VMware console']\n",
      "{'source': 'all_processed_data.json', 'seq_num': 20, 'title': 'Add device groups from VMware', 'url': 'https://docs.samsungknox.com/admin/efota-one/emm-integration/vmware/add-device-groups-from-vmware', 'project': 'EFOTA', 'last_updated': '2023-07-26', 'id': '051dbfad-7261-49c1-af11-04e5446b2c81'}\n",
      "--------------------------------------------------\n",
      "\n",
      "Score: 0.8887281755425875\n",
      "['Add device groups from SOTI. Describes how to connect to your SOTI account and sync device groups with Knox E-FOTA. This procedure describes how to connect to your SOTI account and select the device groups you want to sync with Knox E-FOTA. This procedure assumes that you have the prerequisites needed to connect to SOTI. You can sync device groups from SOTI. You cannot sync virtual groups. In SOTI, device groups can be arranged in hierarchies. That is, a device can belong to a group, and that group can in turn have a parent group. When you add a device from SOTI to Knox E-FOTA, you only get information about the device group that device directly belongs to. To add device groups from SOTI: 1. Sign in to the Knox Admin Portal. In the left sidebar, click Knox E-FOTA. 2. Go to EMM groups and then click Connect EMM. 3. Select SOTI. 4. Enter your login credentials: Username - Your username. Password - Your password. URL - URL of your SOTI admin portal. Client ID - Client ID of your API client for Knox E-FOTA']\n",
      "{'source': 'all_processed_data.json', 'seq_num': 18, 'title': 'Add device groups from SOTI', 'url': 'https://docs.samsungknox.com/admin/efota-one/emm-integration/soti/add-device-groups-from-soti', 'project': 'EFOTA', 'last_updated': '2023-07-26', 'id': 'a494f95e-3bda-4cc9-ad79-d98834917ae0'}\n",
      "--------------------------------------------------\n",
      "\n",
      "Score: 0.8601654604975172\n",
      "[\"Install an app through an EMM. Explains how to install an app through an EMM. This section provides general instructions on how to install an app (like the Knox E-FOTA app) using various EMMs. The general workflow is as follows: 1. Obtain the Knox E-FOTA client APK. 2. In your EMM's console, add the Knox E-FOTA client as an internal app. 3. Set a policy to install the app to your target devices. If your EMM has the capability to automatically launch the client, we strongly recommend you use it. Enrollment cannot be completed until the client is launched on the device. Obtain the Knox E-FOTA client APK This procedure describes how to download the Knox E-FOTA client APK, which you will need in the succeeding procedures. 1. Go to Devices > All Devices. 2. Click Direct Download. 3. In the Direct Download popup, copy the download link for the APK file. The APK file is downloaded to your local machine. Install and assign an app through Knox Manage 1. Add Knox E-FOTA as an internal application. 2\"]\n",
      "{'source': 'all_processed_data.json', 'seq_num': 4, 'title': 'Install an app through an EMM', 'url': 'https://docs.samsungknox.com/admin/efota-one/appendix/install-an-app-through-an-emm', 'project': 'EFOTA', 'last_updated': '2023-07-26', 'id': 'bea07acc-8735-4035-b536-05037f139559'}\n",
      "--------------------------------------------------\n",
      "##############################\n",
      "similar_docs_ensemble\n",
      "##############################\n",
      "\n",
      "Score: 0.00819672131147541\n",
      "['. Create a custom role You can create custom roles and choose their permissions. To create a custom role: 1. Go to Administrators & Roles > Roles. 2. Click Create Role. 3. Select a service for this role to manage. 4. Enter a name and description for the new role. 5. Choose which permissions to grant to the role: Campaigns , Devices and Uploads , Licenses , Resellers , EMM , Activity Log , Administration and Roles , Support , Privacy policy , Knox Cloud API 6. Click Save. The new role is added to the Roles list.']\n",
      "{'source': 'all_processed_data.json', 'seq_num': 26, 'title': 'Manage roles', 'url': 'https://docs.samsungknox.com/admin/efota-one/features/manage-roles', 'project': 'EFOTA', 'last_updated': '2023-07-26'}\n",
      "--------------------------------------------------\n",
      "\n",
      "Score: 0.00819672131147541\n",
      "['Add device groups from VMware. Describes how to connect to your VMware account and sync device groups with Knox E-FOTA. This procedure describes how to connect to your VMware account and select the device groups you want to sync with Knox E-FOTA. This procedure assumes that you have the prerequisites needed to connect to VMware. You can only sync Smart Groups from VMware. To add device groups from VMware: 1. Sign in to the Knox Admin Portal. In the left sidebar, click Knox E-FOTA. 2. Go to EMM groups and then click Connect EMM. 3. Select VMware Workspace ONE. 4. Enter your login credentials: you can authenticate in one of the following ways: Username - Username of your VMware account. Password - Password of your VMware account. URL - Your VMware Workspace One URL followed by /API/MDM. API Key - REST API key created using the VMware console. For information on how to create this key, see Create a REST API key on VMware. Client ID - The client ID generated in your VMware console']\n",
      "{'source': 'all_processed_data.json', 'seq_num': 20, 'title': 'Add device groups from VMware', 'url': 'https://docs.samsungknox.com/admin/efota-one/emm-integration/vmware/add-device-groups-from-vmware', 'project': 'EFOTA', 'last_updated': '2023-07-26', 'id': '051dbfad-7261-49c1-af11-04e5446b2c81'}\n",
      "--------------------------------------------------\n",
      "\n",
      "Score: 0.008064516129032258\n",
      "['. Follow this procedure to approve uploads from resellers you have not registered. 1. Sign in to the Knox Admin Portal. In the left sidebar, click Knox E-FOTA. 2. Go to Devices > Uploads. 3. In the list of uploads, search for the reseller upload you want to approve. Sort and filter by fields as needed. Uploads that need to be approved have the Pending status. 4. Click View. 5. Click Approve All Devices. Approving an upload causes the reseller to be added to your registered resellers list. 6. (Optional) Select Automatically approve all uploads from this reseller. 7. (Optional) Select a default campaign to assign devices to. Devices uploaded by this reseller will be automatically assigned to the default campaign once they are approved. If you skip this step, you can still assign a campaign at any time. 8. Click Approve. #Manage reseller preferences You can manage reseller preferences on Knox E-FOTA. 1. Go to Resellers. 2. Click the name of the reseller you want to change preferences for. 3']\n",
      "{'source': 'all_processed_data.json', 'seq_num': 34, 'title': 'Add devices', 'url': 'https://docs.samsungknox.com/admin/efota-one/get-started/add-devices', 'project': 'EFOTA', 'last_updated': '2023-07-26'}\n",
      "--------------------------------------------------\n",
      "CPU times: user 4.14 ms, sys: 3.76 ms, total: 7.9 ms\n",
      "Wall time: 138 ms\n"
     ]
    }
   ],
   "source": [
    "%%time\n",
    "\n",
    "\n",
    "filter01 = \"[]\"\n",
    "filter02 = \"[]\"\n",
    "\n",
    "query = \"how to add image\"\n",
    "\n",
    "\n",
    "search_hybrid_result = search_hybrid(\n",
    "    query=query,\n",
    "    vector_db= eval_vector_db,\n",
    "    k=3,\n",
    "    index_name= eval_index_name,\n",
    "    os_client=os_client,\n",
    "    filter=[\n",
    "        {\"term\": {\"metadata.type\": filter01}},\n",
    "        {\"term\": {\"metadata.source\": filter02}},\n",
    "    ],\n",
    "    Semantic_Search = False,    \n",
    "    Lexical_Search = False,    \n",
    "    Hybrid_Search = True,     \n",
    "    minimum_should_match = 75,   \n",
    "    fusion_algorithm=\"RRF\", # [\"RRF\", \"simple_weighted\"]\n",
    "    ensemble_weights=[.5, .5], # 시멘트 서치에 가중치 0.5 , 키워드 서치 가중치 0.5 부여.\n",
    "    verbose=True\n",
    ")\n",
    "\n"
   ]
  },
  {
   "cell_type": "markdown",
   "metadata": {},
   "source": [
    "# A. Reference"
   ]
  },
  {
   "cell_type": "markdown",
   "metadata": {},
   "source": [
    "- [Building a RAG AI with OpenSearch Serverless and LangChain](https://caylent.com/blog/building-a-rag-with-open-search-serverless-and-lang-chain)"
   ]
  },
  {
   "cell_type": "code",
   "execution_count": null,
   "metadata": {},
   "outputs": [],
   "source": []
  }
 ],
 "metadata": {
  "availableInstances": [
   {
    "_defaultOrder": 0,
    "_isFastLaunch": true,
    "category": "General purpose",
    "gpuNum": 0,
    "hideHardwareSpecs": false,
    "memoryGiB": 4,
    "name": "ml.t3.medium",
    "vcpuNum": 2
   },
   {
    "_defaultOrder": 1,
    "_isFastLaunch": false,
    "category": "General purpose",
    "gpuNum": 0,
    "hideHardwareSpecs": false,
    "memoryGiB": 8,
    "name": "ml.t3.large",
    "vcpuNum": 2
   },
   {
    "_defaultOrder": 2,
    "_isFastLaunch": false,
    "category": "General purpose",
    "gpuNum": 0,
    "hideHardwareSpecs": false,
    "memoryGiB": 16,
    "name": "ml.t3.xlarge",
    "vcpuNum": 4
   },
   {
    "_defaultOrder": 3,
    "_isFastLaunch": false,
    "category": "General purpose",
    "gpuNum": 0,
    "hideHardwareSpecs": false,
    "memoryGiB": 32,
    "name": "ml.t3.2xlarge",
    "vcpuNum": 8
   },
   {
    "_defaultOrder": 4,
    "_isFastLaunch": true,
    "category": "General purpose",
    "gpuNum": 0,
    "hideHardwareSpecs": false,
    "memoryGiB": 8,
    "name": "ml.m5.large",
    "vcpuNum": 2
   },
   {
    "_defaultOrder": 5,
    "_isFastLaunch": false,
    "category": "General purpose",
    "gpuNum": 0,
    "hideHardwareSpecs": false,
    "memoryGiB": 16,
    "name": "ml.m5.xlarge",
    "vcpuNum": 4
   },
   {
    "_defaultOrder": 6,
    "_isFastLaunch": false,
    "category": "General purpose",
    "gpuNum": 0,
    "hideHardwareSpecs": false,
    "memoryGiB": 32,
    "name": "ml.m5.2xlarge",
    "vcpuNum": 8
   },
   {
    "_defaultOrder": 7,
    "_isFastLaunch": false,
    "category": "General purpose",
    "gpuNum": 0,
    "hideHardwareSpecs": false,
    "memoryGiB": 64,
    "name": "ml.m5.4xlarge",
    "vcpuNum": 16
   },
   {
    "_defaultOrder": 8,
    "_isFastLaunch": false,
    "category": "General purpose",
    "gpuNum": 0,
    "hideHardwareSpecs": false,
    "memoryGiB": 128,
    "name": "ml.m5.8xlarge",
    "vcpuNum": 32
   },
   {
    "_defaultOrder": 9,
    "_isFastLaunch": false,
    "category": "General purpose",
    "gpuNum": 0,
    "hideHardwareSpecs": false,
    "memoryGiB": 192,
    "name": "ml.m5.12xlarge",
    "vcpuNum": 48
   },
   {
    "_defaultOrder": 10,
    "_isFastLaunch": false,
    "category": "General purpose",
    "gpuNum": 0,
    "hideHardwareSpecs": false,
    "memoryGiB": 256,
    "name": "ml.m5.16xlarge",
    "vcpuNum": 64
   },
   {
    "_defaultOrder": 11,
    "_isFastLaunch": false,
    "category": "General purpose",
    "gpuNum": 0,
    "hideHardwareSpecs": false,
    "memoryGiB": 384,
    "name": "ml.m5.24xlarge",
    "vcpuNum": 96
   },
   {
    "_defaultOrder": 12,
    "_isFastLaunch": false,
    "category": "General purpose",
    "gpuNum": 0,
    "hideHardwareSpecs": false,
    "memoryGiB": 8,
    "name": "ml.m5d.large",
    "vcpuNum": 2
   },
   {
    "_defaultOrder": 13,
    "_isFastLaunch": false,
    "category": "General purpose",
    "gpuNum": 0,
    "hideHardwareSpecs": false,
    "memoryGiB": 16,
    "name": "ml.m5d.xlarge",
    "vcpuNum": 4
   },
   {
    "_defaultOrder": 14,
    "_isFastLaunch": false,
    "category": "General purpose",
    "gpuNum": 0,
    "hideHardwareSpecs": false,
    "memoryGiB": 32,
    "name": "ml.m5d.2xlarge",
    "vcpuNum": 8
   },
   {
    "_defaultOrder": 15,
    "_isFastLaunch": false,
    "category": "General purpose",
    "gpuNum": 0,
    "hideHardwareSpecs": false,
    "memoryGiB": 64,
    "name": "ml.m5d.4xlarge",
    "vcpuNum": 16
   },
   {
    "_defaultOrder": 16,
    "_isFastLaunch": false,
    "category": "General purpose",
    "gpuNum": 0,
    "hideHardwareSpecs": false,
    "memoryGiB": 128,
    "name": "ml.m5d.8xlarge",
    "vcpuNum": 32
   },
   {
    "_defaultOrder": 17,
    "_isFastLaunch": false,
    "category": "General purpose",
    "gpuNum": 0,
    "hideHardwareSpecs": false,
    "memoryGiB": 192,
    "name": "ml.m5d.12xlarge",
    "vcpuNum": 48
   },
   {
    "_defaultOrder": 18,
    "_isFastLaunch": false,
    "category": "General purpose",
    "gpuNum": 0,
    "hideHardwareSpecs": false,
    "memoryGiB": 256,
    "name": "ml.m5d.16xlarge",
    "vcpuNum": 64
   },
   {
    "_defaultOrder": 19,
    "_isFastLaunch": false,
    "category": "General purpose",
    "gpuNum": 0,
    "hideHardwareSpecs": false,
    "memoryGiB": 384,
    "name": "ml.m5d.24xlarge",
    "vcpuNum": 96
   },
   {
    "_defaultOrder": 20,
    "_isFastLaunch": false,
    "category": "General purpose",
    "gpuNum": 0,
    "hideHardwareSpecs": true,
    "memoryGiB": 0,
    "name": "ml.geospatial.interactive",
    "supportedImageNames": [
     "sagemaker-geospatial-v1-0"
    ],
    "vcpuNum": 0
   },
   {
    "_defaultOrder": 21,
    "_isFastLaunch": true,
    "category": "Compute optimized",
    "gpuNum": 0,
    "hideHardwareSpecs": false,
    "memoryGiB": 4,
    "name": "ml.c5.large",
    "vcpuNum": 2
   },
   {
    "_defaultOrder": 22,
    "_isFastLaunch": false,
    "category": "Compute optimized",
    "gpuNum": 0,
    "hideHardwareSpecs": false,
    "memoryGiB": 8,
    "name": "ml.c5.xlarge",
    "vcpuNum": 4
   },
   {
    "_defaultOrder": 23,
    "_isFastLaunch": false,
    "category": "Compute optimized",
    "gpuNum": 0,
    "hideHardwareSpecs": false,
    "memoryGiB": 16,
    "name": "ml.c5.2xlarge",
    "vcpuNum": 8
   },
   {
    "_defaultOrder": 24,
    "_isFastLaunch": false,
    "category": "Compute optimized",
    "gpuNum": 0,
    "hideHardwareSpecs": false,
    "memoryGiB": 32,
    "name": "ml.c5.4xlarge",
    "vcpuNum": 16
   },
   {
    "_defaultOrder": 25,
    "_isFastLaunch": false,
    "category": "Compute optimized",
    "gpuNum": 0,
    "hideHardwareSpecs": false,
    "memoryGiB": 72,
    "name": "ml.c5.9xlarge",
    "vcpuNum": 36
   },
   {
    "_defaultOrder": 26,
    "_isFastLaunch": false,
    "category": "Compute optimized",
    "gpuNum": 0,
    "hideHardwareSpecs": false,
    "memoryGiB": 96,
    "name": "ml.c5.12xlarge",
    "vcpuNum": 48
   },
   {
    "_defaultOrder": 27,
    "_isFastLaunch": false,
    "category": "Compute optimized",
    "gpuNum": 0,
    "hideHardwareSpecs": false,
    "memoryGiB": 144,
    "name": "ml.c5.18xlarge",
    "vcpuNum": 72
   },
   {
    "_defaultOrder": 28,
    "_isFastLaunch": false,
    "category": "Compute optimized",
    "gpuNum": 0,
    "hideHardwareSpecs": false,
    "memoryGiB": 192,
    "name": "ml.c5.24xlarge",
    "vcpuNum": 96
   },
   {
    "_defaultOrder": 29,
    "_isFastLaunch": true,
    "category": "Accelerated computing",
    "gpuNum": 1,
    "hideHardwareSpecs": false,
    "memoryGiB": 16,
    "name": "ml.g4dn.xlarge",
    "vcpuNum": 4
   },
   {
    "_defaultOrder": 30,
    "_isFastLaunch": false,
    "category": "Accelerated computing",
    "gpuNum": 1,
    "hideHardwareSpecs": false,
    "memoryGiB": 32,
    "name": "ml.g4dn.2xlarge",
    "vcpuNum": 8
   },
   {
    "_defaultOrder": 31,
    "_isFastLaunch": false,
    "category": "Accelerated computing",
    "gpuNum": 1,
    "hideHardwareSpecs": false,
    "memoryGiB": 64,
    "name": "ml.g4dn.4xlarge",
    "vcpuNum": 16
   },
   {
    "_defaultOrder": 32,
    "_isFastLaunch": false,
    "category": "Accelerated computing",
    "gpuNum": 1,
    "hideHardwareSpecs": false,
    "memoryGiB": 128,
    "name": "ml.g4dn.8xlarge",
    "vcpuNum": 32
   },
   {
    "_defaultOrder": 33,
    "_isFastLaunch": false,
    "category": "Accelerated computing",
    "gpuNum": 4,
    "hideHardwareSpecs": false,
    "memoryGiB": 192,
    "name": "ml.g4dn.12xlarge",
    "vcpuNum": 48
   },
   {
    "_defaultOrder": 34,
    "_isFastLaunch": false,
    "category": "Accelerated computing",
    "gpuNum": 1,
    "hideHardwareSpecs": false,
    "memoryGiB": 256,
    "name": "ml.g4dn.16xlarge",
    "vcpuNum": 64
   },
   {
    "_defaultOrder": 35,
    "_isFastLaunch": false,
    "category": "Accelerated computing",
    "gpuNum": 1,
    "hideHardwareSpecs": false,
    "memoryGiB": 61,
    "name": "ml.p3.2xlarge",
    "vcpuNum": 8
   },
   {
    "_defaultOrder": 36,
    "_isFastLaunch": false,
    "category": "Accelerated computing",
    "gpuNum": 4,
    "hideHardwareSpecs": false,
    "memoryGiB": 244,
    "name": "ml.p3.8xlarge",
    "vcpuNum": 32
   },
   {
    "_defaultOrder": 37,
    "_isFastLaunch": false,
    "category": "Accelerated computing",
    "gpuNum": 8,
    "hideHardwareSpecs": false,
    "memoryGiB": 488,
    "name": "ml.p3.16xlarge",
    "vcpuNum": 64
   },
   {
    "_defaultOrder": 38,
    "_isFastLaunch": false,
    "category": "Accelerated computing",
    "gpuNum": 8,
    "hideHardwareSpecs": false,
    "memoryGiB": 768,
    "name": "ml.p3dn.24xlarge",
    "vcpuNum": 96
   },
   {
    "_defaultOrder": 39,
    "_isFastLaunch": false,
    "category": "Memory Optimized",
    "gpuNum": 0,
    "hideHardwareSpecs": false,
    "memoryGiB": 16,
    "name": "ml.r5.large",
    "vcpuNum": 2
   },
   {
    "_defaultOrder": 40,
    "_isFastLaunch": false,
    "category": "Memory Optimized",
    "gpuNum": 0,
    "hideHardwareSpecs": false,
    "memoryGiB": 32,
    "name": "ml.r5.xlarge",
    "vcpuNum": 4
   },
   {
    "_defaultOrder": 41,
    "_isFastLaunch": false,
    "category": "Memory Optimized",
    "gpuNum": 0,
    "hideHardwareSpecs": false,
    "memoryGiB": 64,
    "name": "ml.r5.2xlarge",
    "vcpuNum": 8
   },
   {
    "_defaultOrder": 42,
    "_isFastLaunch": false,
    "category": "Memory Optimized",
    "gpuNum": 0,
    "hideHardwareSpecs": false,
    "memoryGiB": 128,
    "name": "ml.r5.4xlarge",
    "vcpuNum": 16
   },
   {
    "_defaultOrder": 43,
    "_isFastLaunch": false,
    "category": "Memory Optimized",
    "gpuNum": 0,
    "hideHardwareSpecs": false,
    "memoryGiB": 256,
    "name": "ml.r5.8xlarge",
    "vcpuNum": 32
   },
   {
    "_defaultOrder": 44,
    "_isFastLaunch": false,
    "category": "Memory Optimized",
    "gpuNum": 0,
    "hideHardwareSpecs": false,
    "memoryGiB": 384,
    "name": "ml.r5.12xlarge",
    "vcpuNum": 48
   },
   {
    "_defaultOrder": 45,
    "_isFastLaunch": false,
    "category": "Memory Optimized",
    "gpuNum": 0,
    "hideHardwareSpecs": false,
    "memoryGiB": 512,
    "name": "ml.r5.16xlarge",
    "vcpuNum": 64
   },
   {
    "_defaultOrder": 46,
    "_isFastLaunch": false,
    "category": "Memory Optimized",
    "gpuNum": 0,
    "hideHardwareSpecs": false,
    "memoryGiB": 768,
    "name": "ml.r5.24xlarge",
    "vcpuNum": 96
   },
   {
    "_defaultOrder": 47,
    "_isFastLaunch": false,
    "category": "Accelerated computing",
    "gpuNum": 1,
    "hideHardwareSpecs": false,
    "memoryGiB": 16,
    "name": "ml.g5.xlarge",
    "vcpuNum": 4
   },
   {
    "_defaultOrder": 48,
    "_isFastLaunch": false,
    "category": "Accelerated computing",
    "gpuNum": 1,
    "hideHardwareSpecs": false,
    "memoryGiB": 32,
    "name": "ml.g5.2xlarge",
    "vcpuNum": 8
   },
   {
    "_defaultOrder": 49,
    "_isFastLaunch": false,
    "category": "Accelerated computing",
    "gpuNum": 1,
    "hideHardwareSpecs": false,
    "memoryGiB": 64,
    "name": "ml.g5.4xlarge",
    "vcpuNum": 16
   },
   {
    "_defaultOrder": 50,
    "_isFastLaunch": false,
    "category": "Accelerated computing",
    "gpuNum": 1,
    "hideHardwareSpecs": false,
    "memoryGiB": 128,
    "name": "ml.g5.8xlarge",
    "vcpuNum": 32
   },
   {
    "_defaultOrder": 51,
    "_isFastLaunch": false,
    "category": "Accelerated computing",
    "gpuNum": 1,
    "hideHardwareSpecs": false,
    "memoryGiB": 256,
    "name": "ml.g5.16xlarge",
    "vcpuNum": 64
   },
   {
    "_defaultOrder": 52,
    "_isFastLaunch": false,
    "category": "Accelerated computing",
    "gpuNum": 4,
    "hideHardwareSpecs": false,
    "memoryGiB": 192,
    "name": "ml.g5.12xlarge",
    "vcpuNum": 48
   },
   {
    "_defaultOrder": 53,
    "_isFastLaunch": false,
    "category": "Accelerated computing",
    "gpuNum": 4,
    "hideHardwareSpecs": false,
    "memoryGiB": 384,
    "name": "ml.g5.24xlarge",
    "vcpuNum": 96
   },
   {
    "_defaultOrder": 54,
    "_isFastLaunch": false,
    "category": "Accelerated computing",
    "gpuNum": 8,
    "hideHardwareSpecs": false,
    "memoryGiB": 768,
    "name": "ml.g5.48xlarge",
    "vcpuNum": 192
   },
   {
    "_defaultOrder": 55,
    "_isFastLaunch": false,
    "category": "Accelerated computing",
    "gpuNum": 8,
    "hideHardwareSpecs": false,
    "memoryGiB": 1152,
    "name": "ml.p4d.24xlarge",
    "vcpuNum": 96
   },
   {
    "_defaultOrder": 56,
    "_isFastLaunch": false,
    "category": "Accelerated computing",
    "gpuNum": 8,
    "hideHardwareSpecs": false,
    "memoryGiB": 1152,
    "name": "ml.p4de.24xlarge",
    "vcpuNum": 96
   }
  ],
  "instance_type": "ml.m5.xlarge",
  "kernelspec": {
   "display_name": "base",
   "language": "python",
   "name": "python3"
  },
  "language_info": {
   "codemirror_mode": {
    "name": "ipython",
    "version": 3
   },
   "file_extension": ".py",
   "mimetype": "text/x-python",
   "name": "python",
   "nbconvert_exporter": "python",
   "pygments_lexer": "ipython3",
   "version": "3.10.13"
  }
 },
 "nbformat": 4,
 "nbformat_minor": 4
}
