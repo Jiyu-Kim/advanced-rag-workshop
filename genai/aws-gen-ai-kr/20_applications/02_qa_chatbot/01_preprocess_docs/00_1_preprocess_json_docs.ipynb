{
 "cells": [
  {
   "cell_type": "markdown",
   "metadata": {
    "tags": []
   },
   "source": [
    "# Preprocess Input Data and Create processed Json file\n",
    "\n",
    "이 노트북은 주어진 파일에서 중복된 내용을 제거하고, 영어 데이터를 한국어로 번역하여 추후에 사용하려고 함니다.\n",
    "\n",
    "---"
   ]
  },
  {
   "cell_type": "markdown",
   "metadata": {},
   "source": [
    "## [중요] 사전 실행 노트북\n",
    "이 노트북은 아래 두개의 셋업 노트북이 먼저 실행이 되어야 합니다.\n",
    "- (1) Setup 노트북\n",
    "    - 경로는 aws-ai-ml-workshop-kr/genai/aws-gen-ai-kr/00_setup/setup.ipynb 와 같습니다.\n",
    "    -  [Setup Notebook](https://github.com/aws-samples/aws-ai-ml-workshop-kr/blob/master/genai/aws-gen-ai-kr/00_setup/setup.ipynb)\n"
   ]
  },
  {
   "cell_type": "markdown",
   "metadata": {
    "tags": []
   },
   "source": [
    "# 1. Set up"
   ]
  },
  {
   "cell_type": "code",
   "execution_count": 1,
   "metadata": {
    "tags": []
   },
   "outputs": [
    {
     "name": "stdout",
     "output_type": "stream",
     "text": [
      "python path: /home/sagemaker-user/aws-ai-ml-workshop-kr/genai/aws-gen-ai-kr/20_applications/02_qa_chatbot is added\n",
      "sys.path:  ['/home/sagemaker-user/aws-ai-ml-workshop-kr/genai/aws-gen-ai-kr/20_applications/02_qa_chatbot/01_preprocess_docs', '/opt/conda/lib/python310.zip', '/opt/conda/lib/python3.10', '/opt/conda/lib/python3.10/lib-dynload', '', '/opt/conda/lib/python3.10/site-packages', '/home/sagemaker-user/aws-ai-ml-workshop-kr/genai/aws-gen-ai-kr/20_applications/02_qa_chatbot']\n"
     ]
    }
   ],
   "source": [
    "%load_ext autoreload\n",
    "%autoreload 2\n",
    "\n",
    "import sys, os\n",
    "\n",
    "def add_python_path(module_path):\n",
    "    if os.path.abspath(module_path) not in sys.path:\n",
    "        sys.path.append(os.path.abspath(module_path))\n",
    "        print(f\"python path: {os.path.abspath(module_path)} is added\")\n",
    "    else:\n",
    "        print(f\"python path: {os.path.abspath(module_path)} already exists\")\n",
    "    print(\"sys.path: \", sys.path)\n",
    "\n",
    "module_path = \"..\"\n",
    "add_python_path(module_path)\n"
   ]
  },
  {
   "cell_type": "markdown",
   "metadata": {},
   "source": [
    "# 2. Remvoe duplicated contents "
   ]
  },
  {
   "cell_type": "code",
   "execution_count": 2,
   "metadata": {
    "tags": []
   },
   "outputs": [],
   "source": [
    "from local_utils.proc_docs import get_load_json, show_doc_json"
   ]
  },
  {
   "cell_type": "code",
   "execution_count": 3,
   "metadata": {
    "tags": []
   },
   "outputs": [
    {
     "data": {
      "text/html": [
       "<div>\n",
       "<style scoped>\n",
       "    .dataframe tbody tr th:only-of-type {\n",
       "        vertical-align: middle;\n",
       "    }\n",
       "\n",
       "    .dataframe tbody tr th {\n",
       "        vertical-align: top;\n",
       "    }\n",
       "\n",
       "    .dataframe thead th {\n",
       "        text-align: right;\n",
       "    }\n",
       "</style>\n",
       "<table border=\"1\" class=\"dataframe\">\n",
       "  <thead>\n",
       "    <tr style=\"text-align: right;\">\n",
       "      <th></th>\n",
       "      <th>title</th>\n",
       "      <th>last_updated</th>\n",
       "      <th>content</th>\n",
       "      <th>url</th>\n",
       "      <th>project</th>\n",
       "    </tr>\n",
       "  </thead>\n",
       "  <tbody>\n",
       "    <tr>\n",
       "      <th>0</th>\n",
       "      <td>How-to videos</td>\n",
       "      <td>2023-09-27</td>\n",
       "      <td>How-to videos. Contains videos on how to use K...</td>\n",
       "      <td>https://docs.samsungknox.com/admin/efota-one/h...</td>\n",
       "      <td>EFOTA</td>\n",
       "    </tr>\n",
       "    <tr>\n",
       "      <th>1</th>\n",
       "      <td>Knox E-FOTA</td>\n",
       "      <td>2023-07-26</td>\n",
       "      <td>Knox E-FOTA. Knox E-FOTA enables enterprise IT...</td>\n",
       "      <td>https://docs.samsungknox.com/admin/efota-one</td>\n",
       "      <td>EFOTA</td>\n",
       "    </tr>\n",
       "    <tr>\n",
       "      <th>2</th>\n",
       "      <td>EMM compatibility matrix</td>\n",
       "      <td>2023-07-26</td>\n",
       "      <td>EMM compatibility matrix. The following table ...</td>\n",
       "      <td>https://docs.samsungknox.com/admin/efota-one/a...</td>\n",
       "      <td>EFOTA</td>\n",
       "    </tr>\n",
       "    <tr>\n",
       "      <th>3</th>\n",
       "      <td>Install an app through an EMM</td>\n",
       "      <td>2023-07-26</td>\n",
       "      <td>Install an app through an EMM. Explains how to...</td>\n",
       "      <td>https://docs.samsungknox.com/admin/efota-one/a...</td>\n",
       "      <td>EFOTA</td>\n",
       "    </tr>\n",
       "    <tr>\n",
       "      <th>4</th>\n",
       "      <td>About EMM groups</td>\n",
       "      <td>2023-07-26</td>\n",
       "      <td>About EMM groups. Describes how Knox E-FOTA al...</td>\n",
       "      <td>https://docs.samsungknox.com/admin/efota-one/e...</td>\n",
       "      <td>EFOTA</td>\n",
       "    </tr>\n",
       "    <tr>\n",
       "      <th>...</th>\n",
       "      <td>...</td>\n",
       "      <td>...</td>\n",
       "      <td>...</td>\n",
       "      <td>...</td>\n",
       "      <td>...</td>\n",
       "    </tr>\n",
       "    <tr>\n",
       "      <th>71</th>\n",
       "      <td>What is my customer ID, and where can I find it?</td>\n",
       "      <td>2023-07-26</td>\n",
       "      <td>What is my customer ID, and where can I find i...</td>\n",
       "      <td>https://docs.samsungknox.com/admin/care-plus/k...</td>\n",
       "      <td>SCPE</td>\n",
       "    </tr>\n",
       "    <tr>\n",
       "      <th>72</th>\n",
       "      <td>What is a KDP reseller?</td>\n",
       "      <td>2023-07-26</td>\n",
       "      <td>What is a KDP reseller?. Overview The term _KD...</td>\n",
       "      <td>https://docs.samsungknox.com/admin/care-plus/k...</td>\n",
       "      <td>SCPE</td>\n",
       "    </tr>\n",
       "    <tr>\n",
       "      <th>73</th>\n",
       "      <td>What is the 'license assignment'?</td>\n",
       "      <td>2023-07-26</td>\n",
       "      <td>What is the 'license assignment'?. Overview A ...</td>\n",
       "      <td>https://docs.samsungknox.com/admin/care-plus/k...</td>\n",
       "      <td>SCPE</td>\n",
       "    </tr>\n",
       "    <tr>\n",
       "      <th>74</th>\n",
       "      <td>What is SWAP and BER?</td>\n",
       "      <td>2023-07-26</td>\n",
       "      <td>What is SWAP and BER?. Overview SWAP - A new d...</td>\n",
       "      <td>https://docs.samsungknox.com/admin/care-plus/k...</td>\n",
       "      <td>SCPE</td>\n",
       "    </tr>\n",
       "    <tr>\n",
       "      <th>75</th>\n",
       "      <td>Samsung Care+ for Business (SCB) knowledge bas...</td>\n",
       "      <td>2023-07-26</td>\n",
       "      <td>Samsung Care+ for Business (SCB) knowledge bas...</td>\n",
       "      <td>https://docs.samsungknox.com/admin/care-plus/kbas</td>\n",
       "      <td>SCPE</td>\n",
       "    </tr>\n",
       "  </tbody>\n",
       "</table>\n",
       "<p>1732 rows × 5 columns</p>\n",
       "</div>"
      ],
      "text/plain": [
       "                                                title last_updated  \\\n",
       "0                                       How-to videos   2023-09-27   \n",
       "1                                         Knox E-FOTA   2023-07-26   \n",
       "2                            EMM compatibility matrix   2023-07-26   \n",
       "3                       Install an app through an EMM   2023-07-26   \n",
       "4                                    About EMM groups   2023-07-26   \n",
       "..                                                ...          ...   \n",
       "71   What is my customer ID, and where can I find it?   2023-07-26   \n",
       "72                            What is a KDP reseller?   2023-07-26   \n",
       "73                  What is the 'license assignment'?   2023-07-26   \n",
       "74                              What is SWAP and BER?   2023-07-26   \n",
       "75  Samsung Care+ for Business (SCB) knowledge bas...   2023-07-26   \n",
       "\n",
       "                                              content  \\\n",
       "0   How-to videos. Contains videos on how to use K...   \n",
       "1   Knox E-FOTA. Knox E-FOTA enables enterprise IT...   \n",
       "2   EMM compatibility matrix. The following table ...   \n",
       "3   Install an app through an EMM. Explains how to...   \n",
       "4   About EMM groups. Describes how Knox E-FOTA al...   \n",
       "..                                                ...   \n",
       "71  What is my customer ID, and where can I find i...   \n",
       "72  What is a KDP reseller?. Overview The term _KD...   \n",
       "73  What is the 'license assignment'?. Overview A ...   \n",
       "74  What is SWAP and BER?. Overview SWAP - A new d...   \n",
       "75  Samsung Care+ for Business (SCB) knowledge bas...   \n",
       "\n",
       "                                                  url project  \n",
       "0   https://docs.samsungknox.com/admin/efota-one/h...   EFOTA  \n",
       "1        https://docs.samsungknox.com/admin/efota-one   EFOTA  \n",
       "2   https://docs.samsungknox.com/admin/efota-one/a...   EFOTA  \n",
       "3   https://docs.samsungknox.com/admin/efota-one/a...   EFOTA  \n",
       "4   https://docs.samsungknox.com/admin/efota-one/e...   EFOTA  \n",
       "..                                                ...     ...  \n",
       "71  https://docs.samsungknox.com/admin/care-plus/k...    SCPE  \n",
       "72  https://docs.samsungknox.com/admin/care-plus/k...    SCPE  \n",
       "73  https://docs.samsungknox.com/admin/care-plus/k...    SCPE  \n",
       "74  https://docs.samsungknox.com/admin/care-plus/k...    SCPE  \n",
       "75  https://docs.samsungknox.com/admin/care-plus/kbas    SCPE  \n",
       "\n",
       "[1732 rows x 5 columns]"
      ]
     },
     "execution_count": 3,
     "metadata": {},
     "output_type": "execute_result"
    }
   ],
   "source": [
    "import glob\n",
    "import pandas as pd\n",
    "\n",
    "# Specify the directory and file pattern for .txt files\n",
    "folder_path = 'data/poc/*.json'\n",
    "json_files = glob.glob(folder_path)\n",
    "\n",
    "def remove_duplicate_col(json_files, remove_col):\n",
    "    '''\n",
    "    json_files : list of json file path\n",
    "    remove_col : column name to remove duplicate\n",
    "    Desc: \n",
    "    '''\n",
    "    all_df = pd.DataFrame()\n",
    "    \n",
    "    for file_path in json_files:\n",
    "        df = pd.read_json(file_path)\n",
    "        df = pd.json_normalize(df.sections) # Normalize sections\n",
    "        all_df = pd.concat([all_df, df])\n",
    "    \n",
    "    all_df.drop_duplicates(subset=remove_col, inplace=True)\n",
    "    \n",
    "    return all_df\n",
    "\n",
    "df = remove_duplicate_col(json_files, remove_col='content')\n",
    "df"
   ]
  },
  {
   "cell_type": "markdown",
   "metadata": {},
   "source": [
    "# 3. Craete new json file"
   ]
  },
  {
   "cell_type": "code",
   "execution_count": 4,
   "metadata": {
    "tags": []
   },
   "outputs": [],
   "source": [
    "cleaned_json_file_path = \"data/poc/preprocessed_json/all_processed_data.json\"\n",
    "df.reset_index(drop=True).to_json(cleaned_json_file_path,orient='records')"
   ]
  },
  {
   "cell_type": "markdown",
   "metadata": {},
   "source": [
    "Verify the created json file"
   ]
  },
  {
   "cell_type": "code",
   "execution_count": 5,
   "metadata": {
    "tags": []
   },
   "outputs": [
    {
     "data": {
      "text/html": [
       "<div>\n",
       "<style scoped>\n",
       "    .dataframe tbody tr th:only-of-type {\n",
       "        vertical-align: middle;\n",
       "    }\n",
       "\n",
       "    .dataframe tbody tr th {\n",
       "        vertical-align: top;\n",
       "    }\n",
       "\n",
       "    .dataframe thead th {\n",
       "        text-align: right;\n",
       "    }\n",
       "</style>\n",
       "<table border=\"1\" class=\"dataframe\">\n",
       "  <thead>\n",
       "    <tr style=\"text-align: right;\">\n",
       "      <th></th>\n",
       "      <th>title</th>\n",
       "      <th>last_updated</th>\n",
       "      <th>content</th>\n",
       "      <th>url</th>\n",
       "      <th>project</th>\n",
       "    </tr>\n",
       "  </thead>\n",
       "  <tbody>\n",
       "    <tr>\n",
       "      <th>0</th>\n",
       "      <td>How-to videos</td>\n",
       "      <td>2023-09-27</td>\n",
       "      <td>How-to videos. Contains videos on how to use K...</td>\n",
       "      <td>https://docs.samsungknox.com/admin/efota-one/h...</td>\n",
       "      <td>EFOTA</td>\n",
       "    </tr>\n",
       "    <tr>\n",
       "      <th>1</th>\n",
       "      <td>Knox E-FOTA</td>\n",
       "      <td>2023-07-26</td>\n",
       "      <td>Knox E-FOTA. Knox E-FOTA enables enterprise IT...</td>\n",
       "      <td>https://docs.samsungknox.com/admin/efota-one</td>\n",
       "      <td>EFOTA</td>\n",
       "    </tr>\n",
       "    <tr>\n",
       "      <th>2</th>\n",
       "      <td>EMM compatibility matrix</td>\n",
       "      <td>2023-07-26</td>\n",
       "      <td>EMM compatibility matrix. The following table ...</td>\n",
       "      <td>https://docs.samsungknox.com/admin/efota-one/a...</td>\n",
       "      <td>EFOTA</td>\n",
       "    </tr>\n",
       "  </tbody>\n",
       "</table>\n",
       "</div>"
      ],
      "text/plain": [
       "                      title last_updated  \\\n",
       "0             How-to videos   2023-09-27   \n",
       "1               Knox E-FOTA   2023-07-26   \n",
       "2  EMM compatibility matrix   2023-07-26   \n",
       "\n",
       "                                             content  \\\n",
       "0  How-to videos. Contains videos on how to use K...   \n",
       "1  Knox E-FOTA. Knox E-FOTA enables enterprise IT...   \n",
       "2  EMM compatibility matrix. The following table ...   \n",
       "\n",
       "                                                 url project  \n",
       "0  https://docs.samsungknox.com/admin/efota-one/h...   EFOTA  \n",
       "1       https://docs.samsungknox.com/admin/efota-one   EFOTA  \n",
       "2  https://docs.samsungknox.com/admin/efota-one/a...   EFOTA  "
      ]
     },
     "execution_count": 5,
     "metadata": {},
     "output_type": "execute_result"
    }
   ],
   "source": [
    "df_json = pd.read_json(cleaned_json_file_path)\n",
    "df_json.head(3)"
   ]
  },
  {
   "cell_type": "code",
   "execution_count": 6,
   "metadata": {
    "tags": []
   },
   "outputs": [
    {
     "name": "stdout",
     "output_type": "stream",
     "text": [
      "Stored 'cleaned_json_file_path' (str)\n"
     ]
    }
   ],
   "source": [
    "%store cleaned_json_file_path"
   ]
  },
  {
   "cell_type": "markdown",
   "metadata": {},
   "source": [
    "# 4. Translate English to Korean"
   ]
  },
  {
   "cell_type": "code",
   "execution_count": 7,
   "metadata": {
    "tags": []
   },
   "outputs": [],
   "source": [
    "import boto3\n",
    "translate_client = boto3.client(service_name='translate', region_name='us-west-2', use_ssl=True)"
   ]
  },
  {
   "cell_type": "markdown",
   "metadata": {
    "tags": []
   },
   "source": [
    "## Text Splitter 정의 \n",
    "- AWS Translate 는 최대 10000 bytes 를 번역할 수 있어서, 조금 더 작은 단위로 문서를 쪼개서 번역 함"
   ]
  },
  {
   "cell_type": "code",
   "execution_count": 8,
   "metadata": {
    "tags": []
   },
   "outputs": [],
   "source": [
    "from langchain.schema import Document\n",
    "from langchain.text_splitter import RecursiveCharacterTextSplitter, SpacyTextSplitter\n",
    "\n",
    "chunk_size = 8192\n",
    "chunk_overlap = 0\n",
    "\n",
    "text_splitter = RecursiveCharacterTextSplitter(\n",
    "    # Set a really small chunk size, just to show.\n",
    "    chunk_size = chunk_size,\n",
    "    chunk_overlap  = chunk_overlap,\n",
    "    separators=[\"\\n\\n\", \"\\n\", \".\", \" \", \"\"],\n",
    "    length_function = len,\n",
    ")"
   ]
  },
  {
   "cell_type": "code",
   "execution_count": 11,
   "metadata": {
    "tags": []
   },
   "outputs": [
    {
     "name": "stdout",
     "output_type": "stream",
     "text": [
      "CPU times: user 5 µs, sys: 0 ns, total: 5 µs\n",
      "Wall time: 6.68 µs\n"
     ]
    }
   ],
   "source": [
    "%%time\n",
    "\n",
    "import pandas as pd\n",
    "\n",
    "def translate_df(df, target_col, new_col):\n",
    "    \n",
    "    def run_translate(text):\n",
    "        '''\n",
    "        Split doc into small chunks, translate them, and then merge into one\n",
    "        '''\n",
    "        doc = [Document(page_content=text)]\n",
    "        docs = text_splitter.split_documents(doc)                \n",
    "        \n",
    "        translate_doc = []\n",
    "        for i, chunk in enumerate(docs):\n",
    "            # print(\"English Text: \\n\", chunk.page_content)                    \n",
    "            result = translate_client.translate_text(Text=chunk.page_content, \n",
    "                    SourceLanguageCode=\"en\", TargetLanguageCode=\"ko\")\n",
    "            result = result['TranslatedText']\n",
    "            translate_doc.append(result)\n",
    "        # print(\"# of chunks: \", i)\n",
    "            \n",
    "        translate_doc = ' '.join(translate_doc)            \n",
    "        # print(\"translate_doc: \\n\", translate_doc)\n",
    "        \n",
    "        return translate_doc\n",
    "    \n",
    "    def translate(df):\n",
    "        text = df[target_col]\n",
    "        result = run_translate(text)\n",
    "        # print(result)        \n",
    "\n",
    "        return result\n",
    "        \n",
    "    # Start here\n",
    "    df[new_col] = df.apply(translate, axis=1)\n",
    "    \n",
    "    return df\n",
    "\n",
    "\n"
   ]
  },
  {
   "cell_type": "markdown",
   "metadata": {},
   "source": [
    "## 번역 실행"
   ]
  },
  {
   "cell_type": "code",
   "execution_count": 12,
   "metadata": {
    "tags": []
   },
   "outputs": [
    {
     "name": "stdout",
     "output_type": "stream",
     "text": [
      "CPU times: user 2.43 s, sys: 110 ms, total: 2.54 s\n",
      "Wall time: 2min 17s\n"
     ]
    }
   ],
   "source": [
    "%%time\n",
    "df_kr = translate_df(df, target_col='title', new_col='title_ko')\n"
   ]
  },
  {
   "cell_type": "code",
   "execution_count": 14,
   "metadata": {},
   "outputs": [],
   "source": [
    "df_kr = translate_df(df_kr, target_col='content', new_col='content_ko')"
   ]
  },
  {
   "cell_type": "code",
   "execution_count": 17,
   "metadata": {},
   "outputs": [
    {
     "data": {
      "text/html": [
       "<div>\n",
       "<style scoped>\n",
       "    .dataframe tbody tr th:only-of-type {\n",
       "        vertical-align: middle;\n",
       "    }\n",
       "\n",
       "    .dataframe tbody tr th {\n",
       "        vertical-align: top;\n",
       "    }\n",
       "\n",
       "    .dataframe thead th {\n",
       "        text-align: right;\n",
       "    }\n",
       "</style>\n",
       "<table border=\"1\" class=\"dataframe\">\n",
       "  <thead>\n",
       "    <tr style=\"text-align: right;\">\n",
       "      <th></th>\n",
       "      <th>title</th>\n",
       "      <th>last_updated</th>\n",
       "      <th>content</th>\n",
       "      <th>url</th>\n",
       "      <th>project</th>\n",
       "      <th>title_ko</th>\n",
       "      <th>content_ko</th>\n",
       "    </tr>\n",
       "  </thead>\n",
       "  <tbody>\n",
       "    <tr>\n",
       "      <th>0</th>\n",
       "      <td>How-to videos</td>\n",
       "      <td>2023-09-27</td>\n",
       "      <td>How-to videos. Contains videos on how to use K...</td>\n",
       "      <td>https://docs.samsungknox.com/admin/efota-one/h...</td>\n",
       "      <td>EFOTA</td>\n",
       "      <td>사용 방법 동영상</td>\n",
       "      <td>사용 방법 동영상.Knox E-FOTA를 사용하는 방법에 대한 비디오가 포함되어 있...</td>\n",
       "    </tr>\n",
       "    <tr>\n",
       "      <th>1</th>\n",
       "      <td>Knox E-FOTA</td>\n",
       "      <td>2023-07-26</td>\n",
       "      <td>Knox E-FOTA. Knox E-FOTA enables enterprise IT...</td>\n",
       "      <td>https://docs.samsungknox.com/admin/efota-one</td>\n",
       "      <td>EFOTA</td>\n",
       "      <td>녹스 E-FOTA</td>\n",
       "      <td>녹스 E-FOTA.Knox E-FOTA를 사용하면 기업 IT 관리자가 사용자 개입 ...</td>\n",
       "    </tr>\n",
       "    <tr>\n",
       "      <th>2</th>\n",
       "      <td>EMM compatibility matrix</td>\n",
       "      <td>2023-07-26</td>\n",
       "      <td>EMM compatibility matrix. The following table ...</td>\n",
       "      <td>https://docs.samsungknox.com/admin/efota-one/a...</td>\n",
       "      <td>EFOTA</td>\n",
       "      <td>EMM 호환성 매트릭스</td>\n",
       "      <td>EMM 호환성 매트릭스.다음 표는 다음을 수행할 수 있는 다양한 EMM의 기능을 보...</td>\n",
       "    </tr>\n",
       "    <tr>\n",
       "      <th>3</th>\n",
       "      <td>Install an app through an EMM</td>\n",
       "      <td>2023-07-26</td>\n",
       "      <td>Install an app through an EMM. Explains how to...</td>\n",
       "      <td>https://docs.samsungknox.com/admin/efota-one/a...</td>\n",
       "      <td>EFOTA</td>\n",
       "      <td>EMM을 통해 앱 설치</td>\n",
       "      <td>EMM을 통해 앱을 설치합니다.EMM을 통해 앱을 설치하는 방법을 설명합니다.이 섹...</td>\n",
       "    </tr>\n",
       "    <tr>\n",
       "      <th>4</th>\n",
       "      <td>About EMM groups</td>\n",
       "      <td>2023-07-26</td>\n",
       "      <td>About EMM groups. Describes how Knox E-FOTA al...</td>\n",
       "      <td>https://docs.samsungknox.com/admin/efota-one/e...</td>\n",
       "      <td>EFOTA</td>\n",
       "      <td>EMM 그룹에 대한 정보</td>\n",
       "      <td>EMM 그룹에 대해.Knox E-FOTA를 사용하여 EMM에서 디바이스 그룹을 동기...</td>\n",
       "    </tr>\n",
       "  </tbody>\n",
       "</table>\n",
       "</div>"
      ],
      "text/plain": [
       "                           title last_updated  \\\n",
       "0                  How-to videos   2023-09-27   \n",
       "1                    Knox E-FOTA   2023-07-26   \n",
       "2       EMM compatibility matrix   2023-07-26   \n",
       "3  Install an app through an EMM   2023-07-26   \n",
       "4               About EMM groups   2023-07-26   \n",
       "\n",
       "                                             content  \\\n",
       "0  How-to videos. Contains videos on how to use K...   \n",
       "1  Knox E-FOTA. Knox E-FOTA enables enterprise IT...   \n",
       "2  EMM compatibility matrix. The following table ...   \n",
       "3  Install an app through an EMM. Explains how to...   \n",
       "4  About EMM groups. Describes how Knox E-FOTA al...   \n",
       "\n",
       "                                                 url project       title_ko  \\\n",
       "0  https://docs.samsungknox.com/admin/efota-one/h...   EFOTA      사용 방법 동영상   \n",
       "1       https://docs.samsungknox.com/admin/efota-one   EFOTA      녹스 E-FOTA   \n",
       "2  https://docs.samsungknox.com/admin/efota-one/a...   EFOTA   EMM 호환성 매트릭스   \n",
       "3  https://docs.samsungknox.com/admin/efota-one/a...   EFOTA   EMM을 통해 앱 설치   \n",
       "4  https://docs.samsungknox.com/admin/efota-one/e...   EFOTA  EMM 그룹에 대한 정보   \n",
       "\n",
       "                                          content_ko  \n",
       "0  사용 방법 동영상.Knox E-FOTA를 사용하는 방법에 대한 비디오가 포함되어 있...  \n",
       "1  녹스 E-FOTA.Knox E-FOTA를 사용하면 기업 IT 관리자가 사용자 개입 ...  \n",
       "2  EMM 호환성 매트릭스.다음 표는 다음을 수행할 수 있는 다양한 EMM의 기능을 보...  \n",
       "3  EMM을 통해 앱을 설치합니다.EMM을 통해 앱을 설치하는 방법을 설명합니다.이 섹...  \n",
       "4  EMM 그룹에 대해.Knox E-FOTA를 사용하여 EMM에서 디바이스 그룹을 동기...  "
      ]
     },
     "execution_count": 17,
     "metadata": {},
     "output_type": "execute_result"
    }
   ],
   "source": [
    "df_kr.head()"
   ]
  },
  {
   "cell_type": "code",
   "execution_count": 18,
   "metadata": {
    "tags": []
   },
   "outputs": [
    {
     "data": {
      "text/html": [
       "<div>\n",
       "<style scoped>\n",
       "    .dataframe tbody tr th:only-of-type {\n",
       "        vertical-align: middle;\n",
       "    }\n",
       "\n",
       "    .dataframe tbody tr th {\n",
       "        vertical-align: top;\n",
       "    }\n",
       "\n",
       "    .dataframe thead th {\n",
       "        text-align: right;\n",
       "    }\n",
       "</style>\n",
       "<table border=\"1\" class=\"dataframe\">\n",
       "  <thead>\n",
       "    <tr style=\"text-align: right;\">\n",
       "      <th></th>\n",
       "      <th>last_updated</th>\n",
       "      <th>url</th>\n",
       "      <th>project</th>\n",
       "      <th>title</th>\n",
       "      <th>content</th>\n",
       "    </tr>\n",
       "  </thead>\n",
       "  <tbody>\n",
       "    <tr>\n",
       "      <th>0</th>\n",
       "      <td>2023-09-27</td>\n",
       "      <td>https://docs.samsungknox.com/admin/efota-one/h...</td>\n",
       "      <td>EFOTA</td>\n",
       "      <td>사용 방법 동영상</td>\n",
       "      <td>사용 방법 동영상.Knox E-FOTA를 사용하는 방법에 대한 비디오가 포함되어 있...</td>\n",
       "    </tr>\n",
       "    <tr>\n",
       "      <th>1</th>\n",
       "      <td>2023-07-26</td>\n",
       "      <td>https://docs.samsungknox.com/admin/efota-one</td>\n",
       "      <td>EFOTA</td>\n",
       "      <td>녹스 E-FOTA</td>\n",
       "      <td>녹스 E-FOTA.Knox E-FOTA를 사용하면 기업 IT 관리자가 사용자 개입 ...</td>\n",
       "    </tr>\n",
       "    <tr>\n",
       "      <th>2</th>\n",
       "      <td>2023-07-26</td>\n",
       "      <td>https://docs.samsungknox.com/admin/efota-one/a...</td>\n",
       "      <td>EFOTA</td>\n",
       "      <td>EMM 호환성 매트릭스</td>\n",
       "      <td>EMM 호환성 매트릭스.다음 표는 다음을 수행할 수 있는 다양한 EMM의 기능을 보...</td>\n",
       "    </tr>\n",
       "    <tr>\n",
       "      <th>3</th>\n",
       "      <td>2023-07-26</td>\n",
       "      <td>https://docs.samsungknox.com/admin/efota-one/a...</td>\n",
       "      <td>EFOTA</td>\n",
       "      <td>EMM을 통해 앱 설치</td>\n",
       "      <td>EMM을 통해 앱을 설치합니다.EMM을 통해 앱을 설치하는 방법을 설명합니다.이 섹...</td>\n",
       "    </tr>\n",
       "    <tr>\n",
       "      <th>4</th>\n",
       "      <td>2023-07-26</td>\n",
       "      <td>https://docs.samsungknox.com/admin/efota-one/e...</td>\n",
       "      <td>EFOTA</td>\n",
       "      <td>EMM 그룹에 대한 정보</td>\n",
       "      <td>EMM 그룹에 대해.Knox E-FOTA를 사용하여 EMM에서 디바이스 그룹을 동기...</td>\n",
       "    </tr>\n",
       "    <tr>\n",
       "      <th>...</th>\n",
       "      <td>...</td>\n",
       "      <td>...</td>\n",
       "      <td>...</td>\n",
       "      <td>...</td>\n",
       "      <td>...</td>\n",
       "    </tr>\n",
       "    <tr>\n",
       "      <th>71</th>\n",
       "      <td>2023-07-26</td>\n",
       "      <td>https://docs.samsungknox.com/admin/care-plus/k...</td>\n",
       "      <td>SCPE</td>\n",
       "      <td>내 고객 ID는 무엇이며 어디서 찾을 수 있나요?</td>\n",
       "      <td>내 고객 ID는 무엇이며 어디서 찾을 수 있나요?.개요 Knox Admin Port...</td>\n",
       "    </tr>\n",
       "    <tr>\n",
       "      <th>72</th>\n",
       "      <td>2023-07-26</td>\n",
       "      <td>https://docs.samsungknox.com/admin/care-plus/k...</td>\n",
       "      <td>SCPE</td>\n",
       "      <td>KDP 리셀러란 무엇인가요?</td>\n",
       "      <td>KDP 리셀러란 무엇입니까?.개요 _KDP_라는 용어는 Knox 배포 프로그램의 약...</td>\n",
       "    </tr>\n",
       "    <tr>\n",
       "      <th>73</th>\n",
       "      <td>2023-07-26</td>\n",
       "      <td>https://docs.samsungknox.com/admin/care-plus/k...</td>\n",
       "      <td>SCPE</td>\n",
       "      <td>'라이선스 할당'이란 무엇입니까?</td>\n",
       "      <td>'라이선스 할당'이란 무엇입니까?.개요 라이선스 자체에는 어떤 서비스를 위한 것인지...</td>\n",
       "    </tr>\n",
       "    <tr>\n",
       "      <th>74</th>\n",
       "      <td>2023-07-26</td>\n",
       "      <td>https://docs.samsungknox.com/admin/care-plus/k...</td>\n",
       "      <td>SCPE</td>\n",
       "      <td>스왑과 BER이란 무엇입니까?</td>\n",
       "      <td>스왑과 BER이란 무엇입니까?개요 스왑 - 새 디바이스가 고객에게 제공되고 기존 디...</td>\n",
       "    </tr>\n",
       "    <tr>\n",
       "      <th>75</th>\n",
       "      <td>2023-07-26</td>\n",
       "      <td>https://docs.samsungknox.com/admin/care-plus/kbas</td>\n",
       "      <td>SCPE</td>\n",
       "      <td>삼성 케어+ 포 비즈니스 (SCB) 기술 자료 문서 (KBA)</td>\n",
       "      <td>삼성 케어+ 포 비즈니스 (SCB) 기술 자료 문서 (KBA).알려진 SCB 고급 ...</td>\n",
       "    </tr>\n",
       "  </tbody>\n",
       "</table>\n",
       "<p>1732 rows × 5 columns</p>\n",
       "</div>"
      ],
      "text/plain": [
       "   last_updated                                                url project  \\\n",
       "0    2023-09-27  https://docs.samsungknox.com/admin/efota-one/h...   EFOTA   \n",
       "1    2023-07-26       https://docs.samsungknox.com/admin/efota-one   EFOTA   \n",
       "2    2023-07-26  https://docs.samsungknox.com/admin/efota-one/a...   EFOTA   \n",
       "3    2023-07-26  https://docs.samsungknox.com/admin/efota-one/a...   EFOTA   \n",
       "4    2023-07-26  https://docs.samsungknox.com/admin/efota-one/e...   EFOTA   \n",
       "..          ...                                                ...     ...   \n",
       "71   2023-07-26  https://docs.samsungknox.com/admin/care-plus/k...    SCPE   \n",
       "72   2023-07-26  https://docs.samsungknox.com/admin/care-plus/k...    SCPE   \n",
       "73   2023-07-26  https://docs.samsungknox.com/admin/care-plus/k...    SCPE   \n",
       "74   2023-07-26  https://docs.samsungknox.com/admin/care-plus/k...    SCPE   \n",
       "75   2023-07-26  https://docs.samsungknox.com/admin/care-plus/kbas    SCPE   \n",
       "\n",
       "                                 title  \\\n",
       "0                            사용 방법 동영상   \n",
       "1                            녹스 E-FOTA   \n",
       "2                         EMM 호환성 매트릭스   \n",
       "3                         EMM을 통해 앱 설치   \n",
       "4                        EMM 그룹에 대한 정보   \n",
       "..                                 ...   \n",
       "71         내 고객 ID는 무엇이며 어디서 찾을 수 있나요?   \n",
       "72                     KDP 리셀러란 무엇인가요?   \n",
       "73                  '라이선스 할당'이란 무엇입니까?   \n",
       "74                    스왑과 BER이란 무엇입니까?   \n",
       "75  삼성 케어+ 포 비즈니스 (SCB) 기술 자료 문서 (KBA)   \n",
       "\n",
       "                                              content  \n",
       "0   사용 방법 동영상.Knox E-FOTA를 사용하는 방법에 대한 비디오가 포함되어 있...  \n",
       "1   녹스 E-FOTA.Knox E-FOTA를 사용하면 기업 IT 관리자가 사용자 개입 ...  \n",
       "2   EMM 호환성 매트릭스.다음 표는 다음을 수행할 수 있는 다양한 EMM의 기능을 보...  \n",
       "3   EMM을 통해 앱을 설치합니다.EMM을 통해 앱을 설치하는 방법을 설명합니다.이 섹...  \n",
       "4   EMM 그룹에 대해.Knox E-FOTA를 사용하여 EMM에서 디바이스 그룹을 동기...  \n",
       "..                                                ...  \n",
       "71  내 고객 ID는 무엇이며 어디서 찾을 수 있나요?.개요 Knox Admin Port...  \n",
       "72  KDP 리셀러란 무엇입니까?.개요 _KDP_라는 용어는 Knox 배포 프로그램의 약...  \n",
       "73  '라이선스 할당'이란 무엇입니까?.개요 라이선스 자체에는 어떤 서비스를 위한 것인지...  \n",
       "74  스왑과 BER이란 무엇입니까?개요 스왑 - 새 디바이스가 고객에게 제공되고 기존 디...  \n",
       "75  삼성 케어+ 포 비즈니스 (SCB) 기술 자료 문서 (KBA).알려진 SCB 고급 ...  \n",
       "\n",
       "[1732 rows x 5 columns]"
      ]
     },
     "execution_count": 18,
     "metadata": {},
     "output_type": "execute_result"
    }
   ],
   "source": [
    "def post_process_translate(ldf):\n",
    "    df = ldf.copy()\n",
    "    df.drop(columns=['title', 'content'], inplace=True)\n",
    "    df.rename(columns={'title_ko': 'title', 'content_ko': 'content'}, inplace=True)\n",
    "\n",
    "    return df\n",
    "\n",
    "df_post = post_process_translate(df_kr)\n",
    "df_post"
   ]
  },
  {
   "cell_type": "markdown",
   "metadata": {},
   "source": [
    "# 5. Craete new korean Json file"
   ]
  },
  {
   "cell_type": "code",
   "execution_count": 19,
   "metadata": {
    "tags": []
   },
   "outputs": [
    {
     "name": "stdout",
     "output_type": "stream",
     "text": [
      "data/poc/preprocessed_json/all_processed_data_ko.json is generated\n"
     ]
    }
   ],
   "source": [
    "def create_json_file(df, file_name):\n",
    "    df.to_json(file_name, orient='records', force_ascii=False)\n",
    "    print(f\"{file_name} is generated\")\n",
    "\n",
    "cleaned_json_file_path = \"data/poc/preprocessed_json/all_processed_data_ko.json\"    \n",
    "create_json_file(df_post, file_name=\"data/poc/preprocessed_json/all_processed_data_ko.json\")\n"
   ]
  },
  {
   "cell_type": "code",
   "execution_count": 20,
   "metadata": {
    "tags": []
   },
   "outputs": [
    {
     "data": {
      "text/html": [
       "<div>\n",
       "<style scoped>\n",
       "    .dataframe tbody tr th:only-of-type {\n",
       "        vertical-align: middle;\n",
       "    }\n",
       "\n",
       "    .dataframe tbody tr th {\n",
       "        vertical-align: top;\n",
       "    }\n",
       "\n",
       "    .dataframe thead th {\n",
       "        text-align: right;\n",
       "    }\n",
       "</style>\n",
       "<table border=\"1\" class=\"dataframe\">\n",
       "  <thead>\n",
       "    <tr style=\"text-align: right;\">\n",
       "      <th></th>\n",
       "      <th>last_updated</th>\n",
       "      <th>url</th>\n",
       "      <th>project</th>\n",
       "      <th>title</th>\n",
       "      <th>content</th>\n",
       "    </tr>\n",
       "  </thead>\n",
       "  <tbody>\n",
       "    <tr>\n",
       "      <th>0</th>\n",
       "      <td>2023-09-27</td>\n",
       "      <td>https://docs.samsungknox.com/admin/efota-one/h...</td>\n",
       "      <td>EFOTA</td>\n",
       "      <td>사용 방법 동영상</td>\n",
       "      <td>사용 방법 동영상.Knox E-FOTA를 사용하는 방법에 대한 비디오가 포함되어 있...</td>\n",
       "    </tr>\n",
       "    <tr>\n",
       "      <th>1</th>\n",
       "      <td>2023-07-26</td>\n",
       "      <td>https://docs.samsungknox.com/admin/efota-one</td>\n",
       "      <td>EFOTA</td>\n",
       "      <td>녹스 E-FOTA</td>\n",
       "      <td>녹스 E-FOTA.Knox E-FOTA를 사용하면 기업 IT 관리자가 사용자 개입 ...</td>\n",
       "    </tr>\n",
       "    <tr>\n",
       "      <th>2</th>\n",
       "      <td>2023-07-26</td>\n",
       "      <td>https://docs.samsungknox.com/admin/efota-one/a...</td>\n",
       "      <td>EFOTA</td>\n",
       "      <td>EMM 호환성 매트릭스</td>\n",
       "      <td>EMM 호환성 매트릭스.다음 표는 다음을 수행할 수 있는 다양한 EMM의 기능을 보...</td>\n",
       "    </tr>\n",
       "  </tbody>\n",
       "</table>\n",
       "</div>"
      ],
      "text/plain": [
       "  last_updated                                                url project  \\\n",
       "0   2023-09-27  https://docs.samsungknox.com/admin/efota-one/h...   EFOTA   \n",
       "1   2023-07-26       https://docs.samsungknox.com/admin/efota-one   EFOTA   \n",
       "2   2023-07-26  https://docs.samsungknox.com/admin/efota-one/a...   EFOTA   \n",
       "\n",
       "          title                                            content  \n",
       "0     사용 방법 동영상  사용 방법 동영상.Knox E-FOTA를 사용하는 방법에 대한 비디오가 포함되어 있...  \n",
       "1     녹스 E-FOTA  녹스 E-FOTA.Knox E-FOTA를 사용하면 기업 IT 관리자가 사용자 개입 ...  \n",
       "2  EMM 호환성 매트릭스  EMM 호환성 매트릭스.다음 표는 다음을 수행할 수 있는 다양한 EMM의 기능을 보...  "
      ]
     },
     "execution_count": 20,
     "metadata": {},
     "output_type": "execute_result"
    }
   ],
   "source": [
    "df_json = pd.read_json(cleaned_json_file_path)\n",
    "df_json.head(3)"
   ]
  },
  {
   "cell_type": "code",
   "execution_count": null,
   "metadata": {},
   "outputs": [],
   "source": []
  }
 ],
 "metadata": {
  "availableInstances": [
   {
    "_defaultOrder": 0,
    "_isFastLaunch": true,
    "category": "General purpose",
    "gpuNum": 0,
    "hideHardwareSpecs": false,
    "memoryGiB": 4,
    "name": "ml.t3.medium",
    "vcpuNum": 2
   },
   {
    "_defaultOrder": 1,
    "_isFastLaunch": false,
    "category": "General purpose",
    "gpuNum": 0,
    "hideHardwareSpecs": false,
    "memoryGiB": 8,
    "name": "ml.t3.large",
    "vcpuNum": 2
   },
   {
    "_defaultOrder": 2,
    "_isFastLaunch": false,
    "category": "General purpose",
    "gpuNum": 0,
    "hideHardwareSpecs": false,
    "memoryGiB": 16,
    "name": "ml.t3.xlarge",
    "vcpuNum": 4
   },
   {
    "_defaultOrder": 3,
    "_isFastLaunch": false,
    "category": "General purpose",
    "gpuNum": 0,
    "hideHardwareSpecs": false,
    "memoryGiB": 32,
    "name": "ml.t3.2xlarge",
    "vcpuNum": 8
   },
   {
    "_defaultOrder": 4,
    "_isFastLaunch": true,
    "category": "General purpose",
    "gpuNum": 0,
    "hideHardwareSpecs": false,
    "memoryGiB": 8,
    "name": "ml.m5.large",
    "vcpuNum": 2
   },
   {
    "_defaultOrder": 5,
    "_isFastLaunch": false,
    "category": "General purpose",
    "gpuNum": 0,
    "hideHardwareSpecs": false,
    "memoryGiB": 16,
    "name": "ml.m5.xlarge",
    "vcpuNum": 4
   },
   {
    "_defaultOrder": 6,
    "_isFastLaunch": false,
    "category": "General purpose",
    "gpuNum": 0,
    "hideHardwareSpecs": false,
    "memoryGiB": 32,
    "name": "ml.m5.2xlarge",
    "vcpuNum": 8
   },
   {
    "_defaultOrder": 7,
    "_isFastLaunch": false,
    "category": "General purpose",
    "gpuNum": 0,
    "hideHardwareSpecs": false,
    "memoryGiB": 64,
    "name": "ml.m5.4xlarge",
    "vcpuNum": 16
   },
   {
    "_defaultOrder": 8,
    "_isFastLaunch": false,
    "category": "General purpose",
    "gpuNum": 0,
    "hideHardwareSpecs": false,
    "memoryGiB": 128,
    "name": "ml.m5.8xlarge",
    "vcpuNum": 32
   },
   {
    "_defaultOrder": 9,
    "_isFastLaunch": false,
    "category": "General purpose",
    "gpuNum": 0,
    "hideHardwareSpecs": false,
    "memoryGiB": 192,
    "name": "ml.m5.12xlarge",
    "vcpuNum": 48
   },
   {
    "_defaultOrder": 10,
    "_isFastLaunch": false,
    "category": "General purpose",
    "gpuNum": 0,
    "hideHardwareSpecs": false,
    "memoryGiB": 256,
    "name": "ml.m5.16xlarge",
    "vcpuNum": 64
   },
   {
    "_defaultOrder": 11,
    "_isFastLaunch": false,
    "category": "General purpose",
    "gpuNum": 0,
    "hideHardwareSpecs": false,
    "memoryGiB": 384,
    "name": "ml.m5.24xlarge",
    "vcpuNum": 96
   },
   {
    "_defaultOrder": 12,
    "_isFastLaunch": false,
    "category": "General purpose",
    "gpuNum": 0,
    "hideHardwareSpecs": false,
    "memoryGiB": 8,
    "name": "ml.m5d.large",
    "vcpuNum": 2
   },
   {
    "_defaultOrder": 13,
    "_isFastLaunch": false,
    "category": "General purpose",
    "gpuNum": 0,
    "hideHardwareSpecs": false,
    "memoryGiB": 16,
    "name": "ml.m5d.xlarge",
    "vcpuNum": 4
   },
   {
    "_defaultOrder": 14,
    "_isFastLaunch": false,
    "category": "General purpose",
    "gpuNum": 0,
    "hideHardwareSpecs": false,
    "memoryGiB": 32,
    "name": "ml.m5d.2xlarge",
    "vcpuNum": 8
   },
   {
    "_defaultOrder": 15,
    "_isFastLaunch": false,
    "category": "General purpose",
    "gpuNum": 0,
    "hideHardwareSpecs": false,
    "memoryGiB": 64,
    "name": "ml.m5d.4xlarge",
    "vcpuNum": 16
   },
   {
    "_defaultOrder": 16,
    "_isFastLaunch": false,
    "category": "General purpose",
    "gpuNum": 0,
    "hideHardwareSpecs": false,
    "memoryGiB": 128,
    "name": "ml.m5d.8xlarge",
    "vcpuNum": 32
   },
   {
    "_defaultOrder": 17,
    "_isFastLaunch": false,
    "category": "General purpose",
    "gpuNum": 0,
    "hideHardwareSpecs": false,
    "memoryGiB": 192,
    "name": "ml.m5d.12xlarge",
    "vcpuNum": 48
   },
   {
    "_defaultOrder": 18,
    "_isFastLaunch": false,
    "category": "General purpose",
    "gpuNum": 0,
    "hideHardwareSpecs": false,
    "memoryGiB": 256,
    "name": "ml.m5d.16xlarge",
    "vcpuNum": 64
   },
   {
    "_defaultOrder": 19,
    "_isFastLaunch": false,
    "category": "General purpose",
    "gpuNum": 0,
    "hideHardwareSpecs": false,
    "memoryGiB": 384,
    "name": "ml.m5d.24xlarge",
    "vcpuNum": 96
   },
   {
    "_defaultOrder": 20,
    "_isFastLaunch": false,
    "category": "General purpose",
    "gpuNum": 0,
    "hideHardwareSpecs": true,
    "memoryGiB": 0,
    "name": "ml.geospatial.interactive",
    "supportedImageNames": [
     "sagemaker-geospatial-v1-0"
    ],
    "vcpuNum": 0
   },
   {
    "_defaultOrder": 21,
    "_isFastLaunch": true,
    "category": "Compute optimized",
    "gpuNum": 0,
    "hideHardwareSpecs": false,
    "memoryGiB": 4,
    "name": "ml.c5.large",
    "vcpuNum": 2
   },
   {
    "_defaultOrder": 22,
    "_isFastLaunch": false,
    "category": "Compute optimized",
    "gpuNum": 0,
    "hideHardwareSpecs": false,
    "memoryGiB": 8,
    "name": "ml.c5.xlarge",
    "vcpuNum": 4
   },
   {
    "_defaultOrder": 23,
    "_isFastLaunch": false,
    "category": "Compute optimized",
    "gpuNum": 0,
    "hideHardwareSpecs": false,
    "memoryGiB": 16,
    "name": "ml.c5.2xlarge",
    "vcpuNum": 8
   },
   {
    "_defaultOrder": 24,
    "_isFastLaunch": false,
    "category": "Compute optimized",
    "gpuNum": 0,
    "hideHardwareSpecs": false,
    "memoryGiB": 32,
    "name": "ml.c5.4xlarge",
    "vcpuNum": 16
   },
   {
    "_defaultOrder": 25,
    "_isFastLaunch": false,
    "category": "Compute optimized",
    "gpuNum": 0,
    "hideHardwareSpecs": false,
    "memoryGiB": 72,
    "name": "ml.c5.9xlarge",
    "vcpuNum": 36
   },
   {
    "_defaultOrder": 26,
    "_isFastLaunch": false,
    "category": "Compute optimized",
    "gpuNum": 0,
    "hideHardwareSpecs": false,
    "memoryGiB": 96,
    "name": "ml.c5.12xlarge",
    "vcpuNum": 48
   },
   {
    "_defaultOrder": 27,
    "_isFastLaunch": false,
    "category": "Compute optimized",
    "gpuNum": 0,
    "hideHardwareSpecs": false,
    "memoryGiB": 144,
    "name": "ml.c5.18xlarge",
    "vcpuNum": 72
   },
   {
    "_defaultOrder": 28,
    "_isFastLaunch": false,
    "category": "Compute optimized",
    "gpuNum": 0,
    "hideHardwareSpecs": false,
    "memoryGiB": 192,
    "name": "ml.c5.24xlarge",
    "vcpuNum": 96
   },
   {
    "_defaultOrder": 29,
    "_isFastLaunch": true,
    "category": "Accelerated computing",
    "gpuNum": 1,
    "hideHardwareSpecs": false,
    "memoryGiB": 16,
    "name": "ml.g4dn.xlarge",
    "vcpuNum": 4
   },
   {
    "_defaultOrder": 30,
    "_isFastLaunch": false,
    "category": "Accelerated computing",
    "gpuNum": 1,
    "hideHardwareSpecs": false,
    "memoryGiB": 32,
    "name": "ml.g4dn.2xlarge",
    "vcpuNum": 8
   },
   {
    "_defaultOrder": 31,
    "_isFastLaunch": false,
    "category": "Accelerated computing",
    "gpuNum": 1,
    "hideHardwareSpecs": false,
    "memoryGiB": 64,
    "name": "ml.g4dn.4xlarge",
    "vcpuNum": 16
   },
   {
    "_defaultOrder": 32,
    "_isFastLaunch": false,
    "category": "Accelerated computing",
    "gpuNum": 1,
    "hideHardwareSpecs": false,
    "memoryGiB": 128,
    "name": "ml.g4dn.8xlarge",
    "vcpuNum": 32
   },
   {
    "_defaultOrder": 33,
    "_isFastLaunch": false,
    "category": "Accelerated computing",
    "gpuNum": 4,
    "hideHardwareSpecs": false,
    "memoryGiB": 192,
    "name": "ml.g4dn.12xlarge",
    "vcpuNum": 48
   },
   {
    "_defaultOrder": 34,
    "_isFastLaunch": false,
    "category": "Accelerated computing",
    "gpuNum": 1,
    "hideHardwareSpecs": false,
    "memoryGiB": 256,
    "name": "ml.g4dn.16xlarge",
    "vcpuNum": 64
   },
   {
    "_defaultOrder": 35,
    "_isFastLaunch": false,
    "category": "Accelerated computing",
    "gpuNum": 1,
    "hideHardwareSpecs": false,
    "memoryGiB": 61,
    "name": "ml.p3.2xlarge",
    "vcpuNum": 8
   },
   {
    "_defaultOrder": 36,
    "_isFastLaunch": false,
    "category": "Accelerated computing",
    "gpuNum": 4,
    "hideHardwareSpecs": false,
    "memoryGiB": 244,
    "name": "ml.p3.8xlarge",
    "vcpuNum": 32
   },
   {
    "_defaultOrder": 37,
    "_isFastLaunch": false,
    "category": "Accelerated computing",
    "gpuNum": 8,
    "hideHardwareSpecs": false,
    "memoryGiB": 488,
    "name": "ml.p3.16xlarge",
    "vcpuNum": 64
   },
   {
    "_defaultOrder": 38,
    "_isFastLaunch": false,
    "category": "Accelerated computing",
    "gpuNum": 8,
    "hideHardwareSpecs": false,
    "memoryGiB": 768,
    "name": "ml.p3dn.24xlarge",
    "vcpuNum": 96
   },
   {
    "_defaultOrder": 39,
    "_isFastLaunch": false,
    "category": "Memory Optimized",
    "gpuNum": 0,
    "hideHardwareSpecs": false,
    "memoryGiB": 16,
    "name": "ml.r5.large",
    "vcpuNum": 2
   },
   {
    "_defaultOrder": 40,
    "_isFastLaunch": false,
    "category": "Memory Optimized",
    "gpuNum": 0,
    "hideHardwareSpecs": false,
    "memoryGiB": 32,
    "name": "ml.r5.xlarge",
    "vcpuNum": 4
   },
   {
    "_defaultOrder": 41,
    "_isFastLaunch": false,
    "category": "Memory Optimized",
    "gpuNum": 0,
    "hideHardwareSpecs": false,
    "memoryGiB": 64,
    "name": "ml.r5.2xlarge",
    "vcpuNum": 8
   },
   {
    "_defaultOrder": 42,
    "_isFastLaunch": false,
    "category": "Memory Optimized",
    "gpuNum": 0,
    "hideHardwareSpecs": false,
    "memoryGiB": 128,
    "name": "ml.r5.4xlarge",
    "vcpuNum": 16
   },
   {
    "_defaultOrder": 43,
    "_isFastLaunch": false,
    "category": "Memory Optimized",
    "gpuNum": 0,
    "hideHardwareSpecs": false,
    "memoryGiB": 256,
    "name": "ml.r5.8xlarge",
    "vcpuNum": 32
   },
   {
    "_defaultOrder": 44,
    "_isFastLaunch": false,
    "category": "Memory Optimized",
    "gpuNum": 0,
    "hideHardwareSpecs": false,
    "memoryGiB": 384,
    "name": "ml.r5.12xlarge",
    "vcpuNum": 48
   },
   {
    "_defaultOrder": 45,
    "_isFastLaunch": false,
    "category": "Memory Optimized",
    "gpuNum": 0,
    "hideHardwareSpecs": false,
    "memoryGiB": 512,
    "name": "ml.r5.16xlarge",
    "vcpuNum": 64
   },
   {
    "_defaultOrder": 46,
    "_isFastLaunch": false,
    "category": "Memory Optimized",
    "gpuNum": 0,
    "hideHardwareSpecs": false,
    "memoryGiB": 768,
    "name": "ml.r5.24xlarge",
    "vcpuNum": 96
   },
   {
    "_defaultOrder": 47,
    "_isFastLaunch": false,
    "category": "Accelerated computing",
    "gpuNum": 1,
    "hideHardwareSpecs": false,
    "memoryGiB": 16,
    "name": "ml.g5.xlarge",
    "vcpuNum": 4
   },
   {
    "_defaultOrder": 48,
    "_isFastLaunch": false,
    "category": "Accelerated computing",
    "gpuNum": 1,
    "hideHardwareSpecs": false,
    "memoryGiB": 32,
    "name": "ml.g5.2xlarge",
    "vcpuNum": 8
   },
   {
    "_defaultOrder": 49,
    "_isFastLaunch": false,
    "category": "Accelerated computing",
    "gpuNum": 1,
    "hideHardwareSpecs": false,
    "memoryGiB": 64,
    "name": "ml.g5.4xlarge",
    "vcpuNum": 16
   },
   {
    "_defaultOrder": 50,
    "_isFastLaunch": false,
    "category": "Accelerated computing",
    "gpuNum": 1,
    "hideHardwareSpecs": false,
    "memoryGiB": 128,
    "name": "ml.g5.8xlarge",
    "vcpuNum": 32
   },
   {
    "_defaultOrder": 51,
    "_isFastLaunch": false,
    "category": "Accelerated computing",
    "gpuNum": 1,
    "hideHardwareSpecs": false,
    "memoryGiB": 256,
    "name": "ml.g5.16xlarge",
    "vcpuNum": 64
   },
   {
    "_defaultOrder": 52,
    "_isFastLaunch": false,
    "category": "Accelerated computing",
    "gpuNum": 4,
    "hideHardwareSpecs": false,
    "memoryGiB": 192,
    "name": "ml.g5.12xlarge",
    "vcpuNum": 48
   },
   {
    "_defaultOrder": 53,
    "_isFastLaunch": false,
    "category": "Accelerated computing",
    "gpuNum": 4,
    "hideHardwareSpecs": false,
    "memoryGiB": 384,
    "name": "ml.g5.24xlarge",
    "vcpuNum": 96
   },
   {
    "_defaultOrder": 54,
    "_isFastLaunch": false,
    "category": "Accelerated computing",
    "gpuNum": 8,
    "hideHardwareSpecs": false,
    "memoryGiB": 768,
    "name": "ml.g5.48xlarge",
    "vcpuNum": 192
   },
   {
    "_defaultOrder": 55,
    "_isFastLaunch": false,
    "category": "Accelerated computing",
    "gpuNum": 8,
    "hideHardwareSpecs": false,
    "memoryGiB": 1152,
    "name": "ml.p4d.24xlarge",
    "vcpuNum": 96
   },
   {
    "_defaultOrder": 56,
    "_isFastLaunch": false,
    "category": "Accelerated computing",
    "gpuNum": 8,
    "hideHardwareSpecs": false,
    "memoryGiB": 1152,
    "name": "ml.p4de.24xlarge",
    "vcpuNum": 96
   }
  ],
  "instance_type": "ml.m5.xlarge",
  "kernelspec": {
   "display_name": "base",
   "language": "python",
   "name": "python3"
  },
  "language_info": {
   "codemirror_mode": {
    "name": "ipython",
    "version": 3
   },
   "file_extension": ".py",
   "mimetype": "text/x-python",
   "name": "python",
   "nbconvert_exporter": "python",
   "pygments_lexer": "ipython3",
   "version": "3.10.13"
  }
 },
 "nbformat": 4,
 "nbformat_minor": 4
}
